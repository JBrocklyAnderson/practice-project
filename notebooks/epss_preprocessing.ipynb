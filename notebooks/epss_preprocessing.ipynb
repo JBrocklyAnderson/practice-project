{
 "cells": [
  {
   "cell_type": "markdown",
   "metadata": {},
   "source": [
    "# Preprocessing EPSS Data\n",
    "The Exploit Prediction Scoring System (EPSS) provides a score—a decimal-coded percentage value between $0$ ($0$% likely) and $1$ ($100$% likely)—that keeps track of how likely a given CVE is to be exploited in a rolling $30$-day window. This score is also converted into a percentile value that ranks the CVE's likelihood relative to all other CVEs. The data was gathered from FIRST and includes a full dataset with no empty values. This particular EPSS model was created $03/01/2023$ and the date in which the scores were computed is $09/21/2024$."
   ]
  },
  {
   "cell_type": "code",
   "execution_count": 1,
   "metadata": {},
   "outputs": [
    {
     "data": {
      "text/html": [
       "<div>\n",
       "<style scoped>\n",
       "    .dataframe tbody tr th:only-of-type {\n",
       "        vertical-align: middle;\n",
       "    }\n",
       "\n",
       "    .dataframe tbody tr th {\n",
       "        vertical-align: top;\n",
       "    }\n",
       "\n",
       "    .dataframe thead th {\n",
       "        text-align: right;\n",
       "    }\n",
       "</style>\n",
       "<table border=\"1\" class=\"dataframe\">\n",
       "  <thead>\n",
       "    <tr style=\"text-align: right;\">\n",
       "      <th></th>\n",
       "      <th>cve</th>\n",
       "      <th>epss</th>\n",
       "      <th>percentile</th>\n",
       "    </tr>\n",
       "  </thead>\n",
       "  <tbody>\n",
       "    <tr>\n",
       "      <th>0</th>\n",
       "      <td>CVE-1999-0001</td>\n",
       "      <td>0.00383</td>\n",
       "      <td>0.73343</td>\n",
       "    </tr>\n",
       "    <tr>\n",
       "      <th>1</th>\n",
       "      <td>CVE-1999-0002</td>\n",
       "      <td>0.02080</td>\n",
       "      <td>0.89305</td>\n",
       "    </tr>\n",
       "    <tr>\n",
       "      <th>2</th>\n",
       "      <td>CVE-1999-0003</td>\n",
       "      <td>0.04409</td>\n",
       "      <td>0.92563</td>\n",
       "    </tr>\n",
       "  </tbody>\n",
       "</table>\n",
       "</div>"
      ],
      "text/plain": [
       "             cve     epss  percentile\n",
       "0  CVE-1999-0001  0.00383     0.73343\n",
       "1  CVE-1999-0002  0.02080     0.89305\n",
       "2  CVE-1999-0003  0.04409     0.92563"
      ]
     },
     "execution_count": 1,
     "metadata": {},
     "output_type": "execute_result"
    }
   ],
   "source": [
    "import pandas as pd\n",
    "import numpy as np\n",
    "\n",
    "# Load the dataset\n",
    "epss = pd.read_csv('../data/EPSS/EPSS_data/EPSS_data.csv')\n",
    "epss.head(3)"
   ]
  },
  {
   "cell_type": "code",
   "execution_count": 2,
   "metadata": {},
   "outputs": [
    {
     "name": "stdout",
     "output_type": "stream",
     "text": [
      "<class 'pandas.core.frame.DataFrame'>\n",
      "RangeIndex: 260010 entries, 0 to 260009\n",
      "Data columns (total 3 columns):\n",
      " #   Column      Non-Null Count   Dtype  \n",
      "---  ------      --------------   -----  \n",
      " 0   cve         260010 non-null  object \n",
      " 1   epss        260010 non-null  float64\n",
      " 2   percentile  260010 non-null  float64\n",
      "dtypes: float64(2), object(1)\n",
      "memory usage: 6.0+ MB\n"
     ]
    }
   ],
   "source": [
    "epss.info()"
   ]
  },
  {
   "cell_type": "markdown",
   "metadata": {},
   "source": [
    "## Convert ID to Text Type"
   ]
  },
  {
   "cell_type": "code",
   "execution_count": 3,
   "metadata": {},
   "outputs": [],
   "source": [
    "epss['cve'] = epss['cve'].astype('string')"
   ]
  },
  {
   "cell_type": "markdown",
   "metadata": {},
   "source": [
    "## Rename Columns"
   ]
  },
  {
   "cell_type": "code",
   "execution_count": 7,
   "metadata": {},
   "outputs": [],
   "source": [
    "epss = epss.rename(columns={'cve': 'cve_id'})"
   ]
  },
  {
   "cell_type": "markdown",
   "metadata": {},
   "source": [
    "## Validate Consistency\n",
    "We'll produce a series of simple checks to make sure all the CVE IDs are valid and do not contain any extra white space characters. Then we'll make sure the `epss` and `percentile` are properly ranged before resaving the file as a `.parquet`."
   ]
  },
  {
   "cell_type": "code",
   "execution_count": 12,
   "metadata": {},
   "outputs": [
    {
     "name": "stdout",
     "output_type": "stream",
     "text": [
      "There are 0 incorrectly-formatted CVE IDs.\n",
      "epss has 0 out-of-range values.\n",
      "percentile has 0 out-of-range values.\n"
     ]
    }
   ],
   "source": [
    "# Remove the whitespace that was found\n",
    "epss['cve_id'] = epss['cve_id'].str.strip()\n",
    "\n",
    "# Check for invalid CVEs\n",
    "non_ideal_epss = epss[~epss['cve_id'].str.startswith('CVE-', na=True)]\n",
    "print(f'There are {len(non_ideal_epss)} incorrectly-formatted CVE IDs.')\n",
    "\n",
    "# Validate ranges\n",
    "cols = ['epss', 'percentile']\n",
    "\n",
    "for col in cols:\n",
    "    count = epss[(epss[col] < 0) | (epss[col] > 1)]\n",
    "    print(f'{col} has {len(count)} out-of-range values.')"
   ]
  },
  {
   "cell_type": "code",
   "execution_count": 13,
   "metadata": {},
   "outputs": [
    {
     "data": {
      "text/html": [
       "<div>\n",
       "<style scoped>\n",
       "    .dataframe tbody tr th:only-of-type {\n",
       "        vertical-align: middle;\n",
       "    }\n",
       "\n",
       "    .dataframe tbody tr th {\n",
       "        vertical-align: top;\n",
       "    }\n",
       "\n",
       "    .dataframe thead th {\n",
       "        text-align: right;\n",
       "    }\n",
       "</style>\n",
       "<table border=\"1\" class=\"dataframe\">\n",
       "  <thead>\n",
       "    <tr style=\"text-align: right;\">\n",
       "      <th></th>\n",
       "      <th>cve_id</th>\n",
       "      <th>epss</th>\n",
       "      <th>percentile</th>\n",
       "    </tr>\n",
       "  </thead>\n",
       "  <tbody>\n",
       "    <tr>\n",
       "      <th>0</th>\n",
       "      <td>CVE-1999-0001</td>\n",
       "      <td>0.00383</td>\n",
       "      <td>0.73343</td>\n",
       "    </tr>\n",
       "    <tr>\n",
       "      <th>1</th>\n",
       "      <td>CVE-1999-0002</td>\n",
       "      <td>0.02080</td>\n",
       "      <td>0.89305</td>\n",
       "    </tr>\n",
       "    <tr>\n",
       "      <th>2</th>\n",
       "      <td>CVE-1999-0003</td>\n",
       "      <td>0.04409</td>\n",
       "      <td>0.92563</td>\n",
       "    </tr>\n",
       "    <tr>\n",
       "      <th>3</th>\n",
       "      <td>CVE-1999-0004</td>\n",
       "      <td>0.00917</td>\n",
       "      <td>0.83132</td>\n",
       "    </tr>\n",
       "    <tr>\n",
       "      <th>4</th>\n",
       "      <td>CVE-1999-0005</td>\n",
       "      <td>0.91963</td>\n",
       "      <td>0.99000</td>\n",
       "    </tr>\n",
       "  </tbody>\n",
       "</table>\n",
       "</div>"
      ],
      "text/plain": [
       "          cve_id     epss  percentile\n",
       "0  CVE-1999-0001  0.00383     0.73343\n",
       "1  CVE-1999-0002  0.02080     0.89305\n",
       "2  CVE-1999-0003  0.04409     0.92563\n",
       "3  CVE-1999-0004  0.00917     0.83132\n",
       "4  CVE-1999-0005  0.91963     0.99000"
      ]
     },
     "execution_count": 13,
     "metadata": {},
     "output_type": "execute_result"
    }
   ],
   "source": [
    "epss.head()"
   ]
  },
  {
   "cell_type": "markdown",
   "metadata": {},
   "source": [
    "## Saving the Data"
   ]
  },
  {
   "cell_type": "code",
   "execution_count": 14,
   "metadata": {},
   "outputs": [],
   "source": [
    "epss.to_parquet(path='../data/EPSS/epss_data.parquet', index=None)"
   ]
  }
 ],
 "metadata": {
  "kernelspec": {
   "display_name": "ml-env",
   "language": "python",
   "name": "python3"
  },
  "language_info": {
   "codemirror_mode": {
    "name": "ipython",
    "version": 3
   },
   "file_extension": ".py",
   "mimetype": "text/x-python",
   "name": "python",
   "nbconvert_exporter": "python",
   "pygments_lexer": "ipython3",
   "version": "3.10.13"
  }
 },
 "nbformat": 4,
 "nbformat_minor": 2
}
