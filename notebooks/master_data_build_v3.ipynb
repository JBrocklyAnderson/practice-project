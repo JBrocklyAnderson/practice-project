{
 "cells": [
  {
   "cell_type": "markdown",
   "metadata": {},
   "source": [
    "# Building the Master Dataset\n",
    "This notebook will track the development of the master dataset upon which all our analyses will be based. Data from MITRE's CVE Project and IoT CVEs, the NVD, FIRST's EPSS data, and aggregated nation-state attack (NSA) data, as well as a smattering of IoT CVEs found from various articles (e.g. Check Point) will be merged via appropriate methods to produce a dataset that can offer a comprehensive analysis in the pursuit of building a holistic metric with which to help the (industrial) internet-of-things industry develop their interests in cybersecurity against advanced persistent threats (APT).\n",
    "\n",
    "In the process of merging this data together, certain duplicate or empty values may be created that need to be dealt with accordingly. The actual analysis of the resulting dataset will be undertaken in a separate notebook (`master_analysis`) for clarity and in the interest of a separation of concerns."
   ]
  },
  {
   "cell_type": "code",
   "execution_count": 1,
   "metadata": {},
   "outputs": [],
   "source": [
    "# Import libraries\n",
    "import pandas as pd\n",
    "import numpy as np\n",
    "import matplotlib.pyplot as plt\n",
    "import seaborn as sns\n",
    "\n",
    "# Load the datasets\n",
    "cves = pd.read_parquet(path='../data/CVE_Project/cvelistV5/cve_list_v3.parquet')\n",
    "epss = pd.read_parquet(path='../data/EPSS/epss_data.parquet')\n",
    "iots = pd.read_parquet(path='../data/MITRE/mitre_iot_cves_v1.parquet')\n",
    "nvd = pd.read_parquet(path='../data/NVD/nvd_data_v1.parquet')\n",
    "nsa = pd.read_parquet(path='../data/NSA/mock_nsa_data_v3.parquet')"
   ]
  },
  {
   "cell_type": "code",
   "execution_count": 13,
   "metadata": {},
   "outputs": [
    {
     "name": "stdout",
     "output_type": "stream",
     "text": [
      "<class 'pandas.core.frame.DataFrame'>\n",
      "RangeIndex: 250171 entries, 0 to 250170\n",
      "Data columns (total 7 columns):\n",
      " #   Column       Non-Null Count   Dtype              \n",
      "---  ------       --------------   -----              \n",
      " 0   cve_id       250171 non-null  string             \n",
      " 1   description  250171 non-null  string             \n",
      " 2   date_known   194415 non-null  datetime64[ns, UTC]\n",
      " 3   cvss_v3      69256 non-null   float64            \n",
      " 4   cvss_v3_cat  69256 non-null   category           \n",
      " 5   vendor       250023 non-null  string             \n",
      " 6   product      250057 non-null  string             \n",
      "dtypes: category(1), datetime64[ns, UTC](1), float64(1), string(4)\n",
      "memory usage: 11.7 MB\n"
     ]
    }
   ],
   "source": [
    "cves.info()"
   ]
  },
  {
   "cell_type": "code",
   "execution_count": 14,
   "metadata": {},
   "outputs": [
    {
     "name": "stdout",
     "output_type": "stream",
     "text": [
      "<class 'pandas.core.frame.DataFrame'>\n",
      "RangeIndex: 260010 entries, 0 to 260009\n",
      "Data columns (total 3 columns):\n",
      " #   Column      Non-Null Count   Dtype  \n",
      "---  ------      --------------   -----  \n",
      " 0   cve_id      260010 non-null  string \n",
      " 1   epss        260010 non-null  float64\n",
      " 2   percentile  260010 non-null  float64\n",
      "dtypes: float64(2), string(1)\n",
      "memory usage: 6.0 MB\n"
     ]
    }
   ],
   "source": [
    "epss.info()"
   ]
  },
  {
   "cell_type": "code",
   "execution_count": 15,
   "metadata": {},
   "outputs": [
    {
     "name": "stdout",
     "output_type": "stream",
     "text": [
      "<class 'pandas.core.frame.DataFrame'>\n",
      "RangeIndex: 1088 entries, 0 to 1087\n",
      "Data columns (total 2 columns):\n",
      " #   Column       Non-Null Count  Dtype \n",
      "---  ------       --------------  ----- \n",
      " 0   cve_id       1088 non-null   string\n",
      " 1   description  1088 non-null   string\n",
      "dtypes: string(2)\n",
      "memory usage: 17.1 KB\n"
     ]
    }
   ],
   "source": [
    "iots.info()"
   ]
  },
  {
   "cell_type": "code",
   "execution_count": 2,
   "metadata": {},
   "outputs": [
    {
     "name": "stdout",
     "output_type": "stream",
     "text": [
      "<class 'pandas.core.frame.DataFrame'>\n",
      "RangeIndex: 1088 entries, 0 to 1087\n",
      "Data columns (total 3 columns):\n",
      " #   Column      Non-Null Count  Dtype              \n",
      "---  ------      --------------  -----              \n",
      " 0   cve_id      1088 non-null   string             \n",
      " 1   date_known  1088 non-null   datetime64[ns, UTC]\n",
      " 2   cvss_v3     1088 non-null   float64            \n",
      "dtypes: datetime64[ns, UTC](1), float64(1), string(1)\n",
      "memory usage: 25.6 KB\n"
     ]
    }
   ],
   "source": [
    "nvd.info()"
   ]
  },
  {
   "cell_type": "code",
   "execution_count": 17,
   "metadata": {},
   "outputs": [
    {
     "name": "stdout",
     "output_type": "stream",
     "text": [
      "<class 'pandas.core.frame.DataFrame'>\n",
      "RangeIndex: 87 entries, 0 to 86\n",
      "Data columns (total 14 columns):\n",
      " #   Column                 Non-Null Count  Dtype         \n",
      "---  ------                 --------------  -----         \n",
      " 0   attack_name            87 non-null     category      \n",
      " 1   cve_list_date          67 non-null     datetime64[ns]\n",
      " 2   date_of_first_exploit  67 non-null     datetime64[ns]\n",
      " 3   patch_release_date     67 non-null     datetime64[ns]\n",
      " 4   cvss                   67 non-null     float64       \n",
      " 5   cvss_status            67 non-null     category      \n",
      " 6   days_to_patch_release  67 non-null     Int64         \n",
      " 7   days_to_first_exploit  67 non-null     Int64         \n",
      " 8   year_start             80 non-null     Int64         \n",
      " 9   year_end               80 non-null     Int64         \n",
      " 10  attribution_group      48 non-null     category      \n",
      " 11  attribution_state      79 non-null     category      \n",
      " 12  cve_id                 83 non-null     string        \n",
      " 13  description            82 non-null     string        \n",
      "dtypes: Int64(4), category(4), datetime64[ns](3), float64(1), string(2)\n",
      "memory usage: 9.1 KB\n"
     ]
    }
   ],
   "source": [
    "nsa.info()"
   ]
  },
  {
   "cell_type": "code",
   "execution_count": 18,
   "metadata": {},
   "outputs": [
    {
     "data": {
      "text/html": [
       "<div>\n",
       "<style scoped>\n",
       "    .dataframe tbody tr th:only-of-type {\n",
       "        vertical-align: middle;\n",
       "    }\n",
       "\n",
       "    .dataframe tbody tr th {\n",
       "        vertical-align: top;\n",
       "    }\n",
       "\n",
       "    .dataframe thead th {\n",
       "        text-align: right;\n",
       "    }\n",
       "</style>\n",
       "<table border=\"1\" class=\"dataframe\">\n",
       "  <thead>\n",
       "    <tr style=\"text-align: right;\">\n",
       "      <th></th>\n",
       "      <th>cve_id</th>\n",
       "      <th>description</th>\n",
       "      <th>date_known</th>\n",
       "      <th>cvss_v3</th>\n",
       "      <th>cvss_v3_cat</th>\n",
       "      <th>vendor</th>\n",
       "      <th>product</th>\n",
       "    </tr>\n",
       "  </thead>\n",
       "  <tbody>\n",
       "    <tr>\n",
       "      <th>0</th>\n",
       "      <td>CVE-1999-0001</td>\n",
       "      <td>ip_input.c in BSD-derived TCP/IP implementatio...</td>\n",
       "      <td>2000-02-04 05:00:00+00:00</td>\n",
       "      <td>NaN</td>\n",
       "      <td>NaN</td>\n",
       "      <td>n/a</td>\n",
       "      <td>n/a</td>\n",
       "    </tr>\n",
       "    <tr>\n",
       "      <th>1</th>\n",
       "      <td>CVE-1999-0002</td>\n",
       "      <td>Buffer overflow in NFS mountd gives root acces...</td>\n",
       "      <td>1999-09-29 04:00:00+00:00</td>\n",
       "      <td>NaN</td>\n",
       "      <td>NaN</td>\n",
       "      <td>n/a</td>\n",
       "      <td>n/a</td>\n",
       "    </tr>\n",
       "    <tr>\n",
       "      <th>2</th>\n",
       "      <td>CVE-1999-0003</td>\n",
       "      <td>Execute commands as root via buffer overflow i...</td>\n",
       "      <td>1999-09-29 04:00:00+00:00</td>\n",
       "      <td>NaN</td>\n",
       "      <td>NaN</td>\n",
       "      <td>n/a</td>\n",
       "      <td>n/a</td>\n",
       "    </tr>\n",
       "    <tr>\n",
       "      <th>3</th>\n",
       "      <td>CVE-1999-0004</td>\n",
       "      <td>MIME buffer overflow in email clients, e.g. So...</td>\n",
       "      <td>2000-02-04 05:00:00+00:00</td>\n",
       "      <td>NaN</td>\n",
       "      <td>NaN</td>\n",
       "      <td>n/a</td>\n",
       "      <td>n/a</td>\n",
       "    </tr>\n",
       "    <tr>\n",
       "      <th>4</th>\n",
       "      <td>CVE-1999-0005</td>\n",
       "      <td>Arbitrary command execution via IMAP buffer ov...</td>\n",
       "      <td>1999-09-29 04:00:00+00:00</td>\n",
       "      <td>NaN</td>\n",
       "      <td>NaN</td>\n",
       "      <td>n/a</td>\n",
       "      <td>n/a</td>\n",
       "    </tr>\n",
       "  </tbody>\n",
       "</table>\n",
       "</div>"
      ],
      "text/plain": [
       "          cve_id                                        description  \\\n",
       "0  CVE-1999-0001  ip_input.c in BSD-derived TCP/IP implementatio...   \n",
       "1  CVE-1999-0002  Buffer overflow in NFS mountd gives root acces...   \n",
       "2  CVE-1999-0003  Execute commands as root via buffer overflow i...   \n",
       "3  CVE-1999-0004  MIME buffer overflow in email clients, e.g. So...   \n",
       "4  CVE-1999-0005  Arbitrary command execution via IMAP buffer ov...   \n",
       "\n",
       "                 date_known  cvss_v3 cvss_v3_cat vendor product  \n",
       "0 2000-02-04 05:00:00+00:00      NaN         NaN    n/a     n/a  \n",
       "1 1999-09-29 04:00:00+00:00      NaN         NaN    n/a     n/a  \n",
       "2 1999-09-29 04:00:00+00:00      NaN         NaN    n/a     n/a  \n",
       "3 2000-02-04 05:00:00+00:00      NaN         NaN    n/a     n/a  \n",
       "4 1999-09-29 04:00:00+00:00      NaN         NaN    n/a     n/a  "
      ]
     },
     "execution_count": 18,
     "metadata": {},
     "output_type": "execute_result"
    }
   ],
   "source": [
    "cves.head()"
   ]
  },
  {
   "cell_type": "code",
   "execution_count": 19,
   "metadata": {},
   "outputs": [
    {
     "data": {
      "text/html": [
       "<div>\n",
       "<style scoped>\n",
       "    .dataframe tbody tr th:only-of-type {\n",
       "        vertical-align: middle;\n",
       "    }\n",
       "\n",
       "    .dataframe tbody tr th {\n",
       "        vertical-align: top;\n",
       "    }\n",
       "\n",
       "    .dataframe thead th {\n",
       "        text-align: right;\n",
       "    }\n",
       "</style>\n",
       "<table border=\"1\" class=\"dataframe\">\n",
       "  <thead>\n",
       "    <tr style=\"text-align: right;\">\n",
       "      <th></th>\n",
       "      <th>cve_id</th>\n",
       "      <th>epss</th>\n",
       "      <th>percentile</th>\n",
       "    </tr>\n",
       "  </thead>\n",
       "  <tbody>\n",
       "    <tr>\n",
       "      <th>0</th>\n",
       "      <td>CVE-1999-0001</td>\n",
       "      <td>0.00383</td>\n",
       "      <td>0.73343</td>\n",
       "    </tr>\n",
       "    <tr>\n",
       "      <th>1</th>\n",
       "      <td>CVE-1999-0002</td>\n",
       "      <td>0.02080</td>\n",
       "      <td>0.89305</td>\n",
       "    </tr>\n",
       "    <tr>\n",
       "      <th>2</th>\n",
       "      <td>CVE-1999-0003</td>\n",
       "      <td>0.04409</td>\n",
       "      <td>0.92563</td>\n",
       "    </tr>\n",
       "    <tr>\n",
       "      <th>3</th>\n",
       "      <td>CVE-1999-0004</td>\n",
       "      <td>0.00917</td>\n",
       "      <td>0.83132</td>\n",
       "    </tr>\n",
       "    <tr>\n",
       "      <th>4</th>\n",
       "      <td>CVE-1999-0005</td>\n",
       "      <td>0.91963</td>\n",
       "      <td>0.99000</td>\n",
       "    </tr>\n",
       "  </tbody>\n",
       "</table>\n",
       "</div>"
      ],
      "text/plain": [
       "          cve_id     epss  percentile\n",
       "0  CVE-1999-0001  0.00383     0.73343\n",
       "1  CVE-1999-0002  0.02080     0.89305\n",
       "2  CVE-1999-0003  0.04409     0.92563\n",
       "3  CVE-1999-0004  0.00917     0.83132\n",
       "4  CVE-1999-0005  0.91963     0.99000"
      ]
     },
     "execution_count": 19,
     "metadata": {},
     "output_type": "execute_result"
    }
   ],
   "source": [
    "epss.head()"
   ]
  },
  {
   "cell_type": "code",
   "execution_count": 20,
   "metadata": {},
   "outputs": [
    {
     "data": {
      "text/html": [
       "<div>\n",
       "<style scoped>\n",
       "    .dataframe tbody tr th:only-of-type {\n",
       "        vertical-align: middle;\n",
       "    }\n",
       "\n",
       "    .dataframe tbody tr th {\n",
       "        vertical-align: top;\n",
       "    }\n",
       "\n",
       "    .dataframe thead th {\n",
       "        text-align: right;\n",
       "    }\n",
       "</style>\n",
       "<table border=\"1\" class=\"dataframe\">\n",
       "  <thead>\n",
       "    <tr style=\"text-align: right;\">\n",
       "      <th></th>\n",
       "      <th>cve_id</th>\n",
       "      <th>description</th>\n",
       "    </tr>\n",
       "  </thead>\n",
       "  <tbody>\n",
       "    <tr>\n",
       "      <th>0</th>\n",
       "      <td>CVE-2024-29195</td>\n",
       "      <td>The azure-c-shared-utility is a C library for ...</td>\n",
       "    </tr>\n",
       "    <tr>\n",
       "      <th>1</th>\n",
       "      <td>CVE-2024-29055</td>\n",
       "      <td>Microsoft Defender for IoT Elevation of Privil...</td>\n",
       "    </tr>\n",
       "    <tr>\n",
       "      <th>2</th>\n",
       "      <td>CVE-2024-29054</td>\n",
       "      <td>Microsoft Defender for IoT Elevation of Privil...</td>\n",
       "    </tr>\n",
       "    <tr>\n",
       "      <th>3</th>\n",
       "      <td>CVE-2024-29053</td>\n",
       "      <td>Microsoft Defender for IoT Remote Code Executi...</td>\n",
       "    </tr>\n",
       "    <tr>\n",
       "      <th>4</th>\n",
       "      <td>CVE-2024-21324</td>\n",
       "      <td>Microsoft Defender for IoT Elevation of Privil...</td>\n",
       "    </tr>\n",
       "  </tbody>\n",
       "</table>\n",
       "</div>"
      ],
      "text/plain": [
       "           cve_id                                        description\n",
       "0  CVE-2024-29195  The azure-c-shared-utility is a C library for ...\n",
       "1  CVE-2024-29055  Microsoft Defender for IoT Elevation of Privil...\n",
       "2  CVE-2024-29054  Microsoft Defender for IoT Elevation of Privil...\n",
       "3  CVE-2024-29053  Microsoft Defender for IoT Remote Code Executi...\n",
       "4  CVE-2024-21324  Microsoft Defender for IoT Elevation of Privil..."
      ]
     },
     "execution_count": 20,
     "metadata": {},
     "output_type": "execute_result"
    }
   ],
   "source": [
    "iots.head()"
   ]
  },
  {
   "cell_type": "code",
   "execution_count": 11,
   "metadata": {},
   "outputs": [
    {
     "data": {
      "text/html": [
       "<div>\n",
       "<style scoped>\n",
       "    .dataframe tbody tr th:only-of-type {\n",
       "        vertical-align: middle;\n",
       "    }\n",
       "\n",
       "    .dataframe tbody tr th {\n",
       "        vertical-align: top;\n",
       "    }\n",
       "\n",
       "    .dataframe thead th {\n",
       "        text-align: right;\n",
       "    }\n",
       "</style>\n",
       "<table border=\"1\" class=\"dataframe\">\n",
       "  <thead>\n",
       "    <tr style=\"text-align: right;\">\n",
       "      <th></th>\n",
       "      <th>cve_id</th>\n",
       "      <th>cve_list_date</th>\n",
       "      <th>date_of_first_exploit</th>\n",
       "      <th>patch_release_date</th>\n",
       "      <th>cvss</th>\n",
       "      <th>cvss_status</th>\n",
       "      <th>days_to_patch_release</th>\n",
       "      <th>days_to_first_exploit</th>\n",
       "      <th>attack_name</th>\n",
       "      <th>year_start</th>\n",
       "      <th>year_end</th>\n",
       "      <th>attribution_group</th>\n",
       "      <th>attribution_state</th>\n",
       "      <th>description</th>\n",
       "    </tr>\n",
       "  </thead>\n",
       "  <tbody>\n",
       "    <tr>\n",
       "      <th>0</th>\n",
       "      <td>CVE-2014-0160</td>\n",
       "      <td>NaT</td>\n",
       "      <td>NaT</td>\n",
       "      <td>NaT</td>\n",
       "      <td>NaN</td>\n",
       "      <td>NaN</td>\n",
       "      <td>&lt;NA&gt;</td>\n",
       "      <td>&lt;NA&gt;</td>\n",
       "      <td>[Heartbleed Exploits]</td>\n",
       "      <td>2014</td>\n",
       "      <td>2014</td>\n",
       "      <td>[None]</td>\n",
       "      <td>[China]</td>\n",
       "      <td>The (1) TLS and (2) DTLS implementations in Op...</td>\n",
       "    </tr>\n",
       "    <tr>\n",
       "      <th>1</th>\n",
       "      <td>CVE-2014-0630</td>\n",
       "      <td>2014-01-31 00:00:00+00:00</td>\n",
       "      <td>2015-12-23 00:00:00+00:00</td>\n",
       "      <td>2014-07-01 00:00:00+00:00</td>\n",
       "      <td>5.0</td>\n",
       "      <td>medium</td>\n",
       "      <td>151</td>\n",
       "      <td>691</td>\n",
       "      <td>[BlackEnergy Attack on Ukraine, Stuxnet]</td>\n",
       "      <td>2015</td>\n",
       "      <td>2015</td>\n",
       "      <td>[Sandworm]</td>\n",
       "      <td>[Russia, US]</td>\n",
       "      <td>EMC Documentum TaskSpace (TSP) 6.7SP1 before P...</td>\n",
       "    </tr>\n",
       "    <tr>\n",
       "      <th>2</th>\n",
       "      <td>CVE-2014-4166</td>\n",
       "      <td>2014-10-07 00:00:00+00:00</td>\n",
       "      <td>2015-12-23 00:00:00+00:00</td>\n",
       "      <td>2015-01-12 00:00:00+00:00</td>\n",
       "      <td>5.0</td>\n",
       "      <td>medium</td>\n",
       "      <td>97</td>\n",
       "      <td>442</td>\n",
       "      <td>[BlackEnergy Attack on Ukraine, Stuxnet]</td>\n",
       "      <td>2015</td>\n",
       "      <td>2015</td>\n",
       "      <td>[Sandworm]</td>\n",
       "      <td>[Russia, US]</td>\n",
       "      <td>Cross-site scripting (XSS) vulnerability in th...</td>\n",
       "    </tr>\n",
       "    <tr>\n",
       "      <th>3</th>\n",
       "      <td>CVE-2014-6485</td>\n",
       "      <td>2014-10-14 00:00:00+00:00</td>\n",
       "      <td>2015-12-23 00:00:00+00:00</td>\n",
       "      <td>2014-12-10 00:00:00+00:00</td>\n",
       "      <td>7.5</td>\n",
       "      <td>high</td>\n",
       "      <td>57</td>\n",
       "      <td>435</td>\n",
       "      <td>[BlackEnergy Attack on Ukraine, Stuxnet]</td>\n",
       "      <td>2015</td>\n",
       "      <td>2015</td>\n",
       "      <td>[Sandworm]</td>\n",
       "      <td>[Russia, US]</td>\n",
       "      <td>Unspecified vulnerability in Oracle Java SE 8u...</td>\n",
       "    </tr>\n",
       "    <tr>\n",
       "      <th>4</th>\n",
       "      <td>CVE-2014-8361</td>\n",
       "      <td>2014-09-23 00:00:00+00:00</td>\n",
       "      <td>2014-10-01 00:00:00+00:00</td>\n",
       "      <td>2015-05-05 00:00:00+00:00</td>\n",
       "      <td>9.3</td>\n",
       "      <td>critical</td>\n",
       "      <td>224</td>\n",
       "      <td>8</td>\n",
       "      <td>[Mirai Botnet]</td>\n",
       "      <td>&lt;NA&gt;</td>\n",
       "      <td>&lt;NA&gt;</td>\n",
       "      <td>[]</td>\n",
       "      <td>[]</td>\n",
       "      <td>The miniigd SOAP service in Realtek SDK allows...</td>\n",
       "    </tr>\n",
       "  </tbody>\n",
       "</table>\n",
       "</div>"
      ],
      "text/plain": [
       "          cve_id             cve_list_date     date_of_first_exploit  \\\n",
       "0  CVE-2014-0160                       NaT                       NaT   \n",
       "1  CVE-2014-0630 2014-01-31 00:00:00+00:00 2015-12-23 00:00:00+00:00   \n",
       "2  CVE-2014-4166 2014-10-07 00:00:00+00:00 2015-12-23 00:00:00+00:00   \n",
       "3  CVE-2014-6485 2014-10-14 00:00:00+00:00 2015-12-23 00:00:00+00:00   \n",
       "4  CVE-2014-8361 2014-09-23 00:00:00+00:00 2014-10-01 00:00:00+00:00   \n",
       "\n",
       "         patch_release_date  cvss cvss_status  days_to_patch_release  \\\n",
       "0                       NaT   NaN         NaN                   <NA>   \n",
       "1 2014-07-01 00:00:00+00:00   5.0      medium                    151   \n",
       "2 2015-01-12 00:00:00+00:00   5.0      medium                     97   \n",
       "3 2014-12-10 00:00:00+00:00   7.5        high                     57   \n",
       "4 2015-05-05 00:00:00+00:00   9.3    critical                    224   \n",
       "\n",
       "   days_to_first_exploit                               attack_name  \\\n",
       "0                   <NA>                     [Heartbleed Exploits]   \n",
       "1                    691  [BlackEnergy Attack on Ukraine, Stuxnet]   \n",
       "2                    442  [BlackEnergy Attack on Ukraine, Stuxnet]   \n",
       "3                    435  [BlackEnergy Attack on Ukraine, Stuxnet]   \n",
       "4                      8                            [Mirai Botnet]   \n",
       "\n",
       "   year_start  year_end attribution_group attribution_state  \\\n",
       "0        2014      2014            [None]           [China]   \n",
       "1        2015      2015        [Sandworm]      [Russia, US]   \n",
       "2        2015      2015        [Sandworm]      [Russia, US]   \n",
       "3        2015      2015        [Sandworm]      [Russia, US]   \n",
       "4        <NA>      <NA>                []                []   \n",
       "\n",
       "                                         description  \n",
       "0  The (1) TLS and (2) DTLS implementations in Op...  \n",
       "1  EMC Documentum TaskSpace (TSP) 6.7SP1 before P...  \n",
       "2  Cross-site scripting (XSS) vulnerability in th...  \n",
       "3  Unspecified vulnerability in Oracle Java SE 8u...  \n",
       "4  The miniigd SOAP service in Realtek SDK allows...  "
      ]
     },
     "execution_count": 11,
     "metadata": {},
     "output_type": "execute_result"
    }
   ],
   "source": [
    "nsa.head()"
   ]
  },
  {
   "cell_type": "markdown",
   "metadata": {},
   "source": [
    "## Merge Strategy\n",
    "The goal of this merge strategy is to combine data from five distinct dataframes: `iots`, `cves`, `epss`, `nvd`, and `nsa`. The merge will begin by a series of leftward merges into the `iots` dataframe—since we're focused on IoT CVEs—to preserve its integreity as the core base of our master data. We will finalize the working copy of the master data through an outward merge with `nsa` since this contains relevant NSA data that we don't want to filter out. Sometimes, if the merge key is not the only column of the same name across both tables, and if the merge key is the only column we're merging from, then both columns from both tables will be merged and each will be appended with an `_x` and a `_y`, respectively. Because of this, it may be necessary to combine these columns and drop the duplicates after each successful merge."
   ]
  },
  {
   "cell_type": "code",
   "execution_count": 2,
   "metadata": {},
   "outputs": [],
   "source": [
    "# Helper function to combine columns and drop their duplicates\n",
    "def combine_and_drop(df, cols: dict):\n",
    "    \"\"\"\n",
    "    This function takes a dataframe and a dictionary containing a list of\n",
    "    columns to merge and drop whose key is the name of the resultant column.\n",
    "    \"\"\"\n",
    "    # Loop through dictionary to combine columns\n",
    "    for result, source in cols.items():\n",
    "        if \"date_known\" in result:\n",
    "            # Take earliest date between the two\n",
    "            df[result] = df[[source[0], source[1]]].min(axis=1)\n",
    "        else:\n",
    "            df[result] = df[source[0]].combine_first(df[source[1]])\n",
    "    # Drop duplicate columns\n",
    "    df = df.drop(\n",
    "        columns=[\n",
    "            col for result, source in cols.items() for col in source if col != result\n",
    "        ]\n",
    "    )\n",
    "    return df"
   ]
  },
  {
   "cell_type": "markdown",
   "metadata": {},
   "source": [
    "### Merge with `cves`"
   ]
  },
  {
   "cell_type": "code",
   "execution_count": 3,
   "metadata": {},
   "outputs": [],
   "source": [
    "df = iots.merge(cves, on='cve_id', how='left')\n",
    "\n",
    "# Dictionary of columns to combine\n",
    "cols_to_combine = {\n",
    "    'description': ['description_x', 'description_y']\n",
    "}\n",
    "\n",
    "df = combine_and_drop(df, cols_to_combine)"
   ]
  },
  {
   "cell_type": "markdown",
   "metadata": {},
   "source": [
    "### Merge with `epss`"
   ]
  },
  {
   "cell_type": "code",
   "execution_count": 4,
   "metadata": {},
   "outputs": [],
   "source": [
    "df = df.merge(epss, on='cve_id', how='left')"
   ]
  },
  {
   "cell_type": "markdown",
   "metadata": {},
   "source": [
    "### Merge with `nvd`"
   ]
  },
  {
   "cell_type": "code",
   "execution_count": 5,
   "metadata": {},
   "outputs": [],
   "source": [
    "df = df.merge(nvd, on='cve_id', how='left')\n",
    "\n",
    "cols_to_combine = {\n",
    "    'date_known': ['date_known_x', 'date_known_y'],\n",
    "    'cvss_v3': ['cvss_v3_x', 'cvss_v3_y']\n",
    "}\n",
    "\n",
    "df = combine_and_drop(df, cols_to_combine)"
   ]
  },
  {
   "cell_type": "code",
   "execution_count": 18,
   "metadata": {},
   "outputs": [
    {
     "name": "stdout",
     "output_type": "stream",
     "text": [
      "<class 'pandas.core.frame.DataFrame'>\n",
      "RangeIndex: 1088 entries, 0 to 1087\n",
      "Data columns (total 18 columns):\n",
      " #   Column                 Non-Null Count  Dtype              \n",
      "---  ------                 --------------  -----              \n",
      " 0   cve_id                 1088 non-null   string             \n",
      " 1   cvss_v3_cat            481 non-null    category           \n",
      " 2   vendor                 1088 non-null   string             \n",
      " 3   product                1088 non-null   string             \n",
      " 4   epss                   1088 non-null   float64            \n",
      " 5   percentile             1088 non-null   float64            \n",
      " 6   date_known             1088 non-null   datetime64[ns, UTC]\n",
      " 7   cvss_v3                1088 non-null   float64            \n",
      " 8   date_of_first_exploit  0 non-null      datetime64[ns, UTC]\n",
      " 9   patch_release_date     0 non-null      datetime64[ns, UTC]\n",
      " 10  days_to_patch_release  0 non-null      Int64              \n",
      " 11  days_to_first_exploit  0 non-null      Int64              \n",
      " 12  attack_name            0 non-null      object             \n",
      " 13  year_start             0 non-null      Int64              \n",
      " 14  year_end               0 non-null      Int64              \n",
      " 15  attribution_group      0 non-null      object             \n",
      " 16  attribution_state      0 non-null      object             \n",
      " 17  description            1088 non-null   string             \n",
      "dtypes: Int64(4), category(1), datetime64[ns, UTC](3), float64(3), object(3), string(4)\n",
      "memory usage: 150.1+ KB\n"
     ]
    }
   ],
   "source": [
    "df.info()"
   ]
  },
  {
   "cell_type": "markdown",
   "metadata": {},
   "source": [
    "### Merge with `nsa`"
   ]
  },
  {
   "cell_type": "code",
   "execution_count": 7,
   "metadata": {},
   "outputs": [],
   "source": [
    "df = df.merge(nsa, on='cve_id', how='outer')\n",
    "\n",
    "cols_to_combine = {\n",
    "    'description': ['description_x', 'description_y'],\n",
    "    'cvss_v3': ['cvss_v3', 'cvss'],\n",
    "    'cvss_v3_cat': ['cvss_v3_cat', 'cvss_status'],\n",
    "    'date_known': ['date_known', 'cve_list_date']\n",
    "}\n",
    "\n",
    "df = combine_and_drop(df, cols_to_combine)"
   ]
  },
  {
   "cell_type": "code",
   "execution_count": 13,
   "metadata": {},
   "outputs": [
    {
     "name": "stdout",
     "output_type": "stream",
     "text": [
      "<class 'pandas.core.frame.DataFrame'>\n",
      "RangeIndex: 1136 entries, 0 to 1135\n",
      "Data columns (total 18 columns):\n",
      " #   Column                 Non-Null Count  Dtype              \n",
      "---  ------                 --------------  -----              \n",
      " 0   cve_id                 1136 non-null   string             \n",
      " 1   date_of_first_exploit  30 non-null     datetime64[ns, UTC]\n",
      " 2   patch_release_date     30 non-null     datetime64[ns, UTC]\n",
      " 3   days_to_patch_release  30 non-null     Int64              \n",
      " 4   days_to_first_exploit  30 non-null     Int64              \n",
      " 5   attack_name            48 non-null     object             \n",
      " 6   year_start             37 non-null     Int64              \n",
      " 7   year_end               37 non-null     Int64              \n",
      " 8   attribution_group      48 non-null     object             \n",
      " 9   attribution_state      48 non-null     object             \n",
      " 10  cvss_v3_cat            515 non-null    category           \n",
      " 11  vendor                 1135 non-null   string             \n",
      " 12  product                1135 non-null   string             \n",
      " 13  date_known             1135 non-null   datetime64[ns, UTC]\n",
      " 14  cvss_v3                1122 non-null   float64            \n",
      " 15  description            1135 non-null   string             \n",
      " 16  epss                   1135 non-null   float64            \n",
      " 17  percentile             1135 non-null   float64            \n",
      "dtypes: Int64(4), category(1), datetime64[ns, UTC](3), float64(3), object(3), string(4)\n",
      "memory usage: 156.8+ KB\n"
     ]
    }
   ],
   "source": [
    "df.info()"
   ]
  },
  {
   "cell_type": "markdown",
   "metadata": {},
   "source": [
    "## Re-Merge Procedure\n",
    "Due to the way the `nsa` merge expands the observation count, we need to re-merge `cves` and `epss` into the dataset to capture a few CVSS and EPSS scores, dates, vendors and products (if available). If `cves` doesn't have this information, we'll update the API caller in `nvd_extraction` and pass in the new list of CVEs we have in this master dataset, then merge an updated version of `nvd_data` back into our master dataset."
   ]
  },
  {
   "cell_type": "code",
   "execution_count": 10,
   "metadata": {},
   "outputs": [],
   "source": [
    "# Remerge CVEs\n",
    "df = df.merge(cves, on='cve_id', how='left')\n",
    "\n",
    "cols_to_combine = {\n",
    "    'cvss_v3_cat': ['cvss_v3_cat_x', 'cvss_v3_cat_y'],\n",
    "    'vendor': ['vendor_x', 'vendor_y'],\n",
    "    'product': ['product_x', 'product_y'],\n",
    "    'date_known': ['date_known_x', 'date_known_y'],\n",
    "    'cvss_v3': ['cvss_v3_x', 'cvss_v3_y'],\n",
    "    'description': ['description_x', 'description_y']\n",
    "}\n",
    "\n",
    "df = combine_and_drop(df, cols_to_combine)"
   ]
  },
  {
   "cell_type": "code",
   "execution_count": 12,
   "metadata": {},
   "outputs": [],
   "source": [
    "# Remerge EPSS\n",
    "df = df.merge(epss, on='cve_id', how='left')\n",
    "\n",
    "cols_to_combine = {\n",
    "    'epss': ['epss_x', 'epss_y'],\n",
    "    'percentile': ['percentile_x', 'percentile_y']\n",
    "}\n",
    "\n",
    "df = combine_and_drop(df, cols_to_combine)"
   ]
  },
  {
   "cell_type": "markdown",
   "metadata": {},
   "source": [
    "This is that same CVE ID (`CVE-2022-26658`) that doesn't exist in MITRE's CVE Project, the NVD, VulnDB, or CVEFeed.io. MITRE's website says that this ID is `reserved`, meaning that it hasn't been mapped to an actual vulnerability yet. Curiously, it still a list date, patch release data, first exploitation date, CVSS score, and an association with Volt Typhoon. Obviously, this is something we'll have to look further into. This is likely the only CVE ID that is reserved, considering that only reserved IDs are missing descritions and that all other IDs in our dataset have respective descriptions."
   ]
  },
  {
   "cell_type": "code",
   "execution_count": 15,
   "metadata": {},
   "outputs": [],
   "source": [
    "# Get rid of the non-existant vulnerability\n",
    "df = df.drop(df[df['cve_id'] == 'CVE-2022-26658'].index)"
   ]
  },
  {
   "cell_type": "markdown",
   "metadata": {},
   "source": [
    "## Adding CVEs from Checkpoint Article\n",
    "Based on missing CVSS scores for $11$ CVE IDs, we'll take those $11$ observations, save them into their own small dataset, import it into `nvd_extraction`, and call NVD's API to grab what we need. At the same time, we'll add the $2$ CVEs found in the Check Pount article ([reread it here](https://blog.checkpoint.com/security/the-tipping-point-exploring-the-surge-in-iot-cyberattacks-plaguing-the-education-sector/)) that weren't in our data already because MITRE doesn't have their CVSS scores."
   ]
  },
  {
   "cell_type": "code",
   "execution_count": 16,
   "metadata": {},
   "outputs": [
    {
     "name": "stdout",
     "output_type": "stream",
     "text": [
      "We need to gather CVSS scores for 14 CVEs from the NVD.\n"
     ]
    }
   ],
   "source": [
    "count = len(df[(df['cve_id'].notnull()) & (df['cvss_v3'].isnull())])\n",
    "print(f'We need to gather CVSS scores for {count} CVEs from the NVD.')"
   ]
  },
  {
   "cell_type": "code",
   "execution_count": 17,
   "metadata": {},
   "outputs": [],
   "source": [
    "# Create Check Point CVE dataset\n",
    "cp = {\n",
    "    'cve_id': [\n",
    "        'CVE-2015-2051',\n",
    "        'CVE-2016-6277',\n",
    "        'CVE-2022-37061'\n",
    "    ]\n",
    "}\n",
    "article_cves = pd.DataFrame(cp)\n",
    "\n",
    "# Pull out mini dataset\n",
    "missing_cves = df[(df['cve_id'].notnull()) & (df['cvss_v3'].isnull())]\n",
    "missing_cves = missing_cves['cve_id']\n",
    "missing_cves = missing_cves.to_frame()\n",
    "missing_cves = pd.concat([missing_cves, article_cves], ignore_index=True)\n",
    "\n",
    "# Save the mini dataset\n",
    "missing_cves.to_parquet(path='../data/miniset_cves_v2.parquet')"
   ]
  },
  {
   "cell_type": "code",
   "execution_count": 15,
   "metadata": {},
   "outputs": [],
   "source": [
    "# Loading in the mini response taken from NVD\n",
    "mini = pd.read_parquet(path='../data/NVD/mini_nvd_response_v2.parquet')"
   ]
  },
  {
   "cell_type": "code",
   "execution_count": 16,
   "metadata": {},
   "outputs": [],
   "source": [
    "# Remerge NVD\n",
    "df = df.merge(mini, on='cve_id', how='left')\n",
    "\n",
    "cols_to_combine = {\n",
    "    'date_known': ['date_known_x', 'date_known_y'],\n",
    "    'cvss_v3': ['cvss_v3_x', 'cvss_v3_y']\n",
    "}\n",
    "\n",
    "df = combine_and_drop(df, cols_to_combine)"
   ]
  },
  {
   "cell_type": "markdown",
   "metadata": {},
   "source": [
    "## Standardizing Null Values"
   ]
  },
  {
   "cell_type": "code",
   "execution_count": 17,
   "metadata": {},
   "outputs": [],
   "source": [
    "cols_of_int = ['vendor', 'product']\n",
    "df[cols_of_int] = df[cols_of_int].replace('n/a', pd.NA)"
   ]
  },
  {
   "cell_type": "markdown",
   "metadata": {},
   "source": [
    "## Validating CVSS Scores"
   ]
  },
  {
   "cell_type": "code",
   "execution_count": 25,
   "metadata": {},
   "outputs": [],
   "source": [
    "def map_cvss_to_category(score):\n",
    "    if score >= 9.0:\n",
    "        return 'critical'\n",
    "    elif score >= 7.0:\n",
    "        return 'high'\n",
    "    elif score >= 4.0:\n",
    "        return 'medium'\n",
    "    elif score > 0.0:\n",
    "        return 'low'\n",
    "    elif score == 0.0:\n",
    "        return 'none'\n",
    "    return None\n",
    "\n",
    "df['cvss_v3_cat'] = df['cvss_v3'].apply(map_cvss_to_category)\n",
    "\n",
    "cvss_cats = ['none', 'low', 'medium', 'high', 'critical']\n",
    "df['cvss_v3_cat'] = pd.Categorical(\n",
    "    df['cvss_v3_cat'],\n",
    "    categories=cvss_cats,\n",
    "    ordered=True\n",
    ")"
   ]
  },
  {
   "cell_type": "markdown",
   "metadata": {},
   "source": [
    "## Reordering Columns for Readability"
   ]
  },
  {
   "cell_type": "code",
   "execution_count": 26,
   "metadata": {},
   "outputs": [],
   "source": [
    "new_order = [\n",
    "    'cve_id',\n",
    "    'description',\n",
    "    'epss',\n",
    "    'percentile',\n",
    "    'cvss_v3',\n",
    "    'cvss_v3_cat',\n",
    "    'date_known',\n",
    "    'patch_release_date',\n",
    "    'date_of_first_exploit',\n",
    "    'days_to_patch_release',\n",
    "    'days_to_first_exploit',\n",
    "    'vendor',\n",
    "    'product',\n",
    "    'attack_name',\n",
    "    'year_start',\n",
    "    'year_end',\n",
    "    'attribution_group',\n",
    "    'attribution_state'\n",
    "]\n",
    "df = df[new_order]"
   ]
  },
  {
   "cell_type": "markdown",
   "metadata": {},
   "source": [
    "## Sorting the Data\n",
    "The following section floats meaningful data to the top and sinks empty values to the bottom. It does this by sorting a dummy column that counts the number of non-null values across each row. After this column has been sorted, the dataset is sorted according to `cve_id`."
   ]
  },
  {
   "cell_type": "code",
   "execution_count": 27,
   "metadata": {},
   "outputs": [
    {
     "data": {
      "text/html": [
       "<div>\n",
       "<style scoped>\n",
       "    .dataframe tbody tr th:only-of-type {\n",
       "        vertical-align: middle;\n",
       "    }\n",
       "\n",
       "    .dataframe tbody tr th {\n",
       "        vertical-align: top;\n",
       "    }\n",
       "\n",
       "    .dataframe thead th {\n",
       "        text-align: right;\n",
       "    }\n",
       "</style>\n",
       "<table border=\"1\" class=\"dataframe\">\n",
       "  <thead>\n",
       "    <tr style=\"text-align: right;\">\n",
       "      <th></th>\n",
       "      <th>cve_id</th>\n",
       "      <th>description</th>\n",
       "      <th>epss</th>\n",
       "      <th>percentile</th>\n",
       "      <th>cvss_v3</th>\n",
       "      <th>cvss_v3_cat</th>\n",
       "      <th>date_known</th>\n",
       "      <th>patch_release_date</th>\n",
       "      <th>date_of_first_exploit</th>\n",
       "      <th>days_to_patch_release</th>\n",
       "      <th>days_to_first_exploit</th>\n",
       "      <th>vendor</th>\n",
       "      <th>product</th>\n",
       "      <th>attack_name</th>\n",
       "      <th>year_start</th>\n",
       "      <th>year_end</th>\n",
       "      <th>attribution_group</th>\n",
       "      <th>attribution_state</th>\n",
       "    </tr>\n",
       "  </thead>\n",
       "  <tbody>\n",
       "    <tr>\n",
       "      <th>0</th>\n",
       "      <td>CVE-2019-0729</td>\n",
       "      <td>An Elevation of Privilege vulnerability exists...</td>\n",
       "      <td>0.00267</td>\n",
       "      <td>0.68003</td>\n",
       "      <td>9.8</td>\n",
       "      <td>critical</td>\n",
       "      <td>2019-03-05 00:00:00+00:00</td>\n",
       "      <td>NaT</td>\n",
       "      <td>NaT</td>\n",
       "      <td>&lt;NA&gt;</td>\n",
       "      <td>&lt;NA&gt;</td>\n",
       "      <td>Microsoft</td>\n",
       "      <td>Java SDK for Azure IoT</td>\n",
       "      <td>NaN</td>\n",
       "      <td>&lt;NA&gt;</td>\n",
       "      <td>&lt;NA&gt;</td>\n",
       "      <td>NaN</td>\n",
       "      <td>NaN</td>\n",
       "    </tr>\n",
       "    <tr>\n",
       "      <th>1</th>\n",
       "      <td>CVE-2019-0741</td>\n",
       "      <td>An information disclosure vulnerability exists...</td>\n",
       "      <td>0.00374</td>\n",
       "      <td>0.73050</td>\n",
       "      <td>7.5</td>\n",
       "      <td>high</td>\n",
       "      <td>2019-03-05 00:00:00+00:00</td>\n",
       "      <td>NaT</td>\n",
       "      <td>NaT</td>\n",
       "      <td>&lt;NA&gt;</td>\n",
       "      <td>&lt;NA&gt;</td>\n",
       "      <td>Microsoft</td>\n",
       "      <td>Java SDK for Azure IoT</td>\n",
       "      <td>NaN</td>\n",
       "      <td>&lt;NA&gt;</td>\n",
       "      <td>&lt;NA&gt;</td>\n",
       "      <td>NaN</td>\n",
       "      <td>NaN</td>\n",
       "    </tr>\n",
       "    <tr>\n",
       "      <th>2</th>\n",
       "      <td>CVE-2019-1010009</td>\n",
       "      <td>DGLogik Inc DGLux Server All Versions is affec...</td>\n",
       "      <td>0.01260</td>\n",
       "      <td>0.85854</td>\n",
       "      <td>9.8</td>\n",
       "      <td>critical</td>\n",
       "      <td>2019-07-15 02:00:46+00:00</td>\n",
       "      <td>NaT</td>\n",
       "      <td>NaT</td>\n",
       "      <td>&lt;NA&gt;</td>\n",
       "      <td>&lt;NA&gt;</td>\n",
       "      <td>DGLogik Inc</td>\n",
       "      <td>DGLux Server</td>\n",
       "      <td>NaN</td>\n",
       "      <td>&lt;NA&gt;</td>\n",
       "      <td>&lt;NA&gt;</td>\n",
       "      <td>NaN</td>\n",
       "      <td>NaN</td>\n",
       "    </tr>\n",
       "  </tbody>\n",
       "</table>\n",
       "</div>"
      ],
      "text/plain": [
       "             cve_id                                        description  \\\n",
       "0     CVE-2019-0729  An Elevation of Privilege vulnerability exists...   \n",
       "1     CVE-2019-0741  An information disclosure vulnerability exists...   \n",
       "2  CVE-2019-1010009  DGLogik Inc DGLux Server All Versions is affec...   \n",
       "\n",
       "      epss  percentile  cvss_v3 cvss_v3_cat                date_known  \\\n",
       "0  0.00267     0.68003      9.8    critical 2019-03-05 00:00:00+00:00   \n",
       "1  0.00374     0.73050      7.5        high 2019-03-05 00:00:00+00:00   \n",
       "2  0.01260     0.85854      9.8    critical 2019-07-15 02:00:46+00:00   \n",
       "\n",
       "  patch_release_date date_of_first_exploit  days_to_patch_release  \\\n",
       "0                NaT                   NaT                   <NA>   \n",
       "1                NaT                   NaT                   <NA>   \n",
       "2                NaT                   NaT                   <NA>   \n",
       "\n",
       "   days_to_first_exploit       vendor                 product attack_name  \\\n",
       "0                   <NA>    Microsoft  Java SDK for Azure IoT         NaN   \n",
       "1                   <NA>    Microsoft  Java SDK for Azure IoT         NaN   \n",
       "2                   <NA>  DGLogik Inc            DGLux Server         NaN   \n",
       "\n",
       "   year_start  year_end attribution_group attribution_state  \n",
       "0        <NA>      <NA>               NaN               NaN  \n",
       "1        <NA>      <NA>               NaN               NaN  \n",
       "2        <NA>      <NA>               NaN               NaN  "
      ]
     },
     "execution_count": 27,
     "metadata": {},
     "output_type": "execute_result"
    }
   ],
   "source": [
    "# Create column of non-null counts\n",
    "df['nn_count'] = df.notnull().sum(axis=1)\n",
    "\n",
    "# Sort table\n",
    "df = df.sort_values(by=['nn_count', 'cve_id'], ascending=[False, True])\n",
    "\n",
    "# Drop dummy column\n",
    "df = df.drop(columns=['nn_count'])\n",
    "df.head(3)"
   ]
  },
  {
   "cell_type": "markdown",
   "metadata": {},
   "source": [
    "## Dropping Duplicate Observations"
   ]
  },
  {
   "cell_type": "code",
   "execution_count": 29,
   "metadata": {},
   "outputs": [
    {
     "name": "stdout",
     "output_type": "stream",
     "text": [
      "There are 0 duplicate observations in the dataset.\n",
      "After the drop, there are now 0 duplicate observations in the dataset.\n"
     ]
    }
   ],
   "source": [
    "dups = df.duplicated().sum()\n",
    "print(f'There are {dups} duplicate observations in the dataset.')\n",
    "\n",
    "# Drop duplicates\n",
    "df = df.drop_duplicates(keep='first')\n",
    "dups = df.duplicated().sum()\n",
    "print(f'After the drop, there are now {dups} duplicate observations in the dataset.')"
   ]
  },
  {
   "cell_type": "markdown",
   "metadata": {},
   "source": [
    "The following table shows the four observations that do not include CVE IDs and their associated information. If we find them, adding this information will be relatively straightforward."
   ]
  },
  {
   "cell_type": "code",
   "execution_count": 28,
   "metadata": {},
   "outputs": [
    {
     "data": {
      "text/html": [
       "<div>\n",
       "<style scoped>\n",
       "    .dataframe tbody tr th:only-of-type {\n",
       "        vertical-align: middle;\n",
       "    }\n",
       "\n",
       "    .dataframe tbody tr th {\n",
       "        vertical-align: top;\n",
       "    }\n",
       "\n",
       "    .dataframe thead th {\n",
       "        text-align: right;\n",
       "    }\n",
       "</style>\n",
       "<table border=\"1\" class=\"dataframe\">\n",
       "  <thead>\n",
       "    <tr style=\"text-align: right;\">\n",
       "      <th></th>\n",
       "      <th>cve_id</th>\n",
       "      <th>description</th>\n",
       "      <th>epss</th>\n",
       "      <th>percentile</th>\n",
       "      <th>cvss_v3</th>\n",
       "      <th>cvss_v3_cat</th>\n",
       "      <th>date_known</th>\n",
       "      <th>patch_release_date</th>\n",
       "      <th>date_of_first_exploit</th>\n",
       "      <th>days_to_patch_release</th>\n",
       "      <th>days_to_first_exploit</th>\n",
       "      <th>vendor</th>\n",
       "      <th>product</th>\n",
       "      <th>attack_name</th>\n",
       "      <th>year_start</th>\n",
       "      <th>year_end</th>\n",
       "      <th>attribution_group</th>\n",
       "      <th>attribution_state</th>\n",
       "    </tr>\n",
       "  </thead>\n",
       "  <tbody>\n",
       "  </tbody>\n",
       "</table>\n",
       "</div>"
      ],
      "text/plain": [
       "Empty DataFrame\n",
       "Columns: [cve_id, description, epss, percentile, cvss_v3, cvss_v3_cat, date_known, patch_release_date, date_of_first_exploit, days_to_patch_release, days_to_first_exploit, vendor, product, attack_name, year_start, year_end, attribution_group, attribution_state]\n",
       "Index: []"
      ]
     },
     "execution_count": 28,
     "metadata": {},
     "output_type": "execute_result"
    }
   ],
   "source": [
    "df[df['cve_id'].isnull()]"
   ]
  },
  {
   "cell_type": "markdown",
   "metadata": {},
   "source": [
    "## Resetting Index"
   ]
  },
  {
   "cell_type": "code",
   "execution_count": 23,
   "metadata": {},
   "outputs": [],
   "source": [
    "df = df.reset_index(drop=True)"
   ]
  },
  {
   "cell_type": "code",
   "execution_count": 30,
   "metadata": {},
   "outputs": [
    {
     "data": {
      "text/html": [
       "<div>\n",
       "<style scoped>\n",
       "    .dataframe tbody tr th:only-of-type {\n",
       "        vertical-align: middle;\n",
       "    }\n",
       "\n",
       "    .dataframe tbody tr th {\n",
       "        vertical-align: top;\n",
       "    }\n",
       "\n",
       "    .dataframe thead th {\n",
       "        text-align: right;\n",
       "    }\n",
       "</style>\n",
       "<table border=\"1\" class=\"dataframe\">\n",
       "  <thead>\n",
       "    <tr style=\"text-align: right;\">\n",
       "      <th></th>\n",
       "      <th>cve_id</th>\n",
       "      <th>description</th>\n",
       "      <th>epss</th>\n",
       "      <th>percentile</th>\n",
       "      <th>cvss_v3</th>\n",
       "      <th>cvss_v3_cat</th>\n",
       "      <th>date_known</th>\n",
       "      <th>patch_release_date</th>\n",
       "      <th>date_of_first_exploit</th>\n",
       "      <th>days_to_patch_release</th>\n",
       "      <th>days_to_first_exploit</th>\n",
       "      <th>vendor</th>\n",
       "      <th>product</th>\n",
       "      <th>attack_name</th>\n",
       "      <th>year_start</th>\n",
       "      <th>year_end</th>\n",
       "      <th>attribution_group</th>\n",
       "      <th>attribution_state</th>\n",
       "    </tr>\n",
       "  </thead>\n",
       "  <tbody>\n",
       "    <tr>\n",
       "      <th>0</th>\n",
       "      <td>CVE-2019-0729</td>\n",
       "      <td>An Elevation of Privilege vulnerability exists...</td>\n",
       "      <td>0.00267</td>\n",
       "      <td>0.68003</td>\n",
       "      <td>9.8</td>\n",
       "      <td>critical</td>\n",
       "      <td>2019-03-05 00:00:00+00:00</td>\n",
       "      <td>NaT</td>\n",
       "      <td>NaT</td>\n",
       "      <td>&lt;NA&gt;</td>\n",
       "      <td>&lt;NA&gt;</td>\n",
       "      <td>Microsoft</td>\n",
       "      <td>Java SDK for Azure IoT</td>\n",
       "      <td>NaN</td>\n",
       "      <td>&lt;NA&gt;</td>\n",
       "      <td>&lt;NA&gt;</td>\n",
       "      <td>NaN</td>\n",
       "      <td>NaN</td>\n",
       "    </tr>\n",
       "    <tr>\n",
       "      <th>1</th>\n",
       "      <td>CVE-2019-0741</td>\n",
       "      <td>An information disclosure vulnerability exists...</td>\n",
       "      <td>0.00374</td>\n",
       "      <td>0.73050</td>\n",
       "      <td>7.5</td>\n",
       "      <td>high</td>\n",
       "      <td>2019-03-05 00:00:00+00:00</td>\n",
       "      <td>NaT</td>\n",
       "      <td>NaT</td>\n",
       "      <td>&lt;NA&gt;</td>\n",
       "      <td>&lt;NA&gt;</td>\n",
       "      <td>Microsoft</td>\n",
       "      <td>Java SDK for Azure IoT</td>\n",
       "      <td>NaN</td>\n",
       "      <td>&lt;NA&gt;</td>\n",
       "      <td>&lt;NA&gt;</td>\n",
       "      <td>NaN</td>\n",
       "      <td>NaN</td>\n",
       "    </tr>\n",
       "  </tbody>\n",
       "</table>\n",
       "</div>"
      ],
      "text/plain": [
       "          cve_id                                        description     epss  \\\n",
       "0  CVE-2019-0729  An Elevation of Privilege vulnerability exists...  0.00267   \n",
       "1  CVE-2019-0741  An information disclosure vulnerability exists...  0.00374   \n",
       "\n",
       "   percentile  cvss_v3 cvss_v3_cat                date_known  \\\n",
       "0     0.68003      9.8    critical 2019-03-05 00:00:00+00:00   \n",
       "1     0.73050      7.5        high 2019-03-05 00:00:00+00:00   \n",
       "\n",
       "  patch_release_date date_of_first_exploit  days_to_patch_release  \\\n",
       "0                NaT                   NaT                   <NA>   \n",
       "1                NaT                   NaT                   <NA>   \n",
       "\n",
       "   days_to_first_exploit     vendor                 product attack_name  \\\n",
       "0                   <NA>  Microsoft  Java SDK for Azure IoT         NaN   \n",
       "1                   <NA>  Microsoft  Java SDK for Azure IoT         NaN   \n",
       "\n",
       "   year_start  year_end attribution_group attribution_state  \n",
       "0        <NA>      <NA>               NaN               NaN  \n",
       "1        <NA>      <NA>               NaN               NaN  "
      ]
     },
     "execution_count": 30,
     "metadata": {},
     "output_type": "execute_result"
    }
   ],
   "source": [
    "df.head(2)"
   ]
  },
  {
   "cell_type": "code",
   "execution_count": 31,
   "metadata": {},
   "outputs": [
    {
     "data": {
      "text/html": [
       "<div>\n",
       "<style scoped>\n",
       "    .dataframe tbody tr th:only-of-type {\n",
       "        vertical-align: middle;\n",
       "    }\n",
       "\n",
       "    .dataframe tbody tr th {\n",
       "        vertical-align: top;\n",
       "    }\n",
       "\n",
       "    .dataframe thead th {\n",
       "        text-align: right;\n",
       "    }\n",
       "</style>\n",
       "<table border=\"1\" class=\"dataframe\">\n",
       "  <thead>\n",
       "    <tr style=\"text-align: right;\">\n",
       "      <th></th>\n",
       "      <th>cve_id</th>\n",
       "      <th>description</th>\n",
       "      <th>epss</th>\n",
       "      <th>percentile</th>\n",
       "      <th>cvss_v3</th>\n",
       "      <th>cvss_v3_cat</th>\n",
       "      <th>date_known</th>\n",
       "      <th>patch_release_date</th>\n",
       "      <th>date_of_first_exploit</th>\n",
       "      <th>days_to_patch_release</th>\n",
       "      <th>days_to_first_exploit</th>\n",
       "      <th>vendor</th>\n",
       "      <th>product</th>\n",
       "      <th>attack_name</th>\n",
       "      <th>year_start</th>\n",
       "      <th>year_end</th>\n",
       "      <th>attribution_group</th>\n",
       "      <th>attribution_state</th>\n",
       "    </tr>\n",
       "  </thead>\n",
       "  <tbody>\n",
       "    <tr>\n",
       "      <th>1086</th>\n",
       "      <td>CVE-2023-34367</td>\n",
       "      <td>Windows 7 is vulnerable to a full blind TCP/IP...</td>\n",
       "      <td>0.00369</td>\n",
       "      <td>0.72886</td>\n",
       "      <td>6.5</td>\n",
       "      <td>medium</td>\n",
       "      <td>2023-06-14 00:00:00+00:00</td>\n",
       "      <td>NaT</td>\n",
       "      <td>NaT</td>\n",
       "      <td>&lt;NA&gt;</td>\n",
       "      <td>&lt;NA&gt;</td>\n",
       "      <td>&lt;NA&gt;</td>\n",
       "      <td>&lt;NA&gt;</td>\n",
       "      <td>NaN</td>\n",
       "      <td>&lt;NA&gt;</td>\n",
       "      <td>&lt;NA&gt;</td>\n",
       "      <td>NaN</td>\n",
       "      <td>NaN</td>\n",
       "    </tr>\n",
       "    <tr>\n",
       "      <th>1087</th>\n",
       "      <td>CVE-2023-47882</td>\n",
       "      <td>The Kami Vision YI IoT com.yunyi.smartcamera a...</td>\n",
       "      <td>0.00069</td>\n",
       "      <td>0.31145</td>\n",
       "      <td>7.1</td>\n",
       "      <td>high</td>\n",
       "      <td>2023-12-27 00:00:00+00:00</td>\n",
       "      <td>NaT</td>\n",
       "      <td>NaT</td>\n",
       "      <td>&lt;NA&gt;</td>\n",
       "      <td>&lt;NA&gt;</td>\n",
       "      <td>&lt;NA&gt;</td>\n",
       "      <td>&lt;NA&gt;</td>\n",
       "      <td>NaN</td>\n",
       "      <td>&lt;NA&gt;</td>\n",
       "      <td>&lt;NA&gt;</td>\n",
       "      <td>NaN</td>\n",
       "      <td>NaN</td>\n",
       "    </tr>\n",
       "  </tbody>\n",
       "</table>\n",
       "</div>"
      ],
      "text/plain": [
       "              cve_id                                        description  \\\n",
       "1086  CVE-2023-34367  Windows 7 is vulnerable to a full blind TCP/IP...   \n",
       "1087  CVE-2023-47882  The Kami Vision YI IoT com.yunyi.smartcamera a...   \n",
       "\n",
       "         epss  percentile  cvss_v3 cvss_v3_cat                date_known  \\\n",
       "1086  0.00369     0.72886      6.5      medium 2023-06-14 00:00:00+00:00   \n",
       "1087  0.00069     0.31145      7.1        high 2023-12-27 00:00:00+00:00   \n",
       "\n",
       "     patch_release_date date_of_first_exploit  days_to_patch_release  \\\n",
       "1086                NaT                   NaT                   <NA>   \n",
       "1087                NaT                   NaT                   <NA>   \n",
       "\n",
       "      days_to_first_exploit vendor product attack_name  year_start  year_end  \\\n",
       "1086                   <NA>   <NA>    <NA>         NaN        <NA>      <NA>   \n",
       "1087                   <NA>   <NA>    <NA>         NaN        <NA>      <NA>   \n",
       "\n",
       "     attribution_group attribution_state  \n",
       "1086               NaN               NaN  \n",
       "1087               NaN               NaN  "
      ]
     },
     "execution_count": 31,
     "metadata": {},
     "output_type": "execute_result"
    }
   ],
   "source": [
    "df.tail(2)"
   ]
  },
  {
   "cell_type": "markdown",
   "metadata": {},
   "source": [
    "## Recalcuting Days to Patch and First Exploit\n",
    "This is just to check that all the merges went smoothly."
   ]
  },
  {
   "cell_type": "code",
   "execution_count": 32,
   "metadata": {},
   "outputs": [],
   "source": [
    "df['days_to_patch_release'] = (df['patch_release_date'] - df['date_known']).dt.days\n",
    "df['days_to_first_exploit'] = (df['date_of_first_exploit'] - df['date_known']).dt.days\n"
   ]
  },
  {
   "cell_type": "code",
   "execution_count": 33,
   "metadata": {},
   "outputs": [
    {
     "name": "stdout",
     "output_type": "stream",
     "text": [
      "<class 'pandas.core.frame.DataFrame'>\n",
      "RangeIndex: 1088 entries, 0 to 1087\n",
      "Data columns (total 18 columns):\n",
      " #   Column                 Non-Null Count  Dtype              \n",
      "---  ------                 --------------  -----              \n",
      " 0   cve_id                 1088 non-null   string             \n",
      " 1   description            1088 non-null   string             \n",
      " 2   epss                   1088 non-null   float64            \n",
      " 3   percentile             1088 non-null   float64            \n",
      " 4   cvss_v3                1088 non-null   float64            \n",
      " 5   cvss_v3_cat            1088 non-null   category           \n",
      " 6   date_known             1088 non-null   datetime64[ns, UTC]\n",
      " 7   patch_release_date     0 non-null      datetime64[ns, UTC]\n",
      " 8   date_of_first_exploit  0 non-null      datetime64[ns, UTC]\n",
      " 9   days_to_patch_release  0 non-null      float64            \n",
      " 10  days_to_first_exploit  0 non-null      float64            \n",
      " 11  vendor                 1024 non-null   string             \n",
      " 12  product                1027 non-null   string             \n",
      " 13  attack_name            0 non-null      category           \n",
      " 14  year_start             0 non-null      Int64              \n",
      " 15  year_end               0 non-null      Int64              \n",
      " 16  attribution_group      0 non-null      category           \n",
      " 17  attribution_state      0 non-null      category           \n",
      "dtypes: Int64(2), category(4), datetime64[ns, UTC](3), float64(5), string(4)\n",
      "memory usage: 127.0 KB\n"
     ]
    }
   ],
   "source": [
    "df.info()"
   ]
  },
  {
   "cell_type": "markdown",
   "metadata": {},
   "source": [
    "## Saving Master Data\n",
    "That's it! This is the state of our data so far."
   ]
  },
  {
   "cell_type": "code",
   "execution_count": 22,
   "metadata": {},
   "outputs": [
    {
     "name": "stdout",
     "output_type": "stream",
     "text": [
      "<class 'pandas.core.frame.DataFrame'>\n",
      "RangeIndex: 1155 entries, 0 to 1154\n",
      "Data columns (total 18 columns):\n",
      " #   Column                 Non-Null Count  Dtype              \n",
      "---  ------                 --------------  -----              \n",
      " 0   cve_id                 1151 non-null   string             \n",
      " 1   description            1151 non-null   string             \n",
      " 2   epss                   1151 non-null   float64            \n",
      " 3   percentile             1151 non-null   float64            \n",
      " 4   cvss_v3                1151 non-null   float64            \n",
      " 5   cvss_v3_cat            1151 non-null   category           \n",
      " 6   date_known             1151 non-null   datetime64[ns, UTC]\n",
      " 7   patch_release_date     47 non-null     datetime64[ns, UTC]\n",
      " 8   date_of_first_exploit  47 non-null     datetime64[ns, UTC]\n",
      " 9   days_to_patch_release  47 non-null     Int64              \n",
      " 10  days_to_first_exploit  47 non-null     Int64              \n",
      " 11  vendor                 1044 non-null   string             \n",
      " 12  product                1052 non-null   string             \n",
      " 13  attack_name            67 non-null     category           \n",
      " 14  year_start             61 non-null     Int64              \n",
      " 15  year_end               61 non-null     Int64              \n",
      " 16  attribution_group      33 non-null     category           \n",
      " 17  attribution_state      59 non-null     category           \n",
      "dtypes: Int64(4), category(4), datetime64[ns, UTC](3), float64(3), string(4)\n",
      "memory usage: 137.0 KB\n"
     ]
    }
   ],
   "source": [
    "df.info()"
   ]
  },
  {
   "cell_type": "code",
   "execution_count": 23,
   "metadata": {},
   "outputs": [],
   "source": [
    "df.to_parquet(path='../data/master_data_v1.parquet', index=None)\n",
    "df.to_csv('../data/master_data_v1_indexed.csv', index=True)"
   ]
  },
  {
   "cell_type": "code",
   "execution_count": null,
   "metadata": {},
   "outputs": [],
   "source": []
  },
  {
   "cell_type": "code",
   "execution_count": 10,
   "metadata": {},
   "outputs": [
    {
     "data": {
      "text/html": [
       "<div>\n",
       "<style scoped>\n",
       "    .dataframe tbody tr th:only-of-type {\n",
       "        vertical-align: middle;\n",
       "    }\n",
       "\n",
       "    .dataframe tbody tr th {\n",
       "        vertical-align: top;\n",
       "    }\n",
       "\n",
       "    .dataframe thead th {\n",
       "        text-align: right;\n",
       "    }\n",
       "</style>\n",
       "<table border=\"1\" class=\"dataframe\">\n",
       "  <thead>\n",
       "    <tr style=\"text-align: right;\">\n",
       "      <th></th>\n",
       "      <th>cve_id</th>\n",
       "      <th>cvss_v3_cat</th>\n",
       "      <th>vendor</th>\n",
       "      <th>product</th>\n",
       "      <th>epss</th>\n",
       "      <th>percentile</th>\n",
       "      <th>date_known</th>\n",
       "      <th>cvss_v3</th>\n",
       "      <th>attack_name</th>\n",
       "      <th>date_of_first_exploit</th>\n",
       "      <th>patch_release_date</th>\n",
       "      <th>days_to_patch_release</th>\n",
       "      <th>days_to_first_exploit</th>\n",
       "      <th>year_start</th>\n",
       "      <th>year_end</th>\n",
       "      <th>attribution_group</th>\n",
       "      <th>attribution_state</th>\n",
       "      <th>description</th>\n",
       "    </tr>\n",
       "  </thead>\n",
       "  <tbody>\n",
       "  </tbody>\n",
       "</table>\n",
       "</div>"
      ],
      "text/plain": [
       "Empty DataFrame\n",
       "Columns: [cve_id, cvss_v3_cat, vendor, product, epss, percentile, date_known, cvss_v3, attack_name, date_of_first_exploit, patch_release_date, days_to_patch_release, days_to_first_exploit, year_start, year_end, attribution_group, attribution_state, description]\n",
       "Index: []"
      ]
     },
     "execution_count": 10,
     "metadata": {},
     "output_type": "execute_result"
    }
   ],
   "source": [
    "df[df['cve_id'].duplicated()]"
   ]
  },
  {
   "cell_type": "code",
   "execution_count": null,
   "metadata": {},
   "outputs": [],
   "source": []
  }
 ],
 "metadata": {
  "kernelspec": {
   "display_name": "ml-env",
   "language": "python",
   "name": "python3"
  },
  "language_info": {
   "codemirror_mode": {
    "name": "ipython",
    "version": 3
   },
   "file_extension": ".py",
   "mimetype": "text/x-python",
   "name": "python",
   "nbconvert_exporter": "python",
   "pygments_lexer": "ipython3",
   "version": "3.10.13"
  }
 },
 "nbformat": 4,
 "nbformat_minor": 2
}
