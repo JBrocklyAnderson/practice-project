{
 "cells": [
  {
   "cell_type": "markdown",
   "metadata": {},
   "source": [
    "# NVD Data\n",
    "The data captured from MITRE's CVE Project is fairly robust, but it nevertheless contains large gaps of information among certain CVE variables, notably the dates in which the given CVE went public and when it was published and CVSS severity scores. Gathering this additional data will help flesh out the master dataset we'll analyze. To get this data, a library exists that makes it easier to communicate with the NVD's API. This notebook will use this library to populate a dataframe that will ultimately be merged into the master dataset within the notebook `master_merge`."
   ]
  },
  {
   "cell_type": "code",
   "execution_count": 2,
   "metadata": {},
   "outputs": [],
   "source": [
    "# Import libraries\n",
    "import os # For using the system's tools\n",
    "import time # For sleeping requests to the API\n",
    "import requests # For establishing contact with the NVD's API\n",
    "import json # For handling JSON serialization\n",
    "import pandas as pd # For data collection, cleaning, and storage\n",
    "import numpy as np # For advanced calculations\n",
    "# import nvdlib as nvd # A wrapper to make API comms more intuitive\n",
    "from dotenv import load_dotenv as env # For securely loading the API key\n",
    "\n",
    "# Import data\n",
    "iots = pd.read_parquet(path='../data/MITRE/mitre_iot_cves_v1.parquet')"
   ]
  },
  {
   "cell_type": "code",
   "execution_count": 11,
   "metadata": {},
   "outputs": [
    {
     "data": {
      "text/html": [
       "<div>\n",
       "<style scoped>\n",
       "    .dataframe tbody tr th:only-of-type {\n",
       "        vertical-align: middle;\n",
       "    }\n",
       "\n",
       "    .dataframe tbody tr th {\n",
       "        vertical-align: top;\n",
       "    }\n",
       "\n",
       "    .dataframe thead th {\n",
       "        text-align: right;\n",
       "    }\n",
       "</style>\n",
       "<table border=\"1\" class=\"dataframe\">\n",
       "  <thead>\n",
       "    <tr style=\"text-align: right;\">\n",
       "      <th></th>\n",
       "      <th>cve_id</th>\n",
       "      <th>description</th>\n",
       "    </tr>\n",
       "  </thead>\n",
       "  <tbody>\n",
       "    <tr>\n",
       "      <th>0</th>\n",
       "      <td>CVE-2024-29195</td>\n",
       "      <td>The azure-c-shared-utility is a C library for ...</td>\n",
       "    </tr>\n",
       "    <tr>\n",
       "      <th>1</th>\n",
       "      <td>CVE-2024-29055</td>\n",
       "      <td>Microsoft Defender for IoT Elevation of Privil...</td>\n",
       "    </tr>\n",
       "    <tr>\n",
       "      <th>2</th>\n",
       "      <td>CVE-2024-29054</td>\n",
       "      <td>Microsoft Defender for IoT Elevation of Privil...</td>\n",
       "    </tr>\n",
       "    <tr>\n",
       "      <th>3</th>\n",
       "      <td>CVE-2024-29053</td>\n",
       "      <td>Microsoft Defender for IoT Remote Code Executi...</td>\n",
       "    </tr>\n",
       "    <tr>\n",
       "      <th>4</th>\n",
       "      <td>CVE-2024-21324</td>\n",
       "      <td>Microsoft Defender for IoT Elevation of Privil...</td>\n",
       "    </tr>\n",
       "  </tbody>\n",
       "</table>\n",
       "</div>"
      ],
      "text/plain": [
       "           cve_id                                        description\n",
       "0  CVE-2024-29195  The azure-c-shared-utility is a C library for ...\n",
       "1  CVE-2024-29055  Microsoft Defender for IoT Elevation of Privil...\n",
       "2  CVE-2024-29054  Microsoft Defender for IoT Elevation of Privil...\n",
       "3  CVE-2024-29053  Microsoft Defender for IoT Remote Code Executi...\n",
       "4  CVE-2024-21324  Microsoft Defender for IoT Elevation of Privil..."
      ]
     },
     "execution_count": 11,
     "metadata": {},
     "output_type": "execute_result"
    }
   ],
   "source": [
    "iots.head()"
   ]
  },
  {
   "cell_type": "markdown",
   "metadata": {},
   "source": [
    "## Communicating with NVD's API\n",
    "According to the documentation (https://nvdlib.com/en/latest/v1/v1.html), NVD's API is rate-limited for both calls without and with an API key. Every CVE ID we look up will at the bare minimum take $0.6$ seconds because of this rate-limiting, so looping through ~$260,000$+ CVEs—which at the very least take $43$ hours—is obviously impractical, which is why we're importing MITRE's IoT CVEs (since they form the backbone of the rest of the data in our master copy)—which has just $1088$ CVEs and will therefore only take around $11$ minutes. The first call is a glimpse at the structure of the API's response. In it, we see exactly the keys we need to retrieve from the JSON (`\"published\"` and `\"baseScore\"`)."
   ]
  },
  {
   "cell_type": "code",
   "execution_count": 3,
   "metadata": {},
   "outputs": [],
   "source": [
    "# Load environment variables from .env file\n",
    "env()\n",
    "\n",
    "# Access the API key from environment variables\n",
    "key = os.getenv('NVD_API_KEY')\n",
    "\n",
    "base_url = 'https://services.nvd.nist.gov/rest/json/cves/2.0'\n",
    "\n",
    "# Formulating the API request\n",
    "headers = {\n",
    "    'apiKey': key\n",
    "}\n",
    "\n",
    "# Example request to see how the data is returned\n",
    "#query = f'{base_url}?cveId=CVE-2024-29195'\n",
    "\n",
    "# Call the API\n",
    "#response = requests.get(query, headers=headers)\n",
    "\n",
    "# Parse the JSON response\n",
    "#cve_data = response.json()\n",
    "\n",
    "# Pretty print the response to make it easier to inspect\n",
    "#print(json.dumps(cve_data, indent=4))"
   ]
  },
  {
   "cell_type": "code",
   "execution_count": 6,
   "metadata": {},
   "outputs": [],
   "source": [
    "# Function to retrieve CVE details from NVD's API\n",
    "def fetch_cve_data(cve):\n",
    "    query = f'{base_url}?cveId={cve}'\n",
    "    try:\n",
    "        response = requests.get(query, headers=headers)\n",
    "        if response.status_code == 200:\n",
    "            cve_data = response.json()\n",
    "\n",
    "            vulnerabilities = cve_data.get('vulnerabilities', [])\n",
    "            if vulnerabilities:\n",
    "                cve_item = vulnerabilities[0].get('cve', {})\n",
    "                # Extract the info\n",
    "                cve_id = cve_item.get('id', None)\n",
    "                date_known = cve_item.get('published', None)\n",
    "\n",
    "                cvss = None\n",
    "                version = None\n",
    "                metrics = cve_item.get('metrics', {})\n",
    "                # print(json.dumps(metrics, indent=4))\n",
    "\n",
    "                # Check for CVSS v3.1\n",
    "                if 'cvssMetricV31' in metrics:\n",
    "                    cvss = metrics['cvssMetricV31'][0]['cvssData'].get('baseScore', None)\n",
    "                    version = metrics['cvssMetricV31'][0]['cvssData'].get('version', None)\n",
    "\n",
    "                # Check for CVSS v3.0 if v3.1 not found\n",
    "                if cvss is None and 'cvssMetricV30' in metrics:\n",
    "                    cvss = metrics['cvssMetricV30'][0]['cvssData'].get('baseScore', None)\n",
    "                    version = metrics['cvssMetricV30'][0]['cvssData'].get('version', None)\n",
    "\n",
    "                return {\n",
    "                    'cve_id': cve_id,\n",
    "                    'date_known': date_known,\n",
    "                    'cvss_v3': cvss,\n",
    "                    'version': version\n",
    "                }\n",
    "        # If no vulnerabilities are found or NVD has bad data\n",
    "        return None\n",
    "    except requests.exceptions.HTTPError as h_e:\n",
    "        print(f'HTTP Error for CVE {cve}: {h_e}')\n",
    "    except requests.exceptions.RequestException as r_e:\n",
    "        print(f'Request Error for CVE {cve}: {r_e}')\n",
    "    return None\n",
    "\n",
    "# # Filter a copy of the IoT CVE's for just their IDs\n",
    "# cves = iots['cve_id']\n",
    "\n",
    "# nvd_data = []\n",
    "\n",
    "# # Call the API\n",
    "# for i, cve in enumerate(cves):\n",
    "#     # Limit to 5 calls for testing\n",
    "#     # if i >= 1:\n",
    "#     #    break\n",
    "\n",
    "#     cve_info = fetch_cve_data(cve)\n",
    "#     if cve_info:\n",
    "#         nvd_data.append(cve_info)\n",
    "#     # Respect the rate limit between requests\n",
    "#     time.sleep(0.6)\n",
    "\n",
    "# # Create dataframe from the extracted information\n",
    "# nvd = pd.DataFrame(nvd_data)"
   ]
  },
  {
   "cell_type": "code",
   "execution_count": 53,
   "metadata": {},
   "outputs": [
    {
     "name": "stdout",
     "output_type": "stream",
     "text": [
      "<class 'pandas.core.frame.DataFrame'>\n",
      "RangeIndex: 1088 entries, 0 to 1087\n",
      "Data columns (total 4 columns):\n",
      " #   Column      Non-Null Count  Dtype  \n",
      "---  ------      --------------  -----  \n",
      " 0   cve_id      1088 non-null   object \n",
      " 1   date_known  1088 non-null   object \n",
      " 2   cvss_v3     1088 non-null   float64\n",
      " 3   version     1088 non-null   object \n",
      "dtypes: float64(1), object(3)\n",
      "memory usage: 34.1+ KB\n"
     ]
    }
   ],
   "source": [
    "nvd.info()"
   ]
  },
  {
   "cell_type": "code",
   "execution_count": 66,
   "metadata": {},
   "outputs": [
    {
     "data": {
      "text/html": [
       "<div>\n",
       "<style scoped>\n",
       "    .dataframe tbody tr th:only-of-type {\n",
       "        vertical-align: middle;\n",
       "    }\n",
       "\n",
       "    .dataframe tbody tr th {\n",
       "        vertical-align: top;\n",
       "    }\n",
       "\n",
       "    .dataframe thead th {\n",
       "        text-align: right;\n",
       "    }\n",
       "</style>\n",
       "<table border=\"1\" class=\"dataframe\">\n",
       "  <thead>\n",
       "    <tr style=\"text-align: right;\">\n",
       "      <th></th>\n",
       "      <th>cve_id</th>\n",
       "      <th>date_known</th>\n",
       "      <th>cvss_v3</th>\n",
       "    </tr>\n",
       "  </thead>\n",
       "  <tbody>\n",
       "    <tr>\n",
       "      <th>0</th>\n",
       "      <td>CVE-2024-29195</td>\n",
       "      <td>2024-03-26 03:15:13.333000+00:00</td>\n",
       "      <td>6.0</td>\n",
       "    </tr>\n",
       "    <tr>\n",
       "      <th>1</th>\n",
       "      <td>CVE-2024-29055</td>\n",
       "      <td>2024-04-09 17:15:59.320000+00:00</td>\n",
       "      <td>7.2</td>\n",
       "    </tr>\n",
       "    <tr>\n",
       "      <th>2</th>\n",
       "      <td>CVE-2024-29054</td>\n",
       "      <td>2024-04-09 17:15:59.123000+00:00</td>\n",
       "      <td>7.2</td>\n",
       "    </tr>\n",
       "    <tr>\n",
       "      <th>3</th>\n",
       "      <td>CVE-2024-29053</td>\n",
       "      <td>2024-04-09 17:15:58.930000+00:00</td>\n",
       "      <td>8.8</td>\n",
       "    </tr>\n",
       "    <tr>\n",
       "      <th>4</th>\n",
       "      <td>CVE-2024-21324</td>\n",
       "      <td>2024-04-09 17:15:34.607000+00:00</td>\n",
       "      <td>7.2</td>\n",
       "    </tr>\n",
       "  </tbody>\n",
       "</table>\n",
       "</div>"
      ],
      "text/plain": [
       "           cve_id                       date_known  cvss_v3\n",
       "0  CVE-2024-29195 2024-03-26 03:15:13.333000+00:00      6.0\n",
       "1  CVE-2024-29055 2024-04-09 17:15:59.320000+00:00      7.2\n",
       "2  CVE-2024-29054 2024-04-09 17:15:59.123000+00:00      7.2\n",
       "3  CVE-2024-29053 2024-04-09 17:15:58.930000+00:00      8.8\n",
       "4  CVE-2024-21324 2024-04-09 17:15:34.607000+00:00      7.2"
      ]
     },
     "execution_count": 66,
     "metadata": {},
     "output_type": "execute_result"
    }
   ],
   "source": [
    "nvd.head()"
   ]
  },
  {
   "cell_type": "markdown",
   "metadata": {},
   "source": [
    "## Correcting Datatypes"
   ]
  },
  {
   "cell_type": "code",
   "execution_count": 61,
   "metadata": {},
   "outputs": [],
   "source": [
    "# Convert to datetime,\n",
    "nvd['date_known'] = pd.to_datetime(nvd['date_known'], utc=True)\n",
    "\n",
    "# Convert to text\n",
    "nvd['cve_id'] = nvd['cve_id'].astype('string')"
   ]
  },
  {
   "cell_type": "markdown",
   "metadata": {},
   "source": [
    "## Validate CVSS Range"
   ]
  },
  {
   "cell_type": "code",
   "execution_count": 58,
   "metadata": {},
   "outputs": [
    {
     "name": "stdout",
     "output_type": "stream",
     "text": [
      "0 observations fall out of range.\n"
     ]
    }
   ],
   "source": [
    "count = len(nvd[(nvd['cvss_v3'] < 0.0) & (nvd['cvss_v3'] > 10.0)])\n",
    "print(f'{count} observations fall out of range.')"
   ]
  },
  {
   "cell_type": "code",
   "execution_count": 60,
   "metadata": {},
   "outputs": [
    {
     "name": "stdout",
     "output_type": "stream",
     "text": [
      "64 CVSS scores were of version 3.0.\n"
     ]
    }
   ],
   "source": [
    "v3_0 = len(nvd[nvd['version'] == '3.0'])\n",
    "print(f'{v3_0} CVSS scores were of version 3.0.')"
   ]
  },
  {
   "cell_type": "code",
   "execution_count": 64,
   "metadata": {},
   "outputs": [
    {
     "name": "stdout",
     "output_type": "stream",
     "text": [
      "There are 0 incorrectly-formatted CVE IDs.\n"
     ]
    }
   ],
   "source": [
    "# Drop the version column\n",
    "nvd = nvd.drop(columns=['version'])\n",
    "\n",
    "# Remove extra whitespace\n",
    "nvd['cve_id'] = nvd['cve_id'].str.strip()\n",
    "\n",
    "# Check ID formating\n",
    "non_ideal = nvd[~nvd['cve_id'].str.startswith('CVE-', na=True)]\n",
    "print(f'There are {len(non_ideal)} incorrectly-formatted CVE IDs.')"
   ]
  },
  {
   "cell_type": "markdown",
   "metadata": {},
   "source": [
    "## Saving the Data"
   ]
  },
  {
   "cell_type": "code",
   "execution_count": 65,
   "metadata": {},
   "outputs": [],
   "source": [
    "nvd.to_parquet(path='../data/NVD/nvd_data_v1.parquet')"
   ]
  },
  {
   "cell_type": "markdown",
   "metadata": {},
   "source": [
    "## Re-Aggregating CVSS Scores From CVE Miniset"
   ]
  },
  {
   "cell_type": "code",
   "execution_count": 9,
   "metadata": {},
   "outputs": [],
   "source": [
    "mini_cves = pd.read_parquet(path='../data/miniset_cves_v2.parquet')\n",
    "mini_cves = pd.DataFrame(mini_cves)"
   ]
  },
  {
   "cell_type": "code",
   "execution_count": 10,
   "metadata": {},
   "outputs": [
    {
     "name": "stdout",
     "output_type": "stream",
     "text": [
      "<class 'pandas.core.frame.DataFrame'>\n",
      "RangeIndex: 17 entries, 0 to 16\n",
      "Data columns (total 1 columns):\n",
      " #   Column  Non-Null Count  Dtype \n",
      "---  ------  --------------  ----- \n",
      " 0   cve_id  17 non-null     object\n",
      "dtypes: object(1)\n",
      "memory usage: 264.0+ bytes\n"
     ]
    }
   ],
   "source": [
    "mini_cves.info()"
   ]
  },
  {
   "cell_type": "code",
   "execution_count": 11,
   "metadata": {},
   "outputs": [],
   "source": [
    "mini_cves = mini_cves['cve_id']\n",
    "mini_data = []\n",
    "\n",
    "for i, cve in enumerate(mini_cves):\n",
    "    # Limit to 5 calls for testing\n",
    "    # if i >= 1:\n",
    "    #     break\n",
    "\n",
    "    cve_info = fetch_cve_data(cve)\n",
    "    if cve_info:\n",
    "        mini_data.append(cve_info)\n",
    "    # Respect the rate limit between requests\n",
    "    time.sleep(0.6)\n",
    "\n",
    "mini = pd.DataFrame(mini_data)"
   ]
  },
  {
   "cell_type": "code",
   "execution_count": 12,
   "metadata": {},
   "outputs": [
    {
     "name": "stdout",
     "output_type": "stream",
     "text": [
      "<class 'pandas.core.frame.DataFrame'>\n",
      "RangeIndex: 17 entries, 0 to 16\n",
      "Data columns (total 4 columns):\n",
      " #   Column      Non-Null Count  Dtype  \n",
      "---  ------      --------------  -----  \n",
      " 0   cve_id      17 non-null     object \n",
      " 1   date_known  17 non-null     object \n",
      " 2   cvss_v3     17 non-null     float64\n",
      " 3   version     17 non-null     object \n",
      "dtypes: float64(1), object(3)\n",
      "memory usage: 672.0+ bytes\n"
     ]
    }
   ],
   "source": [
    "mini.info()"
   ]
  },
  {
   "cell_type": "code",
   "execution_count": 13,
   "metadata": {},
   "outputs": [],
   "source": [
    "mini['date_known'] = pd.to_datetime(mini['date_known'], utc=True)\n",
    "mini['cve_id'] = mini['cve_id'].astype('string')\n",
    "mini['cve_id'] = mini['cve_id'].str.strip()\n",
    "mini = mini.drop(columns=['version'])\n",
    "\n",
    "mini.to_parquet(path='../data/NVD/mini_nvd_response_v2.parquet')"
   ]
  }
 ],
 "metadata": {
  "kernelspec": {
   "display_name": "nvd_env",
   "language": "python",
   "name": "python3"
  },
  "language_info": {
   "codemirror_mode": {
    "name": "ipython",
    "version": 3
   },
   "file_extension": ".py",
   "mimetype": "text/x-python",
   "name": "python",
   "nbconvert_exporter": "python",
   "pygments_lexer": "ipython3",
   "version": "3.10.13"
  }
 },
 "nbformat": 4,
 "nbformat_minor": 2
}
