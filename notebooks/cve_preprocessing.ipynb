{
 "cells": [
  {
   "cell_type": "markdown",
   "metadata": {},
   "source": [
    "# Preprocessing CVE Data\n",
    "This data was pulled from MITRE's CVE project, a collection of several hundred thousand JSON files containing vulnerability information about all kinds of software, products, and services. Within this particular notebook, it will be processed in as many ways as necessary and merged with FIRST's Exploit Prediction Scoring System (EPSS) before being saved for use in further notebooks, namely `iot_cve_main_v3_preprocessing` and `iot_cve_main_analysis`.\n",
    "\n",
    "## Preprocessing Steps\n",
    "In order to reliably use the data in successive merges, we need to make sure it's clean. This involves several important steps, namely:\n",
    "- Understanding the data at a bird's eye level—e.g. number of rows, summary stats about numerical columns, data types (numbers, text, dates, etc.)\n",
    "- Handling incorrect data types\n",
    "- Interpolating or discarding missing values\n",
    "- Removing redundant white space characters\n",
    "- Standardizing the formatting of column names, categorical data, etc.\n",
    "- Deleting duplicate observations"
   ]
  },
  {
   "cell_type": "code",
   "execution_count": 1,
   "metadata": {},
   "outputs": [
    {
     "data": {
      "text/html": [
       "<div>\n",
       "<style scoped>\n",
       "    .dataframe tbody tr th:only-of-type {\n",
       "        vertical-align: middle;\n",
       "    }\n",
       "\n",
       "    .dataframe tbody tr th {\n",
       "        vertical-align: top;\n",
       "    }\n",
       "\n",
       "    .dataframe thead th {\n",
       "        text-align: right;\n",
       "    }\n",
       "</style>\n",
       "<table border=\"1\" class=\"dataframe\">\n",
       "  <thead>\n",
       "    <tr style=\"text-align: right;\">\n",
       "      <th></th>\n",
       "      <th>cve_id</th>\n",
       "      <th>cwe_id</th>\n",
       "      <th>cve_state</th>\n",
       "      <th>date_published</th>\n",
       "      <th>date_public</th>\n",
       "      <th>description</th>\n",
       "      <th>cvss_v4_0</th>\n",
       "      <th>cvss_v3_1</th>\n",
       "      <th>cvss_v3_0</th>\n",
       "      <th>cvss_v2_0</th>\n",
       "      <th>vendor</th>\n",
       "      <th>product</th>\n",
       "    </tr>\n",
       "  </thead>\n",
       "  <tbody>\n",
       "    <tr>\n",
       "      <th>0</th>\n",
       "      <td>CVE-2024-9549</td>\n",
       "      <td>None</td>\n",
       "      <td>None</td>\n",
       "      <td>None</td>\n",
       "      <td>None</td>\n",
       "      <td>None</td>\n",
       "      <td>NaN</td>\n",
       "      <td>NaN</td>\n",
       "      <td>NaN</td>\n",
       "      <td>NaN</td>\n",
       "      <td>None</td>\n",
       "      <td>None</td>\n",
       "    </tr>\n",
       "    <tr>\n",
       "      <th>1</th>\n",
       "      <td>CVE-2024-9549</td>\n",
       "      <td>None</td>\n",
       "      <td>None</td>\n",
       "      <td>None</td>\n",
       "      <td>None</td>\n",
       "      <td>None</td>\n",
       "      <td>NaN</td>\n",
       "      <td>NaN</td>\n",
       "      <td>NaN</td>\n",
       "      <td>NaN</td>\n",
       "      <td>None</td>\n",
       "      <td>None</td>\n",
       "    </tr>\n",
       "    <tr>\n",
       "      <th>2</th>\n",
       "      <td>CVE-1999-0001</td>\n",
       "      <td>None</td>\n",
       "      <td>PUBLISHED</td>\n",
       "      <td>2000-02-04T05:00:00</td>\n",
       "      <td>None</td>\n",
       "      <td>ip_input.c in BSD-derived TCP/IP implementatio...</td>\n",
       "      <td>NaN</td>\n",
       "      <td>NaN</td>\n",
       "      <td>NaN</td>\n",
       "      <td>NaN</td>\n",
       "      <td>n/a</td>\n",
       "      <td>n/a</td>\n",
       "    </tr>\n",
       "  </tbody>\n",
       "</table>\n",
       "</div>"
      ],
      "text/plain": [
       "          cve_id cwe_id  cve_state       date_published date_public  \\\n",
       "0  CVE-2024-9549   None       None                 None        None   \n",
       "1  CVE-2024-9549   None       None                 None        None   \n",
       "2  CVE-1999-0001   None  PUBLISHED  2000-02-04T05:00:00        None   \n",
       "\n",
       "                                         description  cvss_v4_0  cvss_v3_1  \\\n",
       "0                                               None        NaN        NaN   \n",
       "1                                               None        NaN        NaN   \n",
       "2  ip_input.c in BSD-derived TCP/IP implementatio...        NaN        NaN   \n",
       "\n",
       "   cvss_v3_0  cvss_v2_0 vendor product  \n",
       "0        NaN        NaN   None    None  \n",
       "1        NaN        NaN   None    None  \n",
       "2        NaN        NaN    n/a     n/a  "
      ]
     },
     "execution_count": 1,
     "metadata": {},
     "output_type": "execute_result"
    }
   ],
   "source": [
    "# Import libraries\n",
    "import pandas as pd # For data cleaning and analysis\n",
    "import numpy as np # For advanced calculations\n",
    "from datetime import datetime # For working with dates\n",
    "\n",
    "# Import the data\n",
    "cves = pd.read_parquet('../data/CVE_Project/cvelistV5/cve_list_v2.parquet')\n",
    "cves.head(n=3)"
   ]
  },
  {
   "cell_type": "code",
   "execution_count": 4,
   "metadata": {},
   "outputs": [
    {
     "name": "stdout",
     "output_type": "stream",
     "text": [
      "<class 'pandas.core.frame.DataFrame'>\n",
      "RangeIndex: 264610 entries, 0 to 264609\n",
      "Data columns (total 12 columns):\n",
      " #   Column          Non-Null Count   Dtype  \n",
      "---  ------          --------------   -----  \n",
      " 0   cve_id          264610 non-null  object \n",
      " 1   cwe_id          62937 non-null   object \n",
      " 2   cve_state       264608 non-null  object \n",
      " 3   date_published  261096 non-null  object \n",
      " 4   date_public     128264 non-null  object \n",
      " 5   description     250171 non-null  object \n",
      " 6   cvss_v4_0       2012 non-null    float64\n",
      " 7   cvss_v3_1       56594 non-null   float64\n",
      " 8   cvss_v3_0       16962 non-null   float64\n",
      " 9   cvss_v2_0       4227 non-null    float64\n",
      " 10  vendor          250023 non-null  object \n",
      " 11  product         250057 non-null  object \n",
      "dtypes: float64(4), object(8)\n",
      "memory usage: 24.2+ MB\n"
     ]
    },
    {
     "data": {
      "text/html": [
       "<div>\n",
       "<style scoped>\n",
       "    .dataframe tbody tr th:only-of-type {\n",
       "        vertical-align: middle;\n",
       "    }\n",
       "\n",
       "    .dataframe tbody tr th {\n",
       "        vertical-align: top;\n",
       "    }\n",
       "\n",
       "    .dataframe thead th {\n",
       "        text-align: right;\n",
       "    }\n",
       "</style>\n",
       "<table border=\"1\" class=\"dataframe\">\n",
       "  <thead>\n",
       "    <tr style=\"text-align: right;\">\n",
       "      <th></th>\n",
       "      <th>cvss_v4_0</th>\n",
       "      <th>cvss_v3_1</th>\n",
       "      <th>cvss_v3_0</th>\n",
       "      <th>cvss_v2_0</th>\n",
       "    </tr>\n",
       "  </thead>\n",
       "  <tbody>\n",
       "    <tr>\n",
       "      <th>count</th>\n",
       "      <td>2012.000000</td>\n",
       "      <td>56594.000000</td>\n",
       "      <td>16962.000000</td>\n",
       "      <td>4227.000000</td>\n",
       "    </tr>\n",
       "    <tr>\n",
       "      <th>mean</th>\n",
       "      <td>6.541054</td>\n",
       "      <td>6.620412</td>\n",
       "      <td>6.461508</td>\n",
       "      <td>5.647433</td>\n",
       "    </tr>\n",
       "    <tr>\n",
       "      <th>std</th>\n",
       "      <td>1.634232</td>\n",
       "      <td>1.751461</td>\n",
       "      <td>1.850871</td>\n",
       "      <td>1.652543</td>\n",
       "    </tr>\n",
       "    <tr>\n",
       "      <th>min</th>\n",
       "      <td>0.000000</td>\n",
       "      <td>0.000000</td>\n",
       "      <td>0.000000</td>\n",
       "      <td>0.800000</td>\n",
       "    </tr>\n",
       "    <tr>\n",
       "      <th>25%</th>\n",
       "      <td>5.300000</td>\n",
       "      <td>5.400000</td>\n",
       "      <td>5.300000</td>\n",
       "      <td>4.000000</td>\n",
       "    </tr>\n",
       "    <tr>\n",
       "      <th>50%</th>\n",
       "      <td>6.300000</td>\n",
       "      <td>6.500000</td>\n",
       "      <td>6.400000</td>\n",
       "      <td>5.800000</td>\n",
       "    </tr>\n",
       "    <tr>\n",
       "      <th>75%</th>\n",
       "      <td>8.200000</td>\n",
       "      <td>7.800000</td>\n",
       "      <td>7.800000</td>\n",
       "      <td>6.500000</td>\n",
       "    </tr>\n",
       "    <tr>\n",
       "      <th>max</th>\n",
       "      <td>10.000000</td>\n",
       "      <td>10.000000</td>\n",
       "      <td>10.000000</td>\n",
       "      <td>10.000000</td>\n",
       "    </tr>\n",
       "  </tbody>\n",
       "</table>\n",
       "</div>"
      ],
      "text/plain": [
       "         cvss_v4_0     cvss_v3_1     cvss_v3_0    cvss_v2_0\n",
       "count  2012.000000  56594.000000  16962.000000  4227.000000\n",
       "mean      6.541054      6.620412      6.461508     5.647433\n",
       "std       1.634232      1.751461      1.850871     1.652543\n",
       "min       0.000000      0.000000      0.000000     0.800000\n",
       "25%       5.300000      5.400000      5.300000     4.000000\n",
       "50%       6.300000      6.500000      6.400000     5.800000\n",
       "75%       8.200000      7.800000      7.800000     6.500000\n",
       "max      10.000000     10.000000     10.000000    10.000000"
      ]
     },
     "execution_count": 4,
     "metadata": {},
     "output_type": "execute_result"
    }
   ],
   "source": [
    "cves.info() # Overview of the size of the dataset, its null values in each column, and their datatypes\n",
    "cves.describe() # View summary stats of numerical attributes"
   ]
  },
  {
   "cell_type": "markdown",
   "metadata": {},
   "source": [
    "## Check Validity of IDs"
   ]
  },
  {
   "cell_type": "code",
   "execution_count": 2,
   "metadata": {},
   "outputs": [
    {
     "name": "stdout",
     "output_type": "stream",
     "text": [
      "There are 0 incorrectly-formatted CVE IDs.\n"
     ]
    }
   ],
   "source": [
    "non_ideal_cves = cves[~cves['cve_id'].str.startswith('CVE-', na=True)]\n",
    "print(f'There are {len(non_ideal_cves)} incorrectly-formatted CVE IDs.')"
   ]
  },
  {
   "cell_type": "markdown",
   "metadata": {},
   "source": [
    "## Data Filtration\n",
    "The data current has about $14,000$ records where the CVE was rejected, meaning it was never mapped to an actual vulnerability. In addition to this, MITRE's GitHub repository containing the CVE list warns that records between $\\text{May } 8, 2024$ and $\\text{June } 7, 2024$ contain \"publication and update discrepancies... affecting approximately $515$ records.\" These will be removed in the section [Validate Date Ranges](#validate-date-ranges) once the rest of the preprocessing is completed because the datatypes need to be accurate for such removal to take place successfully."
   ]
  },
  {
   "cell_type": "code",
   "execution_count": 6,
   "metadata": {},
   "outputs": [
    {
     "data": {
      "text/plain": [
       "cve_state\n",
       "PUBLISHED    250171\n",
       "REJECTED      14437\n",
       "Name: count, dtype: int64"
      ]
     },
     "execution_count": 6,
     "metadata": {},
     "output_type": "execute_result"
    }
   ],
   "source": [
    "cves['cve_state'].value_counts()"
   ]
  },
  {
   "cell_type": "code",
   "execution_count": 3,
   "metadata": {},
   "outputs": [],
   "source": [
    "# Only keep published CVEs\n",
    "cves = cves[cves['cve_state'] == 'PUBLISHED']\n",
    "\n",
    "# Drop the state column since every value is identical now\n",
    "cves = cves.drop(columns=['cve_state'])"
   ]
  },
  {
   "cell_type": "markdown",
   "metadata": {},
   "source": [
    "## Dealing with Duplicates\n",
    "There seems to be two duplicates of the very last observation placed at the very top of the dataframe that will have to be discarded."
   ]
  },
  {
   "cell_type": "code",
   "execution_count": 4,
   "metadata": {},
   "outputs": [
    {
     "data": {
      "text/html": [
       "<div>\n",
       "<style scoped>\n",
       "    .dataframe tbody tr th:only-of-type {\n",
       "        vertical-align: middle;\n",
       "    }\n",
       "\n",
       "    .dataframe tbody tr th {\n",
       "        vertical-align: top;\n",
       "    }\n",
       "\n",
       "    .dataframe thead th {\n",
       "        text-align: right;\n",
       "    }\n",
       "</style>\n",
       "<table border=\"1\" class=\"dataframe\">\n",
       "  <thead>\n",
       "    <tr style=\"text-align: right;\">\n",
       "      <th></th>\n",
       "      <th>cve_id</th>\n",
       "      <th>cwe_id</th>\n",
       "      <th>date_published</th>\n",
       "      <th>date_public</th>\n",
       "      <th>description</th>\n",
       "      <th>cvss_v4_0</th>\n",
       "      <th>cvss_v3_1</th>\n",
       "      <th>cvss_v3_0</th>\n",
       "      <th>cvss_v2_0</th>\n",
       "      <th>vendor</th>\n",
       "      <th>product</th>\n",
       "    </tr>\n",
       "  </thead>\n",
       "  <tbody>\n",
       "    <tr>\n",
       "      <th>264609</th>\n",
       "      <td>CVE-2024-9549</td>\n",
       "      <td>CWE-120</td>\n",
       "      <td>2024-10-06T04:00:06.718Z</td>\n",
       "      <td>None</td>\n",
       "      <td>A vulnerability was found in D-Link DIR-605L 2...</td>\n",
       "      <td>8.7</td>\n",
       "      <td>8.8</td>\n",
       "      <td>8.8</td>\n",
       "      <td>9.0</td>\n",
       "      <td>D-Link</td>\n",
       "      <td>DIR-605L</td>\n",
       "    </tr>\n",
       "  </tbody>\n",
       "</table>\n",
       "</div>"
      ],
      "text/plain": [
       "               cve_id   cwe_id            date_published date_public  \\\n",
       "264609  CVE-2024-9549  CWE-120  2024-10-06T04:00:06.718Z        None   \n",
       "\n",
       "                                              description  cvss_v4_0  \\\n",
       "264609  A vulnerability was found in D-Link DIR-605L 2...        8.7   \n",
       "\n",
       "        cvss_v3_1  cvss_v3_0  cvss_v2_0  vendor   product  \n",
       "264609        8.8        8.8        9.0  D-Link  DIR-605L  "
      ]
     },
     "execution_count": 4,
     "metadata": {},
     "output_type": "execute_result"
    }
   ],
   "source": [
    "cves[cves['cve_id'] == 'CVE-2024-9549']"
   ]
  },
  {
   "cell_type": "code",
   "execution_count": 27,
   "metadata": {},
   "outputs": [],
   "source": [
    "# Delete the index where the duplicates appear\n",
    "cves = cves.drop(index=[0, 1])\n",
    "cves = cves.reset_index(drop=True)"
   ]
  },
  {
   "cell_type": "code",
   "execution_count": 5,
   "metadata": {},
   "outputs": [
    {
     "name": "stdout",
     "output_type": "stream",
     "text": [
      "There are 0 duplicate observations.\n"
     ]
    }
   ],
   "source": [
    "print(f'There are {cves.duplicated().sum()} duplicate observations.')"
   ]
  },
  {
   "cell_type": "markdown",
   "metadata": {},
   "source": [
    "## Data Type Validation\n",
    "After mapping the CVSS scores to their respective categories, we'll need to redo this step for those specific variables."
   ]
  },
  {
   "cell_type": "code",
   "execution_count": 6,
   "metadata": {},
   "outputs": [],
   "source": [
    "col_dtypes = {\n",
    "    'cve_id': 'string',\n",
    "    'cwe_id': 'category',\n",
    "    'description': 'string',\n",
    "    #'cvss_v4_0': 'float',\n",
    "    #'cvss_v3_1': 'float',\n",
    "    #'cvss_v3_0': 'float',\n",
    "    #'cvss_v2_0': 'float',\n",
    "    # 'cvss_v4_0_cat': 'category',\n",
    "    # 'cvss_v3_1_cat': 'category',\n",
    "    # 'cvss_v3_0_cat': 'category',\n",
    "    # 'cvss_v2_0_cat': 'category',\n",
    "    'vendor': 'string',\n",
    "    'product': 'string',\n",
    "}\n",
    "\n",
    "cves = cves.astype(col_dtypes)\n",
    "\n",
    "# Handle date-based data types\n",
    "date_cols = ['date_published', 'date_public']\n",
    "cves[date_cols] = cves[date_cols].apply(pd.to_datetime, utc=True, errors='coerce')\n"
   ]
  },
  {
   "cell_type": "code",
   "execution_count": 7,
   "metadata": {},
   "outputs": [
    {
     "data": {
      "text/plain": [
       "cve_id                 string[python]\n",
       "cwe_id                       category\n",
       "date_published    datetime64[ns, UTC]\n",
       "date_public       datetime64[ns, UTC]\n",
       "description            string[python]\n",
       "cvss_v4_0                     float64\n",
       "cvss_v3_1                     float64\n",
       "cvss_v3_0                     float64\n",
       "cvss_v2_0                     float64\n",
       "vendor                 string[python]\n",
       "product                string[python]\n",
       "dtype: object"
      ]
     },
     "execution_count": 7,
     "metadata": {},
     "output_type": "execute_result"
    }
   ],
   "source": [
    "cves.dtypes"
   ]
  },
  {
   "cell_type": "markdown",
   "metadata": {},
   "source": [
    "## Map CVSS Scores to Labels\n",
    "Four versions of the CVSS score were scraped from the CVE list. Versions number $3$ and $3.1$ are calculated in the same way according to FIRST, the organization that designed the standard. The only thing that differentiates the two subversions is the clarification of metrics and documentation. As such, the two attributes are blended into one, <span style=''>taking</span> from version $3$ where $3.1$ was not available from MITRE and from version $3.1$ where $3$ was not available. In situations where there existed a discrepancy between the two versions—applicable to precisely $1$ observation (`CVE-2023-22515`), $3.1$ was preferred for its currency."
   ]
  },
  {
   "cell_type": "code",
   "execution_count": 8,
   "metadata": {},
   "outputs": [],
   "source": [
    "def map_cvss_to_category(score):\n",
    "    if score >= 9.0:\n",
    "        return 'critical'\n",
    "    elif score >= 7.0:\n",
    "        return 'high'\n",
    "    elif score >= 4.0:\n",
    "        return 'medium'\n",
    "    elif score > 0.0:\n",
    "        return 'low'\n",
    "    elif score == 0.0:\n",
    "        return 'none'\n",
    "    return None\n",
    "\n",
    "cvss_cols = ['cvss_v4_0', 'cvss_v3_1', 'cvss_v3_0', 'cvss_v2_0']\n",
    "\n",
    "for col in cvss_cols:\n",
    "    label_col = col + '_cat'\n",
    "    cves[label_col] = cves[col].apply(map_cvss_to_category)"
   ]
  },
  {
   "cell_type": "code",
   "execution_count": 9,
   "metadata": {},
   "outputs": [],
   "source": [
    "# Merge versions 3 and 3.1 of the CVSS\n",
    "cves['cvss_v3'] = cves['cvss_v3_1'].combine_first(cves['cvss_v3_0'])\n",
    "cves['cvss_v3_cat'] = cves['cvss_v3_1_cat'].combine_first(cves['cvss_v3_0_cat'])\n",
    "\n",
    "# Delete extraneous versions\n",
    "cvss_cols = [\n",
    "    'cvss_v4_0',\n",
    "    'cvss_v3_1',\n",
    "    'cvss_v3_0',\n",
    "    'cvss_v2_0',\n",
    "    'cvss_v4_0_cat',\n",
    "    'cvss_v3_1_cat',\n",
    "    'cvss_v3_0_cat',\n",
    "    'cvss_v2_0_cat'\n",
    "]\n",
    "cves = cves.drop(columns=cvss_cols)\n",
    "\n",
    "# Reposition the aggregated scores\n",
    "cves.insert(5, 'cvss_v3', cves.pop('cvss_v3'))\n",
    "cves.insert(6, 'cvss_v3_cat', cves.pop('cvss_v3_cat'))\n",
    "\n",
    "# Order CVSS categories\n",
    "cvss_cats = ['none', 'low', 'medium', 'high', 'critical']\n",
    "cves['cvss_v3_cat'] = pd.Categorical(\n",
    "    cves['cvss_v3_cat'],\n",
    "    categories=cvss_cats,\n",
    "    ordered=True\n",
    ")"
   ]
  },
  {
   "cell_type": "markdown",
   "metadata": {},
   "source": [
    "## Remove Extraneous Whitespace"
   ]
  },
  {
   "cell_type": "code",
   "execution_count": 10,
   "metadata": {},
   "outputs": [
    {
     "name": "stdout",
     "output_type": "stream",
     "text": [
      "Column 'cve_id' has 0 trimmable whitespace characters.\n",
      "Column 'description' has 8179 trimmable whitespace characters.\n",
      "Column 'vendor' has 299 trimmable whitespace characters.\n",
      "Column 'product' has 618 trimmable whitespace characters.\n",
      "Column 'cve_id' has 0 trimmable whitespace characters.\n",
      "Column 'description' has 0 trimmable whitespace characters.\n",
      "Column 'vendor' has 0 trimmable whitespace characters.\n",
      "Column 'product' has 0 trimmable whitespace characters.\n"
     ]
    }
   ],
   "source": [
    "def check_whitespace(df, cols):\n",
    "    for col in cols:\n",
    "        trimmable = df[col].str.contains(r'^\\s+|\\s+$', regex=True).sum()\n",
    "        print(f\"Column '{col}' has {trimmable} trimmable whitespace characters.\")\n",
    "\n",
    "str_cols = ['cve_id', 'description', 'vendor', 'product']\n",
    "\n",
    "# Check for whitespace characters in the specified columns\n",
    "check_whitespace(cves, str_cols)\n",
    "\n",
    "# Remove the whitespace that was found\n",
    "cves[str_cols] = cves[str_cols].apply(lambda x: x.str.strip())\n",
    "\n",
    "# Check again\n",
    "check_whitespace(cves, str_cols)"
   ]
  },
  {
   "cell_type": "code",
   "execution_count": 93,
   "metadata": {},
   "outputs": [
    {
     "name": "stdout",
     "output_type": "stream",
     "text": [
      "<class 'pandas.core.frame.DataFrame'>\n",
      "Index: 250171 entries, 0 to 264607\n",
      "Data columns (total 9 columns):\n",
      " #   Column          Non-Null Count   Dtype              \n",
      "---  ------          --------------   -----              \n",
      " 0   cve_id          250171 non-null  string             \n",
      " 1   cwe_id          62937 non-null   category           \n",
      " 2   date_published  177416 non-null  datetime64[ns, UTC]\n",
      " 3   date_public     117154 non-null  datetime64[ns, UTC]\n",
      " 4   description     250171 non-null  string             \n",
      " 5   cvss_v3         69256 non-null   float64            \n",
      " 6   cvss_v3_cat     69256 non-null   category           \n",
      " 7   vendor          250023 non-null  string             \n",
      " 8   product         250057 non-null  string             \n",
      "dtypes: category(2), datetime64[ns, UTC](2), float64(1), string(4)\n",
      "memory usage: 16.0 MB\n"
     ]
    }
   ],
   "source": [
    "cves.info()"
   ]
  },
  {
   "cell_type": "markdown",
   "metadata": {},
   "source": [
    "## Validate Date Ranges\n",
    "MITRE's CVE Project GitHub warns of $515$ records affected by date discrepancies between $05/08/2024$ and $06/07/2024$. I've only counted $69$ records that fall within this range. Apparently, <span style='color:#ffcc00;text-shadow:0 0 3px #ffcc00;'>there is a fix in progress</span>. It may be the case that once we've merged all of the data together, dates from this range don't appear anyways, so <span style='color:#ffcc00;text-shadow:0 0 3px #ffcc00;'>I've made a preliminary executive decision to keep them in the dataset as of <span style='font-weight:bold;color:#ff9900;background-color:#525767;border-radius:3px;padding-inline:3px;padding-block:1px;font-style:normal;text-shadow:none;'>cve_list_v3</span></span>. Once the data is fixed on MITRE's end, it will be a nearly automatic process updating it in the notebooks, so I'd rather filter the dates out in the final preparatory notebook if necessary.\n",
    "\n",
    "What this section currently does however is implement a decision which was made to keep the earliest date between the two date variables `date_published` (the date the CVE was listed) and `date_public` (the date the CVE was known to the public). This attribute is named `date_known` within the `cve_list_v3` dataset."
   ]
  },
  {
   "cell_type": "code",
   "execution_count": 102,
   "metadata": {},
   "outputs": [],
   "source": [
    "# Filter out the dates\n",
    "start_date = pd.Timestamp('2024-05-08 00:00:00', tz='UTC')\n",
    "end_date = pd.Timestamp('2024-06-07 23:59:59', tz='UTC')\n",
    "\n",
    "date_discrepancies = len(cves[(cves['date_published'] >= start_date) & (cves['date_published'] <= end_date)])\n",
    "print(f'There are {date_discrepancies} records that fall within the range believed by MITRE to have inconsistent dates.')"
   ]
  },
  {
   "cell_type": "code",
   "execution_count": 113,
   "metadata": {},
   "outputs": [],
   "source": [
    "date_cols = ['date_published', 'date_public']\n",
    "\n",
    "# Take the earliest date between both attributes\n",
    "cves['date_known'] = cves[date_cols].min(axis=1)\n",
    "\n",
    "# Drop the previous date columns\n",
    "cves = cves.drop(columns=date_cols)\n",
    "\n",
    "# Reposition date known\n",
    "position = cves.columns.get_loc('description') + 1\n",
    "cves.insert(position, 'date_known', cves.pop('date_known'))\n"
   ]
  },
  {
   "cell_type": "markdown",
   "metadata": {},
   "source": [
    "## Remove CWE ID Attribute\n",
    "This variable is not necessary for our current analytic direction, so it's continued existance in the dataset is clutter and should be removed. The `vendor` and `product` attributes are kept solely to search for the CVEs' patch release and first exploited dates."
   ]
  },
  {
   "cell_type": "code",
   "execution_count": null,
   "metadata": {},
   "outputs": [],
   "source": [
    "cves = cves.drop(columns=['cwe_id'])"
   ]
  },
  {
   "cell_type": "code",
   "execution_count": 116,
   "metadata": {},
   "outputs": [
    {
     "data": {
      "text/html": [
       "<div>\n",
       "<style scoped>\n",
       "    .dataframe tbody tr th:only-of-type {\n",
       "        vertical-align: middle;\n",
       "    }\n",
       "\n",
       "    .dataframe tbody tr th {\n",
       "        vertical-align: top;\n",
       "    }\n",
       "\n",
       "    .dataframe thead th {\n",
       "        text-align: right;\n",
       "    }\n",
       "</style>\n",
       "<table border=\"1\" class=\"dataframe\">\n",
       "  <thead>\n",
       "    <tr style=\"text-align: right;\">\n",
       "      <th></th>\n",
       "      <th>cve_id</th>\n",
       "      <th>description</th>\n",
       "      <th>date_known</th>\n",
       "      <th>cvss_v3</th>\n",
       "      <th>cvss_v3_cat</th>\n",
       "      <th>vendor</th>\n",
       "      <th>product</th>\n",
       "    </tr>\n",
       "  </thead>\n",
       "  <tbody>\n",
       "    <tr>\n",
       "      <th>0</th>\n",
       "      <td>CVE-1999-0001</td>\n",
       "      <td>ip_input.c in BSD-derived TCP/IP implementatio...</td>\n",
       "      <td>2000-02-04 05:00:00+00:00</td>\n",
       "      <td>NaN</td>\n",
       "      <td>NaN</td>\n",
       "      <td>n/a</td>\n",
       "      <td>n/a</td>\n",
       "    </tr>\n",
       "    <tr>\n",
       "      <th>1</th>\n",
       "      <td>CVE-1999-0002</td>\n",
       "      <td>Buffer overflow in NFS mountd gives root acces...</td>\n",
       "      <td>1999-09-29 04:00:00+00:00</td>\n",
       "      <td>NaN</td>\n",
       "      <td>NaN</td>\n",
       "      <td>n/a</td>\n",
       "      <td>n/a</td>\n",
       "    </tr>\n",
       "    <tr>\n",
       "      <th>2</th>\n",
       "      <td>CVE-1999-0003</td>\n",
       "      <td>Execute commands as root via buffer overflow i...</td>\n",
       "      <td>1999-09-29 04:00:00+00:00</td>\n",
       "      <td>NaN</td>\n",
       "      <td>NaN</td>\n",
       "      <td>n/a</td>\n",
       "      <td>n/a</td>\n",
       "    </tr>\n",
       "  </tbody>\n",
       "</table>\n",
       "</div>"
      ],
      "text/plain": [
       "          cve_id                                        description  \\\n",
       "0  CVE-1999-0001  ip_input.c in BSD-derived TCP/IP implementatio...   \n",
       "1  CVE-1999-0002  Buffer overflow in NFS mountd gives root acces...   \n",
       "2  CVE-1999-0003  Execute commands as root via buffer overflow i...   \n",
       "\n",
       "                 date_known  cvss_v3 cvss_v3_cat vendor product  \n",
       "0 2000-02-04 05:00:00+00:00      NaN         NaN    n/a     n/a  \n",
       "1 1999-09-29 04:00:00+00:00      NaN         NaN    n/a     n/a  \n",
       "2 1999-09-29 04:00:00+00:00      NaN         NaN    n/a     n/a  "
      ]
     },
     "execution_count": 116,
     "metadata": {},
     "output_type": "execute_result"
    }
   ],
   "source": [
    "cves.head(3)"
   ]
  },
  {
   "cell_type": "markdown",
   "metadata": {},
   "source": [
    "## Saving the Dataset\n",
    "This file is being saved as a `.parquet` file within the `CVE_Project` directory inside of `data`."
   ]
  },
  {
   "cell_type": "code",
   "execution_count": 117,
   "metadata": {},
   "outputs": [],
   "source": [
    "cves.to_parquet(path='../data/CVE_Project/cve_list_v3.parquet', index=False)"
   ]
  }
 ],
 "metadata": {
  "kernelspec": {
   "display_name": "ml-env",
   "language": "python",
   "name": "python3"
  },
  "language_info": {
   "codemirror_mode": {
    "name": "ipython",
    "version": 3
   },
   "file_extension": ".py",
   "mimetype": "text/x-python",
   "name": "python",
   "nbconvert_exporter": "python",
   "pygments_lexer": "ipython3",
   "version": "3.10.13"
  }
 },
 "nbformat": 4,
 "nbformat_minor": 2
}
