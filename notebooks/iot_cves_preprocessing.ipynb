{
 "cells": [
  {
   "cell_type": "markdown",
   "metadata": {},
   "source": [
    "# Preprocessing MITRE's IoT CVE Data\n",
    "This notebook is dedicated to cleaning up MITRE's list of known IoT-involed CVEs. The dataset includes three sheets in an Excel file. The `2019-2024` sheet contains all the observations contained in the file's two other sheets, which was verified by making the dataset's rows hashable, placing them inside a series of sets, and checking whether the two other sheets were subsets of the first. The clean dataset is paramount to the master copy because it provides the scope of all the other data necessary.\n",
    "\n",
    "Cleaning the data involves several important steps, namely:\n",
    "- Understanding the data at a bird's eye level—e.g. number of rows, data types (numbers, text, dates, etc.)\n",
    "- Handling incorrect data and data types\n",
    "- Interpolating or discarding missing values\n",
    "- Removing redundant white space characters\n",
    "- Standardizing the formatting of column names, categorical data, etc.\n",
    "- Deleting duplicate observations"
   ]
  },
  {
   "cell_type": "code",
   "execution_count": 2,
   "metadata": {},
   "outputs": [
    {
     "data": {
      "text/html": [
       "<div>\n",
       "<style scoped>\n",
       "    .dataframe tbody tr th:only-of-type {\n",
       "        vertical-align: middle;\n",
       "    }\n",
       "\n",
       "    .dataframe tbody tr th {\n",
       "        vertical-align: top;\n",
       "    }\n",
       "\n",
       "    .dataframe thead th {\n",
       "        text-align: right;\n",
       "    }\n",
       "</style>\n",
       "<table border=\"1\" class=\"dataframe\">\n",
       "  <thead>\n",
       "    <tr style=\"text-align: right;\">\n",
       "      <th></th>\n",
       "      <th>CVE-2024-38089</th>\n",
       "      <th>Microsoft Defender for IoT Elevation of Privilege Vulnerability</th>\n",
       "    </tr>\n",
       "  </thead>\n",
       "  <tbody>\n",
       "    <tr>\n",
       "      <th>0</th>\n",
       "      <td>CVE-2024-29195</td>\n",
       "      <td>The azure-c-shared-utility is a C library for ...</td>\n",
       "    </tr>\n",
       "    <tr>\n",
       "      <th>1</th>\n",
       "      <td>CVE-2024-29055</td>\n",
       "      <td>Microsoft Defender for IoT Elevation of Privil...</td>\n",
       "    </tr>\n",
       "    <tr>\n",
       "      <th>2</th>\n",
       "      <td>CVE-2024-29054</td>\n",
       "      <td>Microsoft Defender for IoT Elevation of Privil...</td>\n",
       "    </tr>\n",
       "  </tbody>\n",
       "</table>\n",
       "</div>"
      ],
      "text/plain": [
       "   CVE-2024-38089  \\\n",
       "0  CVE-2024-29195   \n",
       "1  CVE-2024-29055   \n",
       "2  CVE-2024-29054   \n",
       "\n",
       "  Microsoft Defender for IoT Elevation of Privilege Vulnerability  \n",
       "0  The azure-c-shared-utility is a C library for ...               \n",
       "1  Microsoft Defender for IoT Elevation of Privil...               \n",
       "2  Microsoft Defender for IoT Elevation of Privil...               "
      ]
     },
     "execution_count": 2,
     "metadata": {},
     "output_type": "execute_result"
    }
   ],
   "source": [
    "# Import libraries\n",
    "import pandas as pd\n",
    "import numpy as np\n",
    "\n",
    "# Import raw data\n",
    "df2019_2024 = pd.read_excel(\n",
    "    '../data/MITRE/MITRE_2024_IoT_CVEs.xlsx',\n",
    "    sheet_name='2019-2024 CVEs'\n",
    ")\n",
    "df2019_2024.head(3)"
   ]
  },
  {
   "cell_type": "code",
   "execution_count": 2,
   "metadata": {},
   "outputs": [
    {
     "name": "stdout",
     "output_type": "stream",
     "text": [
      "<class 'pandas.core.frame.DataFrame'>\n",
      "RangeIndex: 1088 entries, 0 to 1087\n",
      "Data columns (total 2 columns):\n",
      " #   Column                                                           Non-Null Count  Dtype \n",
      "---  ------                                                           --------------  ----- \n",
      " 0   CVE-2024-38089                                                   1088 non-null   object\n",
      " 1   Microsoft Defender for IoT Elevation of Privilege Vulnerability  1088 non-null   object\n",
      "dtypes: object(2)\n",
      "memory usage: 17.1+ KB\n"
     ]
    }
   ],
   "source": [
    "df2019_2024.info()"
   ]
  },
  {
   "cell_type": "markdown",
   "metadata": {},
   "source": [
    "## Fixing Column Names\n",
    "The column names of these datasets are themselves observations. They'll have to be pushed down into the dataset and replaced with accurate column names."
   ]
  },
  {
   "cell_type": "code",
   "execution_count": 3,
   "metadata": {},
   "outputs": [],
   "source": [
    "def add_cols_as_obs(df):\n",
    "    current_col_names = df.columns.tolist() # Grab current column names\n",
    "    df.loc[-1] = current_col_names # Set the column names equal to a row\n",
    "    df.index = df.index + 1 # Shift the index\n",
    "    df = df.sort_index() # Sort the index\n",
    "    df = df.reset_index(drop=True)\n",
    "    return df\n",
    "\n",
    "# df2019_2024 = add_cols_as_obs(df2019_2024)\n",
    "\n",
    "# Rename columns names\n",
    "df2019_2024 = df2019_2024.rename(columns={\n",
    "    'CVE-2024-38089': 'cve_id',\n",
    "    'Microsoft Defender for IoT Elevation of Privilege Vulnerability': 'description'\n",
    "})"
   ]
  },
  {
   "cell_type": "code",
   "execution_count": 6,
   "metadata": {},
   "outputs": [
    {
     "data": {
      "text/html": [
       "<div>\n",
       "<style scoped>\n",
       "    .dataframe tbody tr th:only-of-type {\n",
       "        vertical-align: middle;\n",
       "    }\n",
       "\n",
       "    .dataframe tbody tr th {\n",
       "        vertical-align: top;\n",
       "    }\n",
       "\n",
       "    .dataframe thead th {\n",
       "        text-align: right;\n",
       "    }\n",
       "</style>\n",
       "<table border=\"1\" class=\"dataframe\">\n",
       "  <thead>\n",
       "    <tr style=\"text-align: right;\">\n",
       "      <th></th>\n",
       "      <th>cve_id</th>\n",
       "      <th>description</th>\n",
       "    </tr>\n",
       "  </thead>\n",
       "  <tbody>\n",
       "    <tr>\n",
       "      <th>0</th>\n",
       "      <td>CVE-2024-38089</td>\n",
       "      <td>Microsoft Defender for IoT Elevation of Privil...</td>\n",
       "    </tr>\n",
       "    <tr>\n",
       "      <th>1</th>\n",
       "      <td>CVE-2024-29195</td>\n",
       "      <td>The azure-c-shared-utility is a C library for ...</td>\n",
       "    </tr>\n",
       "    <tr>\n",
       "      <th>2</th>\n",
       "      <td>CVE-2024-29055</td>\n",
       "      <td>Microsoft Defender for IoT Elevation of Privil...</td>\n",
       "    </tr>\n",
       "  </tbody>\n",
       "</table>\n",
       "</div>"
      ],
      "text/plain": [
       "           cve_id                                        description\n",
       "0  CVE-2024-38089  Microsoft Defender for IoT Elevation of Privil...\n",
       "1  CVE-2024-29195  The azure-c-shared-utility is a C library for ...\n",
       "2  CVE-2024-29055  Microsoft Defender for IoT Elevation of Privil..."
      ]
     },
     "execution_count": 6,
     "metadata": {},
     "output_type": "execute_result"
    }
   ],
   "source": [
    "df2019_2024.head(3)"
   ]
  },
  {
   "cell_type": "markdown",
   "metadata": {},
   "source": [
    "## Duplicates"
   ]
  },
  {
   "cell_type": "code",
   "execution_count": 4,
   "metadata": {},
   "outputs": [
    {
     "name": "stdout",
     "output_type": "stream",
     "text": [
      "\"df2019-2024\" has 0 duplicate observations.\n"
     ]
    }
   ],
   "source": [
    "print(f'\"df2019-2024\" has {df2019_2024.duplicated().sum()} duplicate observations.')"
   ]
  },
  {
   "cell_type": "markdown",
   "metadata": {},
   "source": [
    "## Null Values"
   ]
  },
  {
   "cell_type": "code",
   "execution_count": 5,
   "metadata": {},
   "outputs": [
    {
     "name": "stdout",
     "output_type": "stream",
     "text": [
      "\"df2019-2024\" has [0, 0] null values in each columns.\n"
     ]
    }
   ],
   "source": [
    "print(f'\"df2019-2024\" has {df2019_2024.isnull().sum().tolist()} null values in each columns.')"
   ]
  },
  {
   "cell_type": "markdown",
   "metadata": {},
   "source": [
    "## Data Type Conversion"
   ]
  },
  {
   "cell_type": "code",
   "execution_count": 6,
   "metadata": {},
   "outputs": [],
   "source": [
    "df2019_2024 = df2019_2024.astype('string')"
   ]
  },
  {
   "cell_type": "markdown",
   "metadata": {},
   "source": [
    "## Whitespace Removal"
   ]
  },
  {
   "cell_type": "code",
   "execution_count": 7,
   "metadata": {},
   "outputs": [
    {
     "name": "stdout",
     "output_type": "stream",
     "text": [
      "Column 'cve_id' has 0 trimmable whitespace characters.\n",
      "Column 'description' has 0 trimmable whitespace characters.\n",
      "Column 'cve_id' has 0 trimmable whitespace characters.\n",
      "Column 'description' has 0 trimmable whitespace characters.\n"
     ]
    }
   ],
   "source": [
    "def check_whitespace(df, cols):\n",
    "    for col in cols:\n",
    "        trimmable = df[col].str.contains(r'^\\s+|\\s+$', regex=True).sum()\n",
    "        print(f\"Column '{col}' has {trimmable} trimmable whitespace characters.\")\n",
    "\n",
    "str_cols = ['cve_id', 'description']\n",
    "check_whitespace(df2019_2024, str_cols)\n",
    "\n",
    "# Remove leading or trailing whitespace\n",
    "df2019_2024[str_cols] = df2019_2024[str_cols].apply(lambda x: x.str.strip())\n",
    "check_whitespace(df2019_2024, str_cols)"
   ]
  },
  {
   "cell_type": "markdown",
   "metadata": {},
   "source": [
    "## Saving the Data"
   ]
  },
  {
   "cell_type": "code",
   "execution_count": 8,
   "metadata": {},
   "outputs": [],
   "source": [
    "df2019_2024.to_parquet(path='../data/MITRE/mitre_iot_cves_v1.parquet')"
   ]
  }
 ],
 "metadata": {
  "kernelspec": {
   "display_name": "ml-env",
   "language": "python",
   "name": "python3"
  },
  "language_info": {
   "codemirror_mode": {
    "name": "ipython",
    "version": 3
   },
   "file_extension": ".py",
   "mimetype": "text/x-python",
   "name": "python",
   "nbconvert_exporter": "python",
   "pygments_lexer": "ipython3",
   "version": "3.10.13"
  }
 },
 "nbformat": 4,
 "nbformat_minor": 2
}
