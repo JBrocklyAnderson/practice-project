{
 "cells": [
  {
   "cell_type": "markdown",
   "metadata": {},
   "source": [
    "# Working with Known IoT-Related CVES: A New Direction\n",
    "This notebook is dedicated to cleaning up the MITRE list of known IoT-related CVEs, creating a dataframe from nation-state attack data, and merging both of these with a cleaned-up version of the CVE data agregated in the `APT_IoT_CVE_EDA` notebook. The resulting dataset is then saved to both CSV and parquet file types for easy reading/preprocessing."
   ]
  },
  {
   "cell_type": "code",
   "execution_count": 1,
   "metadata": {},
   "outputs": [],
   "source": [
    "import pandas as pd\n",
    "import numpy as np\n",
    "import matplotlib.pyplot as plt\n",
    "import seaborn as sns"
   ]
  },
  {
   "cell_type": "code",
   "execution_count": 2,
   "metadata": {},
   "outputs": [
    {
     "name": "stdout",
     "output_type": "stream",
     "text": [
      "The MITRE IoT CVEs Excel spreadsheet has the following sheets: ['2024 IoT CVEs', '2020-2024 CVEs', '2019-2024 CVEs']\n"
     ]
    }
   ],
   "source": [
    "sheet_names = pd.ExcelFile('../data/MITRE/MITRE_2024_IoT_CVEs.xlsx').sheet_names\n",
    "print(f'The MITRE IoT CVEs Excel spreadsheet has the following sheets: {sheet_names}')"
   ]
  },
  {
   "cell_type": "code",
   "execution_count": 3,
   "metadata": {},
   "outputs": [],
   "source": [
    "df2019_2024 = pd.read_excel('../data/MITRE/MITRE_2024_IoT_CVEs.xlsx', sheet_name='2019-2024 CVEs')"
   ]
  },
  {
   "cell_type": "code",
   "execution_count": 4,
   "metadata": {},
   "outputs": [],
   "source": [
    "df2020_2024 = pd.read_excel('../data/MITRE/MITRE_2024_IoT_CVEs.xlsx', sheet_name='2020-2024 CVEs')"
   ]
  },
  {
   "cell_type": "code",
   "execution_count": 5,
   "metadata": {},
   "outputs": [],
   "source": [
    "df2024 = pd.read_excel('../data/MITRE/MITRE_2024_IoT_CVEs.xlsx', sheet_name='2024 IoT CVEs')"
   ]
  },
  {
   "cell_type": "code",
   "execution_count": 6,
   "metadata": {},
   "outputs": [
    {
     "name": "stdout",
     "output_type": "stream",
     "text": [
      "\"2019-2024 CVES\" has 1088 rows and 2 columns.\n",
      "\"2020-2024 CVES\" has 714 rows and 2 columns.\n",
      "\"2024 IoT CVES\" has 24 rows and 2 columns.\n"
     ]
    }
   ],
   "source": [
    "def shape_of(name, df):\n",
    "    rows = len(df)\n",
    "    cols = len(df.columns)\n",
    "    print(f'\"{name}\" has {rows} rows and {cols} columns.')\n",
    "\n",
    "shape_of('2019-2024 CVES', df2019_2024)\n",
    "shape_of('2020-2024 CVES', df2020_2024)\n",
    "shape_of('2024 IoT CVES', df2024)"
   ]
  },
  {
   "cell_type": "code",
   "execution_count": 7,
   "metadata": {},
   "outputs": [
    {
     "data": {
      "text/html": [
       "<div>\n",
       "<style scoped>\n",
       "    .dataframe tbody tr th:only-of-type {\n",
       "        vertical-align: middle;\n",
       "    }\n",
       "\n",
       "    .dataframe tbody tr th {\n",
       "        vertical-align: top;\n",
       "    }\n",
       "\n",
       "    .dataframe thead th {\n",
       "        text-align: right;\n",
       "    }\n",
       "</style>\n",
       "<table border=\"1\" class=\"dataframe\">\n",
       "  <thead>\n",
       "    <tr style=\"text-align: right;\">\n",
       "      <th></th>\n",
       "      <th>CVE-2024-38089</th>\n",
       "      <th>Microsoft Defender for IoT Elevation of Privilege Vulnerability</th>\n",
       "    </tr>\n",
       "  </thead>\n",
       "  <tbody>\n",
       "    <tr>\n",
       "      <th>0</th>\n",
       "      <td>CVE-2024-29195</td>\n",
       "      <td>The azure-c-shared-utility is a C library for ...</td>\n",
       "    </tr>\n",
       "    <tr>\n",
       "      <th>1</th>\n",
       "      <td>CVE-2024-29055</td>\n",
       "      <td>Microsoft Defender for IoT Elevation of Privil...</td>\n",
       "    </tr>\n",
       "    <tr>\n",
       "      <th>2</th>\n",
       "      <td>CVE-2024-29054</td>\n",
       "      <td>Microsoft Defender for IoT Elevation of Privil...</td>\n",
       "    </tr>\n",
       "  </tbody>\n",
       "</table>\n",
       "</div>"
      ],
      "text/plain": [
       "   CVE-2024-38089  \\\n",
       "0  CVE-2024-29195   \n",
       "1  CVE-2024-29055   \n",
       "2  CVE-2024-29054   \n",
       "\n",
       "  Microsoft Defender for IoT Elevation of Privilege Vulnerability  \n",
       "0  The azure-c-shared-utility is a C library for ...               \n",
       "1  Microsoft Defender for IoT Elevation of Privil...               \n",
       "2  Microsoft Defender for IoT Elevation of Privil...               "
      ]
     },
     "execution_count": 7,
     "metadata": {},
     "output_type": "execute_result"
    }
   ],
   "source": [
    "df2019_2024.head(3)"
   ]
  },
  {
   "cell_type": "code",
   "execution_count": 8,
   "metadata": {},
   "outputs": [
    {
     "data": {
      "text/html": [
       "<div>\n",
       "<style scoped>\n",
       "    .dataframe tbody tr th:only-of-type {\n",
       "        vertical-align: middle;\n",
       "    }\n",
       "\n",
       "    .dataframe tbody tr th {\n",
       "        vertical-align: top;\n",
       "    }\n",
       "\n",
       "    .dataframe thead th {\n",
       "        text-align: right;\n",
       "    }\n",
       "</style>\n",
       "<table border=\"1\" class=\"dataframe\">\n",
       "  <thead>\n",
       "    <tr style=\"text-align: right;\">\n",
       "      <th></th>\n",
       "      <th>CVE-2024-38089</th>\n",
       "      <th>Microsoft Defender for IoT Elevation of Privilege Vulnerability</th>\n",
       "    </tr>\n",
       "  </thead>\n",
       "  <tbody>\n",
       "    <tr>\n",
       "      <th>0</th>\n",
       "      <td>CVE-2024-29195</td>\n",
       "      <td>The azure-c-shared-utility is a C library for ...</td>\n",
       "    </tr>\n",
       "    <tr>\n",
       "      <th>1</th>\n",
       "      <td>CVE-2024-29055</td>\n",
       "      <td>Microsoft Defender for IoT Elevation of Privil...</td>\n",
       "    </tr>\n",
       "    <tr>\n",
       "      <th>2</th>\n",
       "      <td>CVE-2024-29054</td>\n",
       "      <td>Microsoft Defender for IoT Elevation of Privil...</td>\n",
       "    </tr>\n",
       "  </tbody>\n",
       "</table>\n",
       "</div>"
      ],
      "text/plain": [
       "   CVE-2024-38089  \\\n",
       "0  CVE-2024-29195   \n",
       "1  CVE-2024-29055   \n",
       "2  CVE-2024-29054   \n",
       "\n",
       "  Microsoft Defender for IoT Elevation of Privilege Vulnerability  \n",
       "0  The azure-c-shared-utility is a C library for ...               \n",
       "1  Microsoft Defender for IoT Elevation of Privil...               \n",
       "2  Microsoft Defender for IoT Elevation of Privil...               "
      ]
     },
     "execution_count": 8,
     "metadata": {},
     "output_type": "execute_result"
    }
   ],
   "source": [
    "df2020_2024.head(3)"
   ]
  },
  {
   "cell_type": "code",
   "execution_count": 9,
   "metadata": {},
   "outputs": [
    {
     "data": {
      "text/html": [
       "<div>\n",
       "<style scoped>\n",
       "    .dataframe tbody tr th:only-of-type {\n",
       "        vertical-align: middle;\n",
       "    }\n",
       "\n",
       "    .dataframe tbody tr th {\n",
       "        vertical-align: top;\n",
       "    }\n",
       "\n",
       "    .dataframe thead th {\n",
       "        text-align: right;\n",
       "    }\n",
       "</style>\n",
       "<table border=\"1\" class=\"dataframe\">\n",
       "  <thead>\n",
       "    <tr style=\"text-align: right;\">\n",
       "      <th></th>\n",
       "      <th>2024: MITRE - IoT CVEs</th>\n",
       "      <th>Unnamed: 1</th>\n",
       "    </tr>\n",
       "  </thead>\n",
       "  <tbody>\n",
       "    <tr>\n",
       "      <th>0</th>\n",
       "      <td>CVE-2024-38089</td>\n",
       "      <td>Microsoft Defender for IoT Elevation of Privil...</td>\n",
       "    </tr>\n",
       "    <tr>\n",
       "      <th>1</th>\n",
       "      <td>CVE-2024-29195</td>\n",
       "      <td>The azure-c-shared-utility is a C library for ...</td>\n",
       "    </tr>\n",
       "    <tr>\n",
       "      <th>2</th>\n",
       "      <td>CVE-2024-29055</td>\n",
       "      <td>Microsoft Defender for IoT Elevation of Privil...</td>\n",
       "    </tr>\n",
       "  </tbody>\n",
       "</table>\n",
       "</div>"
      ],
      "text/plain": [
       "  2024: MITRE - IoT CVEs                                         Unnamed: 1\n",
       "0         CVE-2024-38089  Microsoft Defender for IoT Elevation of Privil...\n",
       "1         CVE-2024-29195  The azure-c-shared-utility is a C library for ...\n",
       "2         CVE-2024-29055  Microsoft Defender for IoT Elevation of Privil..."
      ]
     },
     "execution_count": 9,
     "metadata": {},
     "output_type": "execute_result"
    }
   ],
   "source": [
    "df2024.head(3)"
   ]
  },
  {
   "cell_type": "markdown",
   "metadata": {},
   "source": [
    "The column names of these datasets are themselves observations. They'll have to be pushed down into the dataset and replaced with accurate column names."
   ]
  },
  {
   "cell_type": "code",
   "execution_count": 10,
   "metadata": {},
   "outputs": [],
   "source": [
    "def add_cols_as_obs(df):\n",
    "    current_col_names = df.columns.tolist() # Grab current column names\n",
    "    df.loc[-1] = current_col_names # Set the column names equal to a row\n",
    "    df.index = df.index + 1 # Shift the index\n",
    "    df = df.sort_index() # Sort the index\n",
    "    df = df.reset_index(drop=True)\n",
    "    return df\n",
    "\n",
    "df2019_2024 = add_cols_as_obs(df2019_2024)\n",
    "df2020_2024 = add_cols_as_obs(df2020_2024)"
   ]
  },
  {
   "cell_type": "code",
   "execution_count": 11,
   "metadata": {},
   "outputs": [],
   "source": [
    "# Rename columns names\n",
    "df2019_2024 = df2019_2024.rename(columns={\n",
    "    'CVE-2024-38089': 'cve_id',\n",
    "    'Microsoft Defender for IoT Elevation of Privilege Vulnerability': 'description'\n",
    "})\n",
    "\n",
    "df2020_2024 = df2020_2024.rename(columns={\n",
    "    'CVE-2024-38089': 'cve_id',\n",
    "    'Microsoft Defender for IoT Elevation of Privilege Vulnerability': 'description'\n",
    "})\n",
    "\n",
    "df2024 = df2024.rename(columns={\n",
    "    '2024: MITRE - IoT CVEs': 'cve_id',\n",
    "    'Unnamed: 1': 'description'\n",
    "})"
   ]
  },
  {
   "cell_type": "code",
   "execution_count": 12,
   "metadata": {},
   "outputs": [
    {
     "data": {
      "text/html": [
       "<div>\n",
       "<style scoped>\n",
       "    .dataframe tbody tr th:only-of-type {\n",
       "        vertical-align: middle;\n",
       "    }\n",
       "\n",
       "    .dataframe tbody tr th {\n",
       "        vertical-align: top;\n",
       "    }\n",
       "\n",
       "    .dataframe thead th {\n",
       "        text-align: right;\n",
       "    }\n",
       "</style>\n",
       "<table border=\"1\" class=\"dataframe\">\n",
       "  <thead>\n",
       "    <tr style=\"text-align: right;\">\n",
       "      <th></th>\n",
       "      <th>cve_id</th>\n",
       "      <th>description</th>\n",
       "    </tr>\n",
       "  </thead>\n",
       "  <tbody>\n",
       "    <tr>\n",
       "      <th>0</th>\n",
       "      <td>CVE-2024-38089</td>\n",
       "      <td>Microsoft Defender for IoT Elevation of Privil...</td>\n",
       "    </tr>\n",
       "    <tr>\n",
       "      <th>1</th>\n",
       "      <td>CVE-2024-29195</td>\n",
       "      <td>The azure-c-shared-utility is a C library for ...</td>\n",
       "    </tr>\n",
       "    <tr>\n",
       "      <th>2</th>\n",
       "      <td>CVE-2024-29055</td>\n",
       "      <td>Microsoft Defender for IoT Elevation of Privil...</td>\n",
       "    </tr>\n",
       "  </tbody>\n",
       "</table>\n",
       "</div>"
      ],
      "text/plain": [
       "           cve_id                                        description\n",
       "0  CVE-2024-38089  Microsoft Defender for IoT Elevation of Privil...\n",
       "1  CVE-2024-29195  The azure-c-shared-utility is a C library for ...\n",
       "2  CVE-2024-29055  Microsoft Defender for IoT Elevation of Privil..."
      ]
     },
     "execution_count": 12,
     "metadata": {},
     "output_type": "execute_result"
    }
   ],
   "source": [
    "df2019_2024.head(3) "
   ]
  },
  {
   "cell_type": "code",
   "execution_count": 13,
   "metadata": {},
   "outputs": [
    {
     "data": {
      "text/html": [
       "<div>\n",
       "<style scoped>\n",
       "    .dataframe tbody tr th:only-of-type {\n",
       "        vertical-align: middle;\n",
       "    }\n",
       "\n",
       "    .dataframe tbody tr th {\n",
       "        vertical-align: top;\n",
       "    }\n",
       "\n",
       "    .dataframe thead th {\n",
       "        text-align: right;\n",
       "    }\n",
       "</style>\n",
       "<table border=\"1\" class=\"dataframe\">\n",
       "  <thead>\n",
       "    <tr style=\"text-align: right;\">\n",
       "      <th></th>\n",
       "      <th>cve_id</th>\n",
       "      <th>description</th>\n",
       "    </tr>\n",
       "  </thead>\n",
       "  <tbody>\n",
       "    <tr>\n",
       "      <th>0</th>\n",
       "      <td>CVE-2024-38089</td>\n",
       "      <td>Microsoft Defender for IoT Elevation of Privil...</td>\n",
       "    </tr>\n",
       "    <tr>\n",
       "      <th>1</th>\n",
       "      <td>CVE-2024-29195</td>\n",
       "      <td>The azure-c-shared-utility is a C library for ...</td>\n",
       "    </tr>\n",
       "    <tr>\n",
       "      <th>2</th>\n",
       "      <td>CVE-2024-29055</td>\n",
       "      <td>Microsoft Defender for IoT Elevation of Privil...</td>\n",
       "    </tr>\n",
       "  </tbody>\n",
       "</table>\n",
       "</div>"
      ],
      "text/plain": [
       "           cve_id                                        description\n",
       "0  CVE-2024-38089  Microsoft Defender for IoT Elevation of Privil...\n",
       "1  CVE-2024-29195  The azure-c-shared-utility is a C library for ...\n",
       "2  CVE-2024-29055  Microsoft Defender for IoT Elevation of Privil..."
      ]
     },
     "execution_count": 13,
     "metadata": {},
     "output_type": "execute_result"
    }
   ],
   "source": [
    "df2020_2024.head(3)"
   ]
  },
  {
   "cell_type": "code",
   "execution_count": 14,
   "metadata": {},
   "outputs": [
    {
     "data": {
      "text/html": [
       "<div>\n",
       "<style scoped>\n",
       "    .dataframe tbody tr th:only-of-type {\n",
       "        vertical-align: middle;\n",
       "    }\n",
       "\n",
       "    .dataframe tbody tr th {\n",
       "        vertical-align: top;\n",
       "    }\n",
       "\n",
       "    .dataframe thead th {\n",
       "        text-align: right;\n",
       "    }\n",
       "</style>\n",
       "<table border=\"1\" class=\"dataframe\">\n",
       "  <thead>\n",
       "    <tr style=\"text-align: right;\">\n",
       "      <th></th>\n",
       "      <th>cve_id</th>\n",
       "      <th>description</th>\n",
       "    </tr>\n",
       "  </thead>\n",
       "  <tbody>\n",
       "    <tr>\n",
       "      <th>0</th>\n",
       "      <td>CVE-2024-38089</td>\n",
       "      <td>Microsoft Defender for IoT Elevation of Privil...</td>\n",
       "    </tr>\n",
       "    <tr>\n",
       "      <th>1</th>\n",
       "      <td>CVE-2024-29195</td>\n",
       "      <td>The azure-c-shared-utility is a C library for ...</td>\n",
       "    </tr>\n",
       "    <tr>\n",
       "      <th>2</th>\n",
       "      <td>CVE-2024-29055</td>\n",
       "      <td>Microsoft Defender for IoT Elevation of Privil...</td>\n",
       "    </tr>\n",
       "  </tbody>\n",
       "</table>\n",
       "</div>"
      ],
      "text/plain": [
       "           cve_id                                        description\n",
       "0  CVE-2024-38089  Microsoft Defender for IoT Elevation of Privil...\n",
       "1  CVE-2024-29195  The azure-c-shared-utility is a C library for ...\n",
       "2  CVE-2024-29055  Microsoft Defender for IoT Elevation of Privil..."
      ]
     },
     "execution_count": 14,
     "metadata": {},
     "output_type": "execute_result"
    }
   ],
   "source": [
    "df2024.head(3)"
   ]
  },
  {
   "cell_type": "code",
   "execution_count": 15,
   "metadata": {},
   "outputs": [
    {
     "name": "stdout",
     "output_type": "stream",
     "text": [
      "\"df2019-2024\" has 0 duplicate observations.\n",
      "\"df2020-2024\" has 0 duplicate observations.\n",
      "\"df2024\" has 0 duplicate observations.\n"
     ]
    }
   ],
   "source": [
    "print(f'\"df2019-2024\" has {df2019_2024.duplicated().sum()} duplicate observations.')\n",
    "print(f'\"df2020-2024\" has {df2020_2024.duplicated().sum()} duplicate observations.')\n",
    "print(f'\"df2024\" has {df2024.duplicated().sum()} duplicate observations.')"
   ]
  },
  {
   "cell_type": "code",
   "execution_count": 16,
   "metadata": {},
   "outputs": [
    {
     "name": "stdout",
     "output_type": "stream",
     "text": [
      "\"df2019-2024\" has [0, 0] null values.\n",
      "\"df2020-2024\" has [0, 0] null values.\n",
      "\"df2024\" has [0, 0] null values.\n"
     ]
    }
   ],
   "source": [
    "print(f'\"df2019-2024\" has {df2019_2024.isnull().sum().tolist()} null values.')\n",
    "print(f'\"df2020-2024\" has {df2020_2024.isnull().sum().tolist()} null values.')\n",
    "print(f'\"df2024\" has {df2024.isnull().sum().tolist()} null values.')"
   ]
  },
  {
   "cell_type": "code",
   "execution_count": 17,
   "metadata": {},
   "outputs": [
    {
     "name": "stdout",
     "output_type": "stream",
     "text": [
      "All observations in \"df2020_2024\" appear in df2019_2024: True\n",
      "All observations in \"df2024\" appear in df2020_2024: True\n"
     ]
    }
   ],
   "source": [
    "# Check whether the smaller datasets exist in the larger datasets\n",
    "df2019_2024_set = set([tuple(row) for row in df2019_2024.values])\n",
    "df2020_2024_set = set([tuple(row) for row in df2020_2024.values])\n",
    "df2024_set = set([tuple(row) for row in df2024.values])\n",
    "\n",
    "print(f'All observations in \"df2020_2024\" appear in df2019_2024: {df2020_2024_set.issubset(df2019_2024_set)}')\n",
    "print(f'All observations in \"df2024\" appear in df2020_2024: {df2024_set.issubset(df2020_2024_set)}')"
   ]
  },
  {
   "cell_type": "markdown",
   "metadata": {},
   "source": [
    "All of the observations in `df2024` exist in `df2020_2024` and all of those observations exist in `df2019_2024`, so we'll use the largest dataset.\n",
    "\n",
    "## Nation-State Attack Data\n",
    "Next, I'll create a dataset from the nation-state attack information we've consolidated. We can then concatenate these two dataframes together."
   ]
  },
  {
   "cell_type": "code",
   "execution_count": 18,
   "metadata": {},
   "outputs": [],
   "source": [
    "# Create nation-state attack dataframe\n",
    "nsa = {\n",
    "    'attack': [\n",
    "        'Mirai Botnet',\n",
    "        'VPNFilter',\n",
    "        'Triton/Trisis',\n",
    "        'Iranian Cyberattacks on Water Systems',\n",
    "        'Iranian APT Exploits on Fortinet Vulnerabilities',\n",
    "        'Operation Shadowhammer',\n",
    "        'Ripple20 Vulnerabilities',\n",
    "        'Dragonfly/Energetic Bear Campaign 1',\n",
    "        'Dragonfly/Energetic Bear Campaign 2',\n",
    "        'Stuxnet',\n",
    "        'Heartbleed Exploits',\n",
    "        'BlackEnergy Attack on Ukraine',\n",
    "        'Microsoft Exchange ProxyShell Exploits',\n",
    "        'F5 BIG-IP Exploits',\n",
    "        'Pulse Secure VPN Exploits',\n",
    "        'Equifax Data Breach',\n",
    "        'SolarWinds Orion Supply Chain Attack',\n",
    "        'Not Petya Ransomware Attack',\n",
    "        'WannaCry Ransomware Attack'\n",
    "    ],\n",
    "    'year_start': [\n",
    "        2016,\n",
    "        2018,\n",
    "        2017,\n",
    "        2020,\n",
    "        2021,\n",
    "        2018,\n",
    "        2020,\n",
    "        2013,\n",
    "        2017,\n",
    "        2018,\n",
    "        2014,\n",
    "        2015,\n",
    "        2021,\n",
    "        2021,\n",
    "        2019,\n",
    "        2017,\n",
    "        2020,\n",
    "        2017,\n",
    "        2017\n",
    "    ],\n",
    "    'year_end': [\n",
    "        2016,\n",
    "        2018,\n",
    "        2017,\n",
    "        2020,\n",
    "        2021,\n",
    "        2019,\n",
    "        2020,\n",
    "        2014,\n",
    "        2017,\n",
    "        2018,\n",
    "        2014,\n",
    "        2015,\n",
    "        2021,\n",
    "        2021,\n",
    "        2021,\n",
    "        2017,\n",
    "        2020,\n",
    "        2017,\n",
    "        2017\n",
    "    ],\n",
    "    'attribution_group': [\n",
    "        pd.NA,\n",
    "        'APT28 (Fancy Bear)',\n",
    "        pd.NA,\n",
    "        pd.NA,\n",
    "        pd.NA,\n",
    "        'APT41',\n",
    "        pd.NA,\n",
    "        'Dragonfly (Energetic Bear)',\n",
    "        'Dragonfly (Energetic Bear)',\n",
    "        pd.NA,\n",
    "        pd.NA,\n",
    "        'Sandworm',\n",
    "        pd.NA,\n",
    "        pd.NA,\n",
    "        'APT5',\n",
    "        'APT10',\n",
    "        'APT29 (Cozy Bear)',\n",
    "        'Sandworm',\n",
    "        'Lazarus'\n",
    "    ],\n",
    "    'attribution_state': [\n",
    "        [pd.NA],\n",
    "        ['Russia', 'Russia', 'Russia', 'Russia', 'Russia'],\n",
    "        ['Russia', 'Russia'],\n",
    "        ['Iran'],\n",
    "        ['Iran'],\n",
    "        ['China'],\n",
    "        [pd.NA, pd.NA, pd.NA, pd.NA],\n",
    "        ['Russia'],\n",
    "        ['Russia'],\n",
    "        ['US', 'Israel'],\n",
    "        ['China'],\n",
    "        ['Russia'],\n",
    "        ['China', 'China', 'China'],\n",
    "        ['Russia', 'China'],\n",
    "        ['China'],\n",
    "        ['China'],\n",
    "        ['Russia'],\n",
    "        ['Russia'],\n",
    "        ['DPRK']\n",
    "    ],\n",
    "    'cve_id': [\n",
    "        [pd.NA],\n",
    "        [\n",
    "            'CVE-2018-14847',\n",
    "            'CVE-2017-12074',\n",
    "            'CVE-2018-10561',\n",
    "            'CVE-2018-10562',\n",
    "            'CVE-2017-8418',\n",
    "        ],\n",
    "        [\n",
    "            'CVE-2017-7905',\n",
    "            'CVE-2017-7921'\n",
    "        ],\n",
    "        [pd.NA],\n",
    "        ['CVE-2018-13379'],\n",
    "        ['CVE-2019-19781'],\n",
    "        [\n",
    "            'CVE-2020-11896',\n",
    "            'CVE-2020-11898',\n",
    "            'CVE-2020-11899',\n",
    "            'CVE-2020-11901'\n",
    "        ],\n",
    "        [pd.NA],\n",
    "        [pd.NA],\n",
    "        [pd.NA, pd.NA],\n",
    "        ['CVE-2014-0160'],\n",
    "        [pd.NA],\n",
    "        [\n",
    "            'CVE-2021-34473',\n",
    "            'CVE-2021-34523',\n",
    "            'CVE-2021-31207'\n",
    "        ],\n",
    "        [\n",
    "            'CVE-2020-5902',\n",
    "            'CVE-2020-5902'\n",
    "        ],\n",
    "        ['CVE-2019-11510'],\n",
    "        ['CVE-2017-5638'],\n",
    "        [pd.NA],\n",
    "        ['CVE-2017-0144'],\n",
    "        ['CVE-2017-0144']\n",
    "    ],\n",
    "    'description': [\n",
    "        [pd.NA],\n",
    "        [\n",
    "            'MikroTik RouterOS through 6.42 allows unauthenticated remote attackers to read arbitrary files and remote authenticated attackers to write arbitrary files due to a directory traversal vulnerability in the WinBox interface.',\n",
    "            'Directory traversal vulnerability in the SYNO.DNSServer.Zone.MasterZoneConf in Synology DNS Server before 2.2.1-3042 allows remote authenticated attackers to write arbitrary files via the domain_name parameter.',\n",
    "            'An issue was discovered on Dasan GPON home routers. It is possible to bypass authentication simply by appending \"?images\" to any URL of the device that requires authentication, as demonstrated by the /menu.html?images/ or /GponForm/diag_FORM?images/ URI. One can then manage the device.',\n",
    "            \"An issue was discovered on Dasan GPON home routers. Command Injection can occur via the dest_host parameter in a diag_action=ping request to a GponForm/diag_Form URI. Because the router saves ping results in /tmp and transmits them to the user when the user revisits /diag.html, it's quite simple to execute commands and retrieve their output.\",\n",
    "            'RuboCop 0.48.1 and earlier does not use /tmp in safe way, allowing local users to exploit this to tamper with cache files belonging to other users.'\n",
    "        ],\n",
    "        [\n",
    "            'A Weak Cryptography for Passwords issue was discovered in General Electric (GE) Multilin SR 750 Feeder Protection Relay, firmware versions prior to Version 7.47; SR 760 Feeder Protection Relay, firmware versions prior to Version 7.47; SR 469 Motor Protection Relay, firmware versions prior to Version 5.23; SR 489 Generator Protection Relay, firmware versions prior to Version 4.06; SR 745 Transformer Protection Relay, firmware versions prior to Version 5.23; SR 369 Motor Protection Relay, all firmware versions; Multilin Universal Relay, firmware Version 6.0 and prior versions; and Multilin URplus (D90, C90, B95), all versions. Ciphertext versions of user passwords were created with a non-random initialization vector leaving them susceptible to dictionary attacks. Ciphertext of user passwords can be obtained from the front LCD panel of affected products and through issued Modbus commands.',\n",
    "            'An Improper Authentication issue was discovered in Hikvision DS-2CD2xx2F-I Series V5.2.0 build 140721 to V5.4.0 build 160530, DS-2CD2xx0F-I Series V5.2.0 build 140721 to V5.4.0 Build 160401, DS-2CD2xx2FWD Series V5.3.1 build 150410 to V5.4.4 Build 161125, DS-2CD4x2xFWD Series V5.2.0 build 140721 to V5.4.0 Build 160414, DS-2CD4xx5 Series V5.2.0 build 140721 to V5.4.0 Build 160421, DS-2DFx Series V5.2.0 build 140805 to V5.4.5 Build 160928, and DS-2CD63xx Series V5.0.9 build 140305 to V5.3.5 Build 160106 devices. The improper authentication vulnerability occurs when an application does not adequately or correctly authenticate users. This may allow a malicious user to escalate his or her privileges on the system and gain access to sensitive information.'\n",
    "        ],\n",
    "        [pd.NA],\n",
    "        ['An Improper Limitation of a Pathname to a Restricted Directory (\"Path Traversal\") in Fortinet FortiOS 6.0.0 to 6.0.4, 5.6.3 to 5.6.7 and 5.4.6 to 5.4.12 and FortiProxy 2.0.0, 1.2.0 to 1.2.8, 1.1.0 to 1.1.6, 1.0.0 to 1.0.7 under SSL VPN web portal allows an unauthenticated attacker to download system files via special crafted HTTP resource requests.'],\n",
    "        ['An issue was discovered in Citrix Application Delivery Controller (ADC) and Gateway 10.5, 11.1, 12.0, 12.1, and 13.0. They allow Directory Traversal.'],\n",
    "        [\n",
    "            'The Treck TCP/IP stack before 6.0.1.66 allows Remote Code Execution, related to IPv4 tunneling.',\n",
    "            'The Treck TCP/IP stack before 6.0.1.66 improperly handles an IPv4/ICMPv4 Length Parameter Inconsistency, which might allow remote attackers to trigger an information leak.',\n",
    "            'The Treck TCP/IP stack before 6.0.1.66 has an IPv6 Out-of-bounds Read.',\n",
    "            'The Treck TCP/IP stack before 6.0.1.66 allows Remote Code execution via a single invalid DNS response.'\n",
    "        ],\n",
    "        [pd.NA],\n",
    "        [pd.NA],\n",
    "        [pd.NA, pd.NA],\n",
    "        ['The (1) TLS and (2) DTLS implementations in OpenSSL 1.0.1 before 1.0.1g do not properly handle Heartbeat Extension packets, which allows remote attackers to obtain sensitive information from process memory via crafted packets that trigger a buffer over-read, as demonstrated by reading private keys, related to d1_both.c and t1_lib.c, aka the Heartbleed bug.'],\n",
    "        [pd.NA],\n",
    "        [\n",
    "            'Microsoft Exchange Server Remote Code Execution Vulnerability',\n",
    "            'Microsoft Exchange Server Elevation of Privilege Vulnerability',\n",
    "            'Microsoft Exchange Server Security Feature Bypass Vulnerability'\n",
    "        ],\n",
    "        [\n",
    "            'In BIG-IP versions 15.0.0-15.1.0.3, 14.1.0-14.1.2.5, 13.1.0-13.1.3.3, 12.1.0-12.1.5.1, and 11.6.1-11.6.5.1, the Traffic Management User Interface (TMUI), also referred to as the Configuration utility, has a Remote Code Execution (RCE) vulnerability in undisclosed pages.',\n",
    "            'In BIG-IP versions 15.0.0-15.1.0.3, 14.1.0-14.1.2.5, 13.1.0-13.1.3.3, 12.1.0-12.1.5.1, and 11.6.1-11.6.5.1, the Traffic Management User Interface (TMUI), also referred to as the Configuration utility, has a Remote Code Execution (RCE) vulnerability in undisclosed pages.'\n",
    "        ],\n",
    "        ['In Pulse Secure Pulse Connect Secure (PCS) 8.2 before 8.2R12.1, 8.3 before 8.3R7.1, and 9.0 before 9.0R3.4, an unauthenticated remote attacker can send a specially crafted URI to perform an arbitrary file reading vulnerability.'],\n",
    "        ['The Jakarta Multipart parser in Apache Struts 2 2.3.x before 2.3.32 and 2.5.x before 2.5.10.1 has incorrect exception handling and error-message generation during file-upload attempts, which allows remote attackers to execute arbitrary commands via a crafted Content-Type, Content-Disposition, or Content-Length HTTP header, as exploited in the wild in March 2017 with a Content-Type header containing a #cmd= string.'],\n",
    "        [pd.NA],\n",
    "        ['The SMBv1 server in Microsoft Windows Vista SP2; Windows Server 2008 SP2 and R2 SP1; Windows 7 SP1; Windows 8.1; Windows Server 2012 Gold and R2; Windows RT 8.1; and Windows 10 Gold, 1511, and 1607; and Windows Server 2016 allows remote attackers to execute arbitrary code via crafted packets, aka \"Windows SMB Remote Code Execution Vulnerability.\" This vulnerability is different from those described in CVE-2017-0143, CVE-2017-0145, CVE-2017-0146, and CVE-2017-0148.'],\n",
    "        ['The SMBv1 server in Microsoft Windows Vista SP2; Windows Server 2008 SP2 and R2 SP1; Windows 7 SP1; Windows 8.1; Windows Server 2012 Gold and R2; Windows RT 8.1; and Windows 10 Gold, 1511, and 1607; and Windows Server 2016 allows remote attackers to execute arbitrary code via crafted packets, aka \"Windows SMB Remote Code Execution Vulnerability.\" This vulnerability is different from those described in CVE-2017-0143, CVE-2017-0145, CVE-2017-0146, and CVE-2017-0148.']\n",
    "    ]\n",
    "}\n",
    "\n",
    "df_nsa = pd.DataFrame(nsa)\n"
   ]
  },
  {
   "cell_type": "code",
   "execution_count": 19,
   "metadata": {},
   "outputs": [
    {
     "data": {
      "text/html": [
       "<div>\n",
       "<style scoped>\n",
       "    .dataframe tbody tr th:only-of-type {\n",
       "        vertical-align: middle;\n",
       "    }\n",
       "\n",
       "    .dataframe tbody tr th {\n",
       "        vertical-align: top;\n",
       "    }\n",
       "\n",
       "    .dataframe thead th {\n",
       "        text-align: right;\n",
       "    }\n",
       "</style>\n",
       "<table border=\"1\" class=\"dataframe\">\n",
       "  <thead>\n",
       "    <tr style=\"text-align: right;\">\n",
       "      <th></th>\n",
       "      <th>attack</th>\n",
       "      <th>year_start</th>\n",
       "      <th>year_end</th>\n",
       "      <th>attribution_group</th>\n",
       "      <th>attribution_state</th>\n",
       "      <th>cve_id</th>\n",
       "      <th>description</th>\n",
       "    </tr>\n",
       "  </thead>\n",
       "  <tbody>\n",
       "    <tr>\n",
       "      <th>0</th>\n",
       "      <td>Mirai Botnet</td>\n",
       "      <td>2016</td>\n",
       "      <td>2016</td>\n",
       "      <td>&lt;NA&gt;</td>\n",
       "      <td>[&lt;NA&gt;]</td>\n",
       "      <td>[&lt;NA&gt;]</td>\n",
       "      <td>[&lt;NA&gt;]</td>\n",
       "    </tr>\n",
       "    <tr>\n",
       "      <th>1</th>\n",
       "      <td>VPNFilter</td>\n",
       "      <td>2018</td>\n",
       "      <td>2018</td>\n",
       "      <td>APT28 (Fancy Bear)</td>\n",
       "      <td>[Russia, Russia, Russia, Russia, Russia]</td>\n",
       "      <td>[CVE-2018-14847, CVE-2017-12074, CVE-2018-1056...</td>\n",
       "      <td>[MikroTik RouterOS through 6.42 allows unauthe...</td>\n",
       "    </tr>\n",
       "    <tr>\n",
       "      <th>2</th>\n",
       "      <td>Triton/Trisis</td>\n",
       "      <td>2017</td>\n",
       "      <td>2017</td>\n",
       "      <td>&lt;NA&gt;</td>\n",
       "      <td>[Russia, Russia]</td>\n",
       "      <td>[CVE-2017-7905, CVE-2017-7921]</td>\n",
       "      <td>[A Weak Cryptography for Passwords issue was d...</td>\n",
       "    </tr>\n",
       "  </tbody>\n",
       "</table>\n",
       "</div>"
      ],
      "text/plain": [
       "          attack  year_start  year_end   attribution_group  \\\n",
       "0   Mirai Botnet        2016      2016                <NA>   \n",
       "1      VPNFilter        2018      2018  APT28 (Fancy Bear)   \n",
       "2  Triton/Trisis        2017      2017                <NA>   \n",
       "\n",
       "                          attribution_state  \\\n",
       "0                                    [<NA>]   \n",
       "1  [Russia, Russia, Russia, Russia, Russia]   \n",
       "2                          [Russia, Russia]   \n",
       "\n",
       "                                              cve_id  \\\n",
       "0                                             [<NA>]   \n",
       "1  [CVE-2018-14847, CVE-2017-12074, CVE-2018-1056...   \n",
       "2                     [CVE-2017-7905, CVE-2017-7921]   \n",
       "\n",
       "                                         description  \n",
       "0                                             [<NA>]  \n",
       "1  [MikroTik RouterOS through 6.42 allows unauthe...  \n",
       "2  [A Weak Cryptography for Passwords issue was d...  "
      ]
     },
     "execution_count": 19,
     "metadata": {},
     "output_type": "execute_result"
    }
   ],
   "source": [
    "df_nsa.head(3)"
   ]
  },
  {
   "cell_type": "code",
   "execution_count": 20,
   "metadata": {},
   "outputs": [
    {
     "name": "stdout",
     "output_type": "stream",
     "text": [
      "<class 'pandas.core.frame.DataFrame'>\n",
      "RangeIndex: 19 entries, 0 to 18\n",
      "Data columns (total 7 columns):\n",
      " #   Column             Non-Null Count  Dtype \n",
      "---  ------             --------------  ----- \n",
      " 0   attack             19 non-null     object\n",
      " 1   year_start         19 non-null     int64 \n",
      " 2   year_end           19 non-null     int64 \n",
      " 3   attribution_group  10 non-null     object\n",
      " 4   attribution_state  19 non-null     object\n",
      " 5   cve_id             19 non-null     object\n",
      " 6   description        19 non-null     object\n",
      "dtypes: int64(2), object(5)\n",
      "memory usage: 1.2+ KB\n"
     ]
    }
   ],
   "source": [
    "df_nsa.info()"
   ]
  },
  {
   "cell_type": "markdown",
   "metadata": {},
   "source": [
    "## Exploding the Data\n",
    "With the attack data aggregated and processed into a (dirty) dataset, we have to look at the relationships between lists in list-containing columns. Since there is a one-to-one relationship between `cve_id` and their `description`, we'll explode these columns simultaneously. Only then will we explode the lists in the `attribution_state` column, since we don't want to create false relationships that suggest that, within the context of a single attack, Nation A used CVE A while Nation B used CVE B, when in fact we don't know. Ultimately, we have to represent the situation as both nations having used both CVEs. I created the dictionary object knowing how Pandas needs our observation's lists aligned, so we can avoid we what had to do for the CVE and CWE lists in terms of normalizing their content lengths."
   ]
  },
  {
   "cell_type": "code",
   "execution_count": 21,
   "metadata": {},
   "outputs": [],
   "source": [
    "# Explode the nation-state attack data\n",
    "df_nsa = df_nsa.explode(['cve_id', 'description'])\n",
    "df_nsa = df_nsa.explode('attribution_state')"
   ]
  },
  {
   "cell_type": "code",
   "execution_count": 22,
   "metadata": {},
   "outputs": [],
   "source": [
    "# Drop duplicate observations\n",
    "df_nsa = df_nsa.drop_duplicates()"
   ]
  },
  {
   "cell_type": "markdown",
   "metadata": {},
   "source": [
    "## Merging with IoT CVE Data"
   ]
  },
  {
   "cell_type": "code",
   "execution_count": 23,
   "metadata": {},
   "outputs": [],
   "source": [
    "df = df2019_2024.merge(\n",
    "    df_nsa,\n",
    "    on=['cve_id', 'description'],\n",
    "    how='outer'\n",
    ")"
   ]
  },
  {
   "cell_type": "code",
   "execution_count": 24,
   "metadata": {},
   "outputs": [
    {
     "name": "stdout",
     "output_type": "stream",
     "text": [
      "<class 'pandas.core.frame.DataFrame'>\n",
      "RangeIndex: 1120 entries, 0 to 1119\n",
      "Data columns (total 7 columns):\n",
      " #   Column             Non-Null Count  Dtype  \n",
      "---  ------             --------------  -----  \n",
      " 0   cve_id             1112 non-null   object \n",
      " 1   description        1112 non-null   object \n",
      " 2   attack             31 non-null     object \n",
      " 3   year_start         31 non-null     float64\n",
      " 4   year_end           31 non-null     float64\n",
      " 5   attribution_group  14 non-null     object \n",
      " 6   attribution_state  26 non-null     object \n",
      "dtypes: float64(2), object(5)\n",
      "memory usage: 61.4+ KB\n"
     ]
    }
   ],
   "source": [
    "df.info()"
   ]
  },
  {
   "cell_type": "code",
   "execution_count": 25,
   "metadata": {},
   "outputs": [
    {
     "name": "stdout",
     "output_type": "stream",
     "text": [
      "<class 'pandas.core.frame.DataFrame'>\n",
      "RangeIndex: 1120 entries, 0 to 1119\n",
      "Data columns (total 7 columns):\n",
      " #   Column             Non-Null Count  Dtype  \n",
      "---  ------             --------------  -----  \n",
      " 0   cve_id             1112 non-null   object \n",
      " 1   description        1112 non-null   object \n",
      " 2   attack             31 non-null     object \n",
      " 3   year_start         31 non-null     float64\n",
      " 4   year_end           31 non-null     float64\n",
      " 5   attribution_group  14 non-null     object \n",
      " 6   attribution_state  26 non-null     object \n",
      "dtypes: float64(2), object(5)\n",
      "memory usage: 61.4+ KB\n"
     ]
    }
   ],
   "source": [
    "df.info()"
   ]
  },
  {
   "cell_type": "markdown",
   "metadata": {},
   "source": [
    "## Adding CVEs from the Check Point Article\n",
    "[Revisit the article here.](https://blog.checkpoint.com/security/the-tipping-point-exploring-the-surge-in-iot-cyberattacks-plaguing-the-education-sector/)"
   ]
  },
  {
   "cell_type": "code",
   "execution_count": 26,
   "metadata": {},
   "outputs": [
    {
     "name": "stderr",
     "output_type": "stream",
     "text": [
      "C:\\Users\\jbroc\\AppData\\Local\\Temp\\ipykernel_29236\\3181033767.py:24: FutureWarning: The behavior of DataFrame concatenation with empty or all-NA entries is deprecated. In a future version, this will no longer exclude empty or all-NA columns when determining the result dtypes. To retain the old behavior, exclude the relevant entries before the concat operation.\n",
      "  df = pd.concat([df, df_cp], ignore_index=True)\n"
     ]
    }
   ],
   "source": [
    "# New observations from article\n",
    "cp = {\n",
    "    'cve_id': [\n",
    "        'CVE-2015-2051',\n",
    "        'CVE-2016-6277',\n",
    "        'CVE-2022-37061'\n",
    "    ],\n",
    "    'description': [\n",
    "        'The D-Link DIR-645 Wired/Wireless Router Rev. Ax with firmware 1.04b12 and earlier allows remote attackers to execute arbitrary commands via a GetDeviceSettings action to the HNAP interface.',\n",
    "        'NETGEAR R6250 before 1.0.4.6.Beta, R6400 before 1.0.1.18.Beta, R6700 before 1.0.1.14.Beta, R6900, R7000 before 1.0.7.6.Beta, R7100LG before 1.0.0.28.Beta, R7300DST before 1.0.0.46.Beta, R7900 before 1.0.1.8.Beta, R8000 before 1.0.3.26.Beta, D6220, D6400, D7000, and possibly other routers allow remote attackers to execute arbitrary commands via shell metacharacters in the path info to cgi-bin/.',\n",
    "        'All FLIR AX8 thermal sensor cameras version up to and including 1.46.16 are vulnerable to Remote Command Injection. This can be exploited to inject and execute arbitrary shell commands as the root user through the id HTTP POST parameter in the res.php endpoint. A successful exploit could allow the attacker to execute arbitrary commands on the underlying operating system with the root privileges.'\n",
    "    ],\n",
    "    'attack': [pd.NA, pd.NA, pd.NA],\n",
    "    'year_start': [pd.NA, pd.NA, pd.NA],\n",
    "    'year_end': [pd.NA, pd.NA, pd.NA],\n",
    "    'attribution_group': [pd.NA, pd.NA, pd.NA],\n",
    "    'attribution_state': [pd.NA, pd.NA, pd.NA]\n",
    "}\n",
    "\n",
    "# Convert new data to dataframe\n",
    "df_cp = pd.DataFrame(cp)\n",
    "\n",
    "# Concatenate df and df_cp\n",
    "df = pd.concat([df, df_cp], ignore_index=True)"
   ]
  },
  {
   "cell_type": "code",
   "execution_count": 27,
   "metadata": {},
   "outputs": [],
   "source": [
    "# Convert data types to text\n",
    "obj_cols = df.select_dtypes('object').columns\n",
    "df[obj_cols] = df[obj_cols].astype('string')"
   ]
  },
  {
   "cell_type": "code",
   "execution_count": 28,
   "metadata": {},
   "outputs": [],
   "source": [
    "# Extract year from CVE ID\n",
    "df['year_cve'] = df['cve_id'].str.split('-').str[1]\n",
    "\n",
    "# Convert year columns back to whole numbers\n",
    "year_cols = ['year_start', 'year_end', 'year_cve']\n",
    "df[year_cols] = df[year_cols].astype('Int64')\n",
    "\n",
    "# Move the year column\n",
    "df.insert(1, 'year_cve', df.pop('year_cve'))"
   ]
  },
  {
   "cell_type": "markdown",
   "metadata": {},
   "source": [
    "### Importing and Cleaning the CVE Data\n",
    "All these steps were determined to be necessary in the `APT_IoT_CVE_EDA` notebook."
   ]
  },
  {
   "cell_type": "code",
   "execution_count": 29,
   "metadata": {},
   "outputs": [],
   "source": [
    "# Import\n",
    "cves = pd.read_parquet('../data/CVE_V5/CVE_List.parquet')\n",
    "\n",
    "# Drop rejected CVEs\n",
    "cves = cves.drop(cves[cves['cve_state'] == 'REJECTED'].index)\n",
    "\n",
    "# Convert publication date to datetime format\n",
    "cves['date_published'] = pd.to_datetime(cves['date_published'], format='ISO8601', utc=True)\n",
    "\n",
    "# Convert objects to text data (string)\n",
    "obj_cols = cves.select_dtypes(include=['object']).columns\n",
    "cves[obj_cols] = cves[obj_cols].astype('string')\n",
    "\n",
    "# Standardize severity scores\n",
    "cves['severity'] = cves['severity'].replace(['medium', 'MODERATE'], 'MEDIUM')\n",
    "\n",
    "# Remove leading or trailing whitespace\n",
    "str_cols = cves.select_dtypes(include=['string']).columns\n",
    "cves[str_cols] = cves[str_cols].apply(lambda x: x.str.strip())"
   ]
  },
  {
   "cell_type": "code",
   "execution_count": 30,
   "metadata": {},
   "outputs": [
    {
     "data": {
      "text/html": [
       "<div>\n",
       "<style scoped>\n",
       "    .dataframe tbody tr th:only-of-type {\n",
       "        vertical-align: middle;\n",
       "    }\n",
       "\n",
       "    .dataframe tbody tr th {\n",
       "        vertical-align: top;\n",
       "    }\n",
       "\n",
       "    .dataframe thead th {\n",
       "        text-align: right;\n",
       "    }\n",
       "</style>\n",
       "<table border=\"1\" class=\"dataframe\">\n",
       "  <thead>\n",
       "    <tr style=\"text-align: right;\">\n",
       "      <th></th>\n",
       "      <th>cve_id</th>\n",
       "      <th>cwe_id</th>\n",
       "      <th>cve_state</th>\n",
       "      <th>date_published</th>\n",
       "      <th>description</th>\n",
       "      <th>severity</th>\n",
       "      <th>severity_score</th>\n",
       "      <th>attack_vector</th>\n",
       "      <th>attack_complexity</th>\n",
       "    </tr>\n",
       "  </thead>\n",
       "  <tbody>\n",
       "    <tr>\n",
       "      <th>0</th>\n",
       "      <td>CVE-1999-0001</td>\n",
       "      <td>&lt;NA&gt;</td>\n",
       "      <td>PUBLISHED</td>\n",
       "      <td>2000-02-04 05:00:00+00:00</td>\n",
       "      <td>ip_input.c in BSD-derived TCP/IP implementatio...</td>\n",
       "      <td>&lt;NA&gt;</td>\n",
       "      <td>NaN</td>\n",
       "      <td>&lt;NA&gt;</td>\n",
       "      <td>&lt;NA&gt;</td>\n",
       "    </tr>\n",
       "    <tr>\n",
       "      <th>1</th>\n",
       "      <td>CVE-1999-0002</td>\n",
       "      <td>&lt;NA&gt;</td>\n",
       "      <td>PUBLISHED</td>\n",
       "      <td>1999-09-29 04:00:00+00:00</td>\n",
       "      <td>Buffer overflow in NFS mountd gives root acces...</td>\n",
       "      <td>&lt;NA&gt;</td>\n",
       "      <td>NaN</td>\n",
       "      <td>&lt;NA&gt;</td>\n",
       "      <td>&lt;NA&gt;</td>\n",
       "    </tr>\n",
       "    <tr>\n",
       "      <th>2</th>\n",
       "      <td>CVE-1999-0003</td>\n",
       "      <td>&lt;NA&gt;</td>\n",
       "      <td>PUBLISHED</td>\n",
       "      <td>1999-09-29 04:00:00+00:00</td>\n",
       "      <td>Execute commands as root via buffer overflow i...</td>\n",
       "      <td>&lt;NA&gt;</td>\n",
       "      <td>NaN</td>\n",
       "      <td>&lt;NA&gt;</td>\n",
       "      <td>&lt;NA&gt;</td>\n",
       "    </tr>\n",
       "  </tbody>\n",
       "</table>\n",
       "</div>"
      ],
      "text/plain": [
       "          cve_id cwe_id  cve_state            date_published  \\\n",
       "0  CVE-1999-0001   <NA>  PUBLISHED 2000-02-04 05:00:00+00:00   \n",
       "1  CVE-1999-0002   <NA>  PUBLISHED 1999-09-29 04:00:00+00:00   \n",
       "2  CVE-1999-0003   <NA>  PUBLISHED 1999-09-29 04:00:00+00:00   \n",
       "\n",
       "                                         description severity  severity_score  \\\n",
       "0  ip_input.c in BSD-derived TCP/IP implementatio...     <NA>             NaN   \n",
       "1  Buffer overflow in NFS mountd gives root acces...     <NA>             NaN   \n",
       "2  Execute commands as root via buffer overflow i...     <NA>             NaN   \n",
       "\n",
       "  attack_vector attack_complexity  \n",
       "0          <NA>              <NA>  \n",
       "1          <NA>              <NA>  \n",
       "2          <NA>              <NA>  "
      ]
     },
     "execution_count": 30,
     "metadata": {},
     "output_type": "execute_result"
    }
   ],
   "source": [
    "# Glance\n",
    "cves.head(3)"
   ]
  },
  {
   "cell_type": "markdown",
   "metadata": {},
   "source": [
    "### Merging into Main Dataframe\n",
    "Since we don't want hundreds of thousands of CVEs that we don't know are related to IoTs in our dataset, I'm going to preform a leftward merge into our nation-state and IoT CVE attack data. This will only keep information from the CVE data if a CVE's `cve_id` is also found in our main dataset's `cve_id` attribute."
   ]
  },
  {
   "cell_type": "code",
   "execution_count": 31,
   "metadata": {},
   "outputs": [],
   "source": [
    "df = df.merge(\n",
    "    cves,\n",
    "    on=['cve_id', 'description'],\n",
    "    how='left'\n",
    ")"
   ]
  },
  {
   "cell_type": "code",
   "execution_count": 32,
   "metadata": {},
   "outputs": [],
   "source": [
    "# Rename CVE data's attack-related attributes for clarity\n",
    "df = df.rename(columns={\n",
    "    'date_published': 'cve_publish_date',\n",
    "    'severity': 'cve_severity',\n",
    "    'severity_score': 'cve_severity_score',\n",
    "    'attack_vector': 'cve_attack_vector',\n",
    "    'attack_complexity': 'cve_attack_complexity'\n",
    "})"
   ]
  },
  {
   "cell_type": "code",
   "execution_count": 33,
   "metadata": {},
   "outputs": [
    {
     "data": {
      "text/html": [
       "<div>\n",
       "<style scoped>\n",
       "    .dataframe tbody tr th:only-of-type {\n",
       "        vertical-align: middle;\n",
       "    }\n",
       "\n",
       "    .dataframe tbody tr th {\n",
       "        vertical-align: top;\n",
       "    }\n",
       "\n",
       "    .dataframe thead th {\n",
       "        text-align: right;\n",
       "    }\n",
       "</style>\n",
       "<table border=\"1\" class=\"dataframe\">\n",
       "  <thead>\n",
       "    <tr style=\"text-align: right;\">\n",
       "      <th></th>\n",
       "      <th>cve_id</th>\n",
       "      <th>year_cve</th>\n",
       "      <th>description</th>\n",
       "      <th>attack</th>\n",
       "      <th>year_start</th>\n",
       "      <th>year_end</th>\n",
       "      <th>attribution_group</th>\n",
       "      <th>attribution_state</th>\n",
       "      <th>cwe_id</th>\n",
       "      <th>cve_state</th>\n",
       "      <th>cve_publish_date</th>\n",
       "      <th>cve_severity</th>\n",
       "      <th>cve_severity_score</th>\n",
       "      <th>cve_attack_vector</th>\n",
       "      <th>cve_attack_complexity</th>\n",
       "    </tr>\n",
       "  </thead>\n",
       "  <tbody>\n",
       "    <tr>\n",
       "      <th>0</th>\n",
       "      <td>CVE-2014-0160</td>\n",
       "      <td>2014</td>\n",
       "      <td>The (1) TLS and (2) DTLS implementations in Op...</td>\n",
       "      <td>Heartbleed Exploits</td>\n",
       "      <td>2014</td>\n",
       "      <td>2014</td>\n",
       "      <td>&lt;NA&gt;</td>\n",
       "      <td>China</td>\n",
       "      <td>&lt;NA&gt;</td>\n",
       "      <td>PUBLISHED</td>\n",
       "      <td>2014-04-07 00:00:00+00:00</td>\n",
       "      <td>&lt;NA&gt;</td>\n",
       "      <td>NaN</td>\n",
       "      <td>&lt;NA&gt;</td>\n",
       "      <td>&lt;NA&gt;</td>\n",
       "    </tr>\n",
       "    <tr>\n",
       "      <th>1</th>\n",
       "      <td>CVE-2017-0144</td>\n",
       "      <td>2017</td>\n",
       "      <td>The SMBv1 server in Microsoft Windows Vista SP...</td>\n",
       "      <td>Not Petya Ransomware Attack</td>\n",
       "      <td>2017</td>\n",
       "      <td>2017</td>\n",
       "      <td>Sandworm</td>\n",
       "      <td>Russia</td>\n",
       "      <td>&lt;NA&gt;</td>\n",
       "      <td>PUBLISHED</td>\n",
       "      <td>2017-03-17 00:00:00+00:00</td>\n",
       "      <td>&lt;NA&gt;</td>\n",
       "      <td>NaN</td>\n",
       "      <td>&lt;NA&gt;</td>\n",
       "      <td>&lt;NA&gt;</td>\n",
       "    </tr>\n",
       "    <tr>\n",
       "      <th>2</th>\n",
       "      <td>CVE-2017-0144</td>\n",
       "      <td>2017</td>\n",
       "      <td>The SMBv1 server in Microsoft Windows Vista SP...</td>\n",
       "      <td>WannaCry Ransomware Attack</td>\n",
       "      <td>2017</td>\n",
       "      <td>2017</td>\n",
       "      <td>Lazarus</td>\n",
       "      <td>DPRK</td>\n",
       "      <td>&lt;NA&gt;</td>\n",
       "      <td>PUBLISHED</td>\n",
       "      <td>2017-03-17 00:00:00+00:00</td>\n",
       "      <td>&lt;NA&gt;</td>\n",
       "      <td>NaN</td>\n",
       "      <td>&lt;NA&gt;</td>\n",
       "      <td>&lt;NA&gt;</td>\n",
       "    </tr>\n",
       "  </tbody>\n",
       "</table>\n",
       "</div>"
      ],
      "text/plain": [
       "          cve_id  year_cve                                        description  \\\n",
       "0  CVE-2014-0160      2014  The (1) TLS and (2) DTLS implementations in Op...   \n",
       "1  CVE-2017-0144      2017  The SMBv1 server in Microsoft Windows Vista SP...   \n",
       "2  CVE-2017-0144      2017  The SMBv1 server in Microsoft Windows Vista SP...   \n",
       "\n",
       "                        attack  year_start  year_end attribution_group  \\\n",
       "0          Heartbleed Exploits        2014      2014              <NA>   \n",
       "1  Not Petya Ransomware Attack        2017      2017          Sandworm   \n",
       "2   WannaCry Ransomware Attack        2017      2017           Lazarus   \n",
       "\n",
       "  attribution_state cwe_id  cve_state          cve_publish_date cve_severity  \\\n",
       "0             China   <NA>  PUBLISHED 2014-04-07 00:00:00+00:00         <NA>   \n",
       "1            Russia   <NA>  PUBLISHED 2017-03-17 00:00:00+00:00         <NA>   \n",
       "2              DPRK   <NA>  PUBLISHED 2017-03-17 00:00:00+00:00         <NA>   \n",
       "\n",
       "   cve_severity_score cve_attack_vector cve_attack_complexity  \n",
       "0                 NaN              <NA>                  <NA>  \n",
       "1                 NaN              <NA>                  <NA>  \n",
       "2                 NaN              <NA>                  <NA>  "
      ]
     },
     "execution_count": 33,
     "metadata": {},
     "output_type": "execute_result"
    }
   ],
   "source": [
    "df.head(3)"
   ]
  },
  {
   "cell_type": "code",
   "execution_count": 34,
   "metadata": {},
   "outputs": [
    {
     "name": "stdout",
     "output_type": "stream",
     "text": [
      "<class 'pandas.core.frame.DataFrame'>\n",
      "RangeIndex: 1123 entries, 0 to 1122\n",
      "Data columns (total 15 columns):\n",
      " #   Column                 Non-Null Count  Dtype              \n",
      "---  ------                 --------------  -----              \n",
      " 0   cve_id                 1115 non-null   string             \n",
      " 1   year_cve               1115 non-null   Int64              \n",
      " 2   description            1115 non-null   string             \n",
      " 3   attack                 31 non-null     string             \n",
      " 4   year_start             31 non-null     Int64              \n",
      " 5   year_end               31 non-null     Int64              \n",
      " 6   attribution_group      14 non-null     string             \n",
      " 7   attribution_state      26 non-null     string             \n",
      " 8   cwe_id                 107 non-null    string             \n",
      " 9   cve_state              1103 non-null   string             \n",
      " 10  cve_publish_date       1103 non-null   datetime64[ns, UTC]\n",
      " 11  cve_severity           476 non-null    string             \n",
      " 12  cve_severity_score     476 non-null    float64            \n",
      " 13  cve_attack_vector      413 non-null    string             \n",
      " 14  cve_attack_complexity  413 non-null    string             \n",
      "dtypes: Int64(3), datetime64[ns, UTC](1), float64(1), string(10)\n",
      "memory usage: 135.0 KB\n"
     ]
    }
   ],
   "source": [
    "df.info()"
   ]
  },
  {
   "cell_type": "code",
   "execution_count": 35,
   "metadata": {},
   "outputs": [
    {
     "data": {
      "text/html": [
       "<div>\n",
       "<style scoped>\n",
       "    .dataframe tbody tr th:only-of-type {\n",
       "        vertical-align: middle;\n",
       "    }\n",
       "\n",
       "    .dataframe tbody tr th {\n",
       "        vertical-align: top;\n",
       "    }\n",
       "\n",
       "    .dataframe thead th {\n",
       "        text-align: right;\n",
       "    }\n",
       "</style>\n",
       "<table border=\"1\" class=\"dataframe\">\n",
       "  <thead>\n",
       "    <tr style=\"text-align: right;\">\n",
       "      <th></th>\n",
       "      <th>cve_id</th>\n",
       "      <th>year_cve</th>\n",
       "      <th>description</th>\n",
       "      <th>attack</th>\n",
       "      <th>year_start</th>\n",
       "      <th>year_end</th>\n",
       "      <th>attribution_group</th>\n",
       "      <th>attribution_state</th>\n",
       "      <th>cwe_id</th>\n",
       "      <th>cve_state</th>\n",
       "      <th>cve_publish_date</th>\n",
       "      <th>cve_severity</th>\n",
       "      <th>cve_severity_score</th>\n",
       "      <th>cve_attack_vector</th>\n",
       "      <th>cve_attack_complexity</th>\n",
       "    </tr>\n",
       "  </thead>\n",
       "  <tbody>\n",
       "    <tr>\n",
       "      <th>0</th>\n",
       "      <td>CVE-2014-0160</td>\n",
       "      <td>2014</td>\n",
       "      <td>The (1) TLS and (2) DTLS implementations in Op...</td>\n",
       "      <td>Heartbleed Exploits</td>\n",
       "      <td>2014</td>\n",
       "      <td>2014</td>\n",
       "      <td>&lt;NA&gt;</td>\n",
       "      <td>China</td>\n",
       "      <td>&lt;NA&gt;</td>\n",
       "      <td>PUBLISHED</td>\n",
       "      <td>2014-04-07 00:00:00+00:00</td>\n",
       "      <td>&lt;NA&gt;</td>\n",
       "      <td>NaN</td>\n",
       "      <td>&lt;NA&gt;</td>\n",
       "      <td>&lt;NA&gt;</td>\n",
       "    </tr>\n",
       "    <tr>\n",
       "      <th>1</th>\n",
       "      <td>CVE-2017-0144</td>\n",
       "      <td>2017</td>\n",
       "      <td>The SMBv1 server in Microsoft Windows Vista SP...</td>\n",
       "      <td>Not Petya Ransomware Attack</td>\n",
       "      <td>2017</td>\n",
       "      <td>2017</td>\n",
       "      <td>Sandworm</td>\n",
       "      <td>Russia</td>\n",
       "      <td>&lt;NA&gt;</td>\n",
       "      <td>PUBLISHED</td>\n",
       "      <td>2017-03-17 00:00:00+00:00</td>\n",
       "      <td>&lt;NA&gt;</td>\n",
       "      <td>NaN</td>\n",
       "      <td>&lt;NA&gt;</td>\n",
       "      <td>&lt;NA&gt;</td>\n",
       "    </tr>\n",
       "    <tr>\n",
       "      <th>2</th>\n",
       "      <td>CVE-2017-0144</td>\n",
       "      <td>2017</td>\n",
       "      <td>The SMBv1 server in Microsoft Windows Vista SP...</td>\n",
       "      <td>WannaCry Ransomware Attack</td>\n",
       "      <td>2017</td>\n",
       "      <td>2017</td>\n",
       "      <td>Lazarus</td>\n",
       "      <td>DPRK</td>\n",
       "      <td>&lt;NA&gt;</td>\n",
       "      <td>PUBLISHED</td>\n",
       "      <td>2017-03-17 00:00:00+00:00</td>\n",
       "      <td>&lt;NA&gt;</td>\n",
       "      <td>NaN</td>\n",
       "      <td>&lt;NA&gt;</td>\n",
       "      <td>&lt;NA&gt;</td>\n",
       "    </tr>\n",
       "    <tr>\n",
       "      <th>3</th>\n",
       "      <td>CVE-2017-12074</td>\n",
       "      <td>2017</td>\n",
       "      <td>Directory traversal vulnerability in the SYNO....</td>\n",
       "      <td>VPNFilter</td>\n",
       "      <td>2018</td>\n",
       "      <td>2018</td>\n",
       "      <td>APT28 (Fancy Bear)</td>\n",
       "      <td>Russia</td>\n",
       "      <td>CWE-22</td>\n",
       "      <td>PUBLISHED</td>\n",
       "      <td>2017-08-23 00:00:00+00:00</td>\n",
       "      <td>&lt;NA&gt;</td>\n",
       "      <td>NaN</td>\n",
       "      <td>&lt;NA&gt;</td>\n",
       "      <td>&lt;NA&gt;</td>\n",
       "    </tr>\n",
       "    <tr>\n",
       "      <th>4</th>\n",
       "      <td>CVE-2017-5638</td>\n",
       "      <td>2017</td>\n",
       "      <td>The Jakarta Multipart parser in Apache Struts ...</td>\n",
       "      <td>Equifax Data Breach</td>\n",
       "      <td>2017</td>\n",
       "      <td>2017</td>\n",
       "      <td>APT10</td>\n",
       "      <td>China</td>\n",
       "      <td>&lt;NA&gt;</td>\n",
       "      <td>PUBLISHED</td>\n",
       "      <td>2017-03-11 02:11:00+00:00</td>\n",
       "      <td>&lt;NA&gt;</td>\n",
       "      <td>NaN</td>\n",
       "      <td>&lt;NA&gt;</td>\n",
       "      <td>&lt;NA&gt;</td>\n",
       "    </tr>\n",
       "  </tbody>\n",
       "</table>\n",
       "</div>"
      ],
      "text/plain": [
       "           cve_id  year_cve  \\\n",
       "0   CVE-2014-0160      2014   \n",
       "1   CVE-2017-0144      2017   \n",
       "2   CVE-2017-0144      2017   \n",
       "3  CVE-2017-12074      2017   \n",
       "4   CVE-2017-5638      2017   \n",
       "\n",
       "                                         description  \\\n",
       "0  The (1) TLS and (2) DTLS implementations in Op...   \n",
       "1  The SMBv1 server in Microsoft Windows Vista SP...   \n",
       "2  The SMBv1 server in Microsoft Windows Vista SP...   \n",
       "3  Directory traversal vulnerability in the SYNO....   \n",
       "4  The Jakarta Multipart parser in Apache Struts ...   \n",
       "\n",
       "                        attack  year_start  year_end   attribution_group  \\\n",
       "0          Heartbleed Exploits        2014      2014                <NA>   \n",
       "1  Not Petya Ransomware Attack        2017      2017            Sandworm   \n",
       "2   WannaCry Ransomware Attack        2017      2017             Lazarus   \n",
       "3                    VPNFilter        2018      2018  APT28 (Fancy Bear)   \n",
       "4          Equifax Data Breach        2017      2017               APT10   \n",
       "\n",
       "  attribution_state  cwe_id  cve_state          cve_publish_date cve_severity  \\\n",
       "0             China    <NA>  PUBLISHED 2014-04-07 00:00:00+00:00         <NA>   \n",
       "1            Russia    <NA>  PUBLISHED 2017-03-17 00:00:00+00:00         <NA>   \n",
       "2              DPRK    <NA>  PUBLISHED 2017-03-17 00:00:00+00:00         <NA>   \n",
       "3            Russia  CWE-22  PUBLISHED 2017-08-23 00:00:00+00:00         <NA>   \n",
       "4             China    <NA>  PUBLISHED 2017-03-11 02:11:00+00:00         <NA>   \n",
       "\n",
       "   cve_severity_score cve_attack_vector cve_attack_complexity  \n",
       "0                 NaN              <NA>                  <NA>  \n",
       "1                 NaN              <NA>                  <NA>  \n",
       "2                 NaN              <NA>                  <NA>  \n",
       "3                 NaN              <NA>                  <NA>  \n",
       "4                 NaN              <NA>                  <NA>  "
      ]
     },
     "execution_count": 35,
     "metadata": {},
     "output_type": "execute_result"
    }
   ],
   "source": [
    "df.head()"
   ]
  },
  {
   "cell_type": "code",
   "execution_count": 41,
   "metadata": {},
   "outputs": [
    {
     "data": {
      "text/plain": [
       "attack\n",
       "VPNFilter                                           5\n",
       "Ripple20 Vulnerabilities                            4\n",
       "Microsoft Exchange ProxyShell Exploits              3\n",
       "Stuxnet                                             2\n",
       "Triton/Trisis                                       2\n",
       "F5 BIG-IP Exploits                                  2\n",
       "Not Petya Ransomware Attack                         1\n",
       "WannaCry Ransomware Attack                          1\n",
       "Equifax Data Breach                                 1\n",
       "Iranian APT Exploits on Fortinet Vulnerabilities    1\n",
       "Pulse Secure VPN Exploits                           1\n",
       "Operation Shadowhammer                              1\n",
       "Iranian Cyberattacks on Water Systems               1\n",
       "Heartbleed Exploits                                 1\n",
       "Mirai Botnet                                        1\n",
       "Dragonfly/Energetic Bear Campaign 1                 1\n",
       "Dragonfly/Energetic Bear Campaign 2                 1\n",
       "BlackEnergy Attack on Ukraine                       1\n",
       "SolarWinds Orion Supply Chain Attack                1\n",
       "Name: count, dtype: Int64"
      ]
     },
     "execution_count": 41,
     "metadata": {},
     "output_type": "execute_result"
    }
   ],
   "source": [
    "df[['attack', 'attribution_group', 'attribution_state']].value_counts()\n",
    "df['attack'].value_counts()"
   ]
  },
  {
   "cell_type": "markdown",
   "metadata": {},
   "source": [
    "## Saving the Dataframe"
   ]
  },
  {
   "cell_type": "raw",
   "metadata": {
    "vscode": {
     "languageId": "raw"
    }
   },
   "source": [
    "df.to_parquet(path='../data/IoT_CVE_Attacks.parquet', index=None)\n",
    "df.to_csv('../data/IoT_CVE_Attacks.csv', index=None)"
   ]
  },
  {
   "cell_type": "raw",
   "metadata": {
    "vscode": {
     "languageId": "raw"
    }
   },
   "source": [
    "df.to_csv('../data/IoT_CVE_Attacks_Indexed.csv', index=True)"
   ]
  },
  {
   "cell_type": "code",
   "execution_count": 1,
   "metadata": {},
   "outputs": [
    {
     "ename": "NameError",
     "evalue": "name 'df' is not defined",
     "output_type": "error",
     "traceback": [
      "\u001b[1;31m---------------------------------------------------------------------------\u001b[0m",
      "\u001b[1;31mNameError\u001b[0m                                 Traceback (most recent call last)",
      "Cell \u001b[1;32mIn[1], line 1\u001b[0m\n\u001b[1;32m----> 1\u001b[0m \u001b[43mdf\u001b[49m\u001b[38;5;241m.\u001b[39minfo()\n",
      "\u001b[1;31mNameError\u001b[0m: name 'df' is not defined"
     ]
    }
   ],
   "source": [
    "df.info()"
   ]
  },
  {
   "cell_type": "code",
   "execution_count": null,
   "metadata": {},
   "outputs": [],
   "source": []
  }
 ],
 "metadata": {
  "kernelspec": {
   "display_name": "ml-env",
   "language": "python",
   "name": "python3"
  },
  "language_info": {
   "codemirror_mode": {
    "name": "ipython",
    "version": 3
   },
   "file_extension": ".py",
   "mimetype": "text/x-python",
   "name": "python",
   "nbconvert_exporter": "python",
   "pygments_lexer": "ipython3",
   "version": "3.10.13"
  }
 },
 "nbformat": 4,
 "nbformat_minor": 2
}
