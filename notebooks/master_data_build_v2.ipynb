{
 "cells": [
  {
   "cell_type": "markdown",
   "metadata": {},
   "source": [
    "# Working with Known IoT-Related CVES: A New Direction\n",
    "This notebook is dedicated to cleaning up the MITRE list of known IoT-related CVEs, creating a dataframe from nation-state attack data, and merging both of these with a cleaned-up version of the CVE data agregated in the `APT_IoT_CVE_EDA` notebook. The resulting dataset is then saved to both CSV and parquet file types for easy reading/preprocessing."
   ]
  },
  {
   "cell_type": "code",
   "execution_count": 1,
   "metadata": {},
   "outputs": [],
   "source": [
    "import pandas as pd\n",
    "import numpy as np\n",
    "import matplotlib.pyplot as plt\n",
    "import seaborn as sns"
   ]
  },
  {
   "cell_type": "markdown",
   "metadata": {},
   "source": [
    "## Merging with IoT CVE Data"
   ]
  },
  {
   "cell_type": "code",
   "execution_count": 12,
   "metadata": {},
   "outputs": [],
   "source": [
    "df = df2019_2024.merge(\n",
    "    df_nsa,\n",
    "    on=['cve_id', 'description'],\n",
    "    how='outer'\n",
    ")"
   ]
  },
  {
   "cell_type": "code",
   "execution_count": 14,
   "metadata": {},
   "outputs": [
    {
     "name": "stdout",
     "output_type": "stream",
     "text": [
      "<class 'pandas.core.frame.DataFrame'>\n",
      "RangeIndex: 1120 entries, 0 to 1119\n",
      "Data columns (total 7 columns):\n",
      " #   Column             Non-Null Count  Dtype  \n",
      "---  ------             --------------  -----  \n",
      " 0   cve_id             1112 non-null   object \n",
      " 1   description        1112 non-null   object \n",
      " 2   attack             31 non-null     object \n",
      " 3   year_start         31 non-null     float64\n",
      " 4   year_end           31 non-null     float64\n",
      " 5   attribution_group  14 non-null     object \n",
      " 6   attribution_state  26 non-null     object \n",
      "dtypes: float64(2), object(5)\n",
      "memory usage: 61.4+ KB\n"
     ]
    }
   ],
   "source": [
    "df.info()"
   ]
  },
  {
   "cell_type": "markdown",
   "metadata": {},
   "source": [
    "## Adding CVEs from the Check Point Article\n",
    "[Revisit the article here.](https://blog.checkpoint.com/security/the-tipping-point-exploring-the-surge-in-iot-cyberattacks-plaguing-the-education-sector/)"
   ]
  },
  {
   "cell_type": "code",
   "execution_count": 13,
   "metadata": {},
   "outputs": [
    {
     "name": "stderr",
     "output_type": "stream",
     "text": [
      "C:\\Users\\jbroc\\AppData\\Local\\Temp\\ipykernel_9608\\3181033767.py:24: FutureWarning: The behavior of DataFrame concatenation with empty or all-NA entries is deprecated. In a future version, this will no longer exclude empty or all-NA columns when determining the result dtypes. To retain the old behavior, exclude the relevant entries before the concat operation.\n",
      "  df = pd.concat([df, df_cp], ignore_index=True)\n"
     ]
    }
   ],
   "source": [
    "# New observations from article\n",
    "cp = {\n",
    "    'cve_id': [\n",
    "        'CVE-2015-2051',\n",
    "        'CVE-2016-6277',\n",
    "        'CVE-2022-37061'\n",
    "    ],\n",
    "    'description': [\n",
    "        'The D-Link DIR-645 Wired/Wireless Router Rev. Ax with firmware 1.04b12 and earlier allows remote attackers to execute arbitrary commands via a GetDeviceSettings action to the HNAP interface.',\n",
    "        'NETGEAR R6250 before 1.0.4.6.Beta, R6400 before 1.0.1.18.Beta, R6700 before 1.0.1.14.Beta, R6900, R7000 before 1.0.7.6.Beta, R7100LG before 1.0.0.28.Beta, R7300DST before 1.0.0.46.Beta, R7900 before 1.0.1.8.Beta, R8000 before 1.0.3.26.Beta, D6220, D6400, D7000, and possibly other routers allow remote attackers to execute arbitrary commands via shell metacharacters in the path info to cgi-bin/.',\n",
    "        'All FLIR AX8 thermal sensor cameras version up to and including 1.46.16 are vulnerable to Remote Command Injection. This can be exploited to inject and execute arbitrary shell commands as the root user through the id HTTP POST parameter in the res.php endpoint. A successful exploit could allow the attacker to execute arbitrary commands on the underlying operating system with the root privileges.'\n",
    "    ],\n",
    "    'attack': [pd.NA, pd.NA, pd.NA],\n",
    "    'year_start': [pd.NA, pd.NA, pd.NA],\n",
    "    'year_end': [pd.NA, pd.NA, pd.NA],\n",
    "    'attribution_group': [pd.NA, pd.NA, pd.NA],\n",
    "    'attribution_state': [pd.NA, pd.NA, pd.NA]\n",
    "}\n",
    "\n",
    "# Convert new data to dataframe\n",
    "df_cp = pd.DataFrame(cp)\n",
    "\n",
    "# Concatenate df and df_cp\n",
    "df = pd.concat([df, df_cp], ignore_index=True)"
   ]
  },
  {
   "cell_type": "code",
   "execution_count": 14,
   "metadata": {},
   "outputs": [],
   "source": [
    "# Convert data types to text\n",
    "obj_cols = df.select_dtypes('object').columns\n",
    "df[obj_cols] = df[obj_cols].astype('string')"
   ]
  },
  {
   "cell_type": "code",
   "execution_count": 15,
   "metadata": {},
   "outputs": [],
   "source": [
    "# Extract year from CVE ID\n",
    "df['year_cve'] = df['cve_id'].str.split('-').str[1]\n",
    "\n",
    "# Convert year columns back to whole numbers\n",
    "year_cols = ['year_start', 'year_end', 'year_cve']\n",
    "df[year_cols] = df[year_cols].astype('Int64')\n",
    "\n",
    "# Move the year column\n",
    "df.insert(1, 'year_cve', df.pop('year_cve'))"
   ]
  },
  {
   "cell_type": "markdown",
   "metadata": {},
   "source": [
    "### Importing and Cleaning the CVE Data\n",
    "All these steps were determined to be necessary in the `APT_IoT_CVE_EDA` notebook."
   ]
  },
  {
   "cell_type": "code",
   "execution_count": 16,
   "metadata": {},
   "outputs": [],
   "source": [
    "# Import\n",
    "cves = pd.read_parquet('../data/CVE_V5/CVE_List.parquet')\n",
    "\n",
    "# Drop rejected CVEs\n",
    "cves = cves.drop(cves[cves['cve_state'] == 'REJECTED'].index)\n",
    "\n",
    "# Convert publication date to datetime format\n",
    "cves['date_published'] = pd.to_datetime(cves['date_published'], format='ISO8601', utc=True)\n",
    "\n",
    "# Convert objects to text data (string)\n",
    "obj_cols = cves.select_dtypes(include=['object']).columns\n",
    "cves[obj_cols] = cves[obj_cols].astype('string')\n",
    "\n",
    "# Standardize severity scores\n",
    "cves['severity'] = cves['severity'].replace(['medium', 'MODERATE'], 'MEDIUM')\n",
    "cves['severity'] = cves['severity'].str.lower()\n",
    "\n",
    "# Remove leading or trailing whitespace\n",
    "str_cols = cves.select_dtypes(include=['string']).columns\n",
    "cves[str_cols] = cves[str_cols].apply(lambda x: x.str.strip())"
   ]
  },
  {
   "cell_type": "code",
   "execution_count": 38,
   "metadata": {},
   "outputs": [
    {
     "data": {
      "text/html": [
       "<div>\n",
       "<style scoped>\n",
       "    .dataframe tbody tr th:only-of-type {\n",
       "        vertical-align: middle;\n",
       "    }\n",
       "\n",
       "    .dataframe tbody tr th {\n",
       "        vertical-align: top;\n",
       "    }\n",
       "\n",
       "    .dataframe thead th {\n",
       "        text-align: right;\n",
       "    }\n",
       "</style>\n",
       "<table border=\"1\" class=\"dataframe\">\n",
       "  <thead>\n",
       "    <tr style=\"text-align: right;\">\n",
       "      <th></th>\n",
       "      <th>cve_id</th>\n",
       "      <th>cwe_id</th>\n",
       "      <th>cve_state</th>\n",
       "      <th>date_published</th>\n",
       "      <th>description</th>\n",
       "      <th>severity</th>\n",
       "      <th>severity_score</th>\n",
       "      <th>attack_vector</th>\n",
       "      <th>attack_complexity</th>\n",
       "    </tr>\n",
       "  </thead>\n",
       "  <tbody>\n",
       "    <tr>\n",
       "      <th>0</th>\n",
       "      <td>CVE-1999-0001</td>\n",
       "      <td>&lt;NA&gt;</td>\n",
       "      <td>PUBLISHED</td>\n",
       "      <td>2000-02-04 05:00:00+00:00</td>\n",
       "      <td>ip_input.c in BSD-derived TCP/IP implementatio...</td>\n",
       "      <td>&lt;NA&gt;</td>\n",
       "      <td>NaN</td>\n",
       "      <td>&lt;NA&gt;</td>\n",
       "      <td>&lt;NA&gt;</td>\n",
       "    </tr>\n",
       "    <tr>\n",
       "      <th>1</th>\n",
       "      <td>CVE-1999-0002</td>\n",
       "      <td>&lt;NA&gt;</td>\n",
       "      <td>PUBLISHED</td>\n",
       "      <td>1999-09-29 04:00:00+00:00</td>\n",
       "      <td>Buffer overflow in NFS mountd gives root acces...</td>\n",
       "      <td>&lt;NA&gt;</td>\n",
       "      <td>NaN</td>\n",
       "      <td>&lt;NA&gt;</td>\n",
       "      <td>&lt;NA&gt;</td>\n",
       "    </tr>\n",
       "    <tr>\n",
       "      <th>2</th>\n",
       "      <td>CVE-1999-0003</td>\n",
       "      <td>&lt;NA&gt;</td>\n",
       "      <td>PUBLISHED</td>\n",
       "      <td>1999-09-29 04:00:00+00:00</td>\n",
       "      <td>Execute commands as root via buffer overflow i...</td>\n",
       "      <td>&lt;NA&gt;</td>\n",
       "      <td>NaN</td>\n",
       "      <td>&lt;NA&gt;</td>\n",
       "      <td>&lt;NA&gt;</td>\n",
       "    </tr>\n",
       "  </tbody>\n",
       "</table>\n",
       "</div>"
      ],
      "text/plain": [
       "          cve_id cwe_id  cve_state            date_published  \\\n",
       "0  CVE-1999-0001   <NA>  PUBLISHED 2000-02-04 05:00:00+00:00   \n",
       "1  CVE-1999-0002   <NA>  PUBLISHED 1999-09-29 04:00:00+00:00   \n",
       "2  CVE-1999-0003   <NA>  PUBLISHED 1999-09-29 04:00:00+00:00   \n",
       "\n",
       "                                         description severity  severity_score  \\\n",
       "0  ip_input.c in BSD-derived TCP/IP implementatio...     <NA>             NaN   \n",
       "1  Buffer overflow in NFS mountd gives root acces...     <NA>             NaN   \n",
       "2  Execute commands as root via buffer overflow i...     <NA>             NaN   \n",
       "\n",
       "  attack_vector attack_complexity  \n",
       "0          <NA>              <NA>  \n",
       "1          <NA>              <NA>  \n",
       "2          <NA>              <NA>  "
      ]
     },
     "execution_count": 38,
     "metadata": {},
     "output_type": "execute_result"
    }
   ],
   "source": [
    "# Glance\n",
    "cves.head(3)"
   ]
  },
  {
   "cell_type": "markdown",
   "metadata": {},
   "source": [
    "### Merging into Main Dataframe\n",
    "Since we don't want hundreds of thousands of CVEs that we don't know are related to IoTs in our dataset, I'm going to preform a leftward merge into our nation-state and IoT CVE attack data. This will only keep information from the CVE data if a CVE's `cve_id` is also found in our main dataset's `cve_id` attribute."
   ]
  },
  {
   "cell_type": "code",
   "execution_count": 17,
   "metadata": {},
   "outputs": [],
   "source": [
    "df = df.merge(\n",
    "    cves,\n",
    "    on=['cve_id', 'description'],\n",
    "    how='left'\n",
    ")"
   ]
  },
  {
   "cell_type": "code",
   "execution_count": 18,
   "metadata": {},
   "outputs": [],
   "source": [
    "# Rename CVE data's attack-related attributes for clarity\n",
    "df = df.rename(columns={\n",
    "    'date_published': 'cve_publish_date',\n",
    "    'severity': 'cve_severity',\n",
    "    'severity_score': 'cve_severity_score',\n",
    "    'attack_vector': 'cve_attack_vector',\n",
    "    'attack_complexity': 'cve_attack_complexity'\n",
    "})"
   ]
  },
  {
   "cell_type": "code",
   "execution_count": 42,
   "metadata": {},
   "outputs": [
    {
     "data": {
      "text/html": [
       "<div>\n",
       "<style scoped>\n",
       "    .dataframe tbody tr th:only-of-type {\n",
       "        vertical-align: middle;\n",
       "    }\n",
       "\n",
       "    .dataframe tbody tr th {\n",
       "        vertical-align: top;\n",
       "    }\n",
       "\n",
       "    .dataframe thead th {\n",
       "        text-align: right;\n",
       "    }\n",
       "</style>\n",
       "<table border=\"1\" class=\"dataframe\">\n",
       "  <thead>\n",
       "    <tr style=\"text-align: right;\">\n",
       "      <th></th>\n",
       "      <th>cve_id</th>\n",
       "      <th>year_cve</th>\n",
       "      <th>description</th>\n",
       "      <th>attack</th>\n",
       "      <th>year_start</th>\n",
       "      <th>year_end</th>\n",
       "      <th>attribution_group</th>\n",
       "      <th>attribution_state</th>\n",
       "      <th>cwe_id</th>\n",
       "      <th>cve_state</th>\n",
       "      <th>cve_publish_date</th>\n",
       "      <th>cve_severity</th>\n",
       "      <th>cve_severity_score</th>\n",
       "      <th>cve_attack_vector</th>\n",
       "      <th>cve_attack_complexity</th>\n",
       "    </tr>\n",
       "  </thead>\n",
       "  <tbody>\n",
       "    <tr>\n",
       "      <th>0</th>\n",
       "      <td>CVE-2014-0160</td>\n",
       "      <td>2014</td>\n",
       "      <td>The (1) TLS and (2) DTLS implementations in Op...</td>\n",
       "      <td>Heartbleed Exploits</td>\n",
       "      <td>2014</td>\n",
       "      <td>2014</td>\n",
       "      <td>&lt;NA&gt;</td>\n",
       "      <td>China</td>\n",
       "      <td>&lt;NA&gt;</td>\n",
       "      <td>PUBLISHED</td>\n",
       "      <td>2014-04-07 00:00:00+00:00</td>\n",
       "      <td>&lt;NA&gt;</td>\n",
       "      <td>NaN</td>\n",
       "      <td>&lt;NA&gt;</td>\n",
       "      <td>&lt;NA&gt;</td>\n",
       "    </tr>\n",
       "    <tr>\n",
       "      <th>1</th>\n",
       "      <td>CVE-2017-0144</td>\n",
       "      <td>2017</td>\n",
       "      <td>The SMBv1 server in Microsoft Windows Vista SP...</td>\n",
       "      <td>Not Petya Ransomware Attack</td>\n",
       "      <td>2017</td>\n",
       "      <td>2017</td>\n",
       "      <td>Sandworm</td>\n",
       "      <td>Russia</td>\n",
       "      <td>&lt;NA&gt;</td>\n",
       "      <td>PUBLISHED</td>\n",
       "      <td>2017-03-17 00:00:00+00:00</td>\n",
       "      <td>&lt;NA&gt;</td>\n",
       "      <td>NaN</td>\n",
       "      <td>&lt;NA&gt;</td>\n",
       "      <td>&lt;NA&gt;</td>\n",
       "    </tr>\n",
       "    <tr>\n",
       "      <th>2</th>\n",
       "      <td>CVE-2017-0144</td>\n",
       "      <td>2017</td>\n",
       "      <td>The SMBv1 server in Microsoft Windows Vista SP...</td>\n",
       "      <td>WannaCry Ransomware Attack</td>\n",
       "      <td>2017</td>\n",
       "      <td>2017</td>\n",
       "      <td>Lazarus</td>\n",
       "      <td>DPRK</td>\n",
       "      <td>&lt;NA&gt;</td>\n",
       "      <td>PUBLISHED</td>\n",
       "      <td>2017-03-17 00:00:00+00:00</td>\n",
       "      <td>&lt;NA&gt;</td>\n",
       "      <td>NaN</td>\n",
       "      <td>&lt;NA&gt;</td>\n",
       "      <td>&lt;NA&gt;</td>\n",
       "    </tr>\n",
       "  </tbody>\n",
       "</table>\n",
       "</div>"
      ],
      "text/plain": [
       "          cve_id  year_cve                                        description  \\\n",
       "0  CVE-2014-0160      2014  The (1) TLS and (2) DTLS implementations in Op...   \n",
       "1  CVE-2017-0144      2017  The SMBv1 server in Microsoft Windows Vista SP...   \n",
       "2  CVE-2017-0144      2017  The SMBv1 server in Microsoft Windows Vista SP...   \n",
       "\n",
       "                        attack  year_start  year_end attribution_group  \\\n",
       "0          Heartbleed Exploits        2014      2014              <NA>   \n",
       "1  Not Petya Ransomware Attack        2017      2017          Sandworm   \n",
       "2   WannaCry Ransomware Attack        2017      2017           Lazarus   \n",
       "\n",
       "  attribution_state cwe_id  cve_state          cve_publish_date cve_severity  \\\n",
       "0             China   <NA>  PUBLISHED 2014-04-07 00:00:00+00:00         <NA>   \n",
       "1            Russia   <NA>  PUBLISHED 2017-03-17 00:00:00+00:00         <NA>   \n",
       "2              DPRK   <NA>  PUBLISHED 2017-03-17 00:00:00+00:00         <NA>   \n",
       "\n",
       "   cve_severity_score cve_attack_vector cve_attack_complexity  \n",
       "0                 NaN              <NA>                  <NA>  \n",
       "1                 NaN              <NA>                  <NA>  \n",
       "2                 NaN              <NA>                  <NA>  "
      ]
     },
     "execution_count": 42,
     "metadata": {},
     "output_type": "execute_result"
    }
   ],
   "source": [
    "df.head(3)"
   ]
  },
  {
   "cell_type": "markdown",
   "metadata": {},
   "source": [
    "Currently, the following $4$ observations are the only ones in the dataset that have both attack names and severity scores."
   ]
  },
  {
   "cell_type": "code",
   "execution_count": 19,
   "metadata": {},
   "outputs": [
    {
     "data": {
      "text/html": [
       "<div>\n",
       "<style scoped>\n",
       "    .dataframe tbody tr th:only-of-type {\n",
       "        vertical-align: middle;\n",
       "    }\n",
       "\n",
       "    .dataframe tbody tr th {\n",
       "        vertical-align: top;\n",
       "    }\n",
       "\n",
       "    .dataframe thead th {\n",
       "        text-align: right;\n",
       "    }\n",
       "</style>\n",
       "<table border=\"1\" class=\"dataframe\">\n",
       "  <thead>\n",
       "    <tr style=\"text-align: right;\">\n",
       "      <th></th>\n",
       "      <th>cve_id</th>\n",
       "      <th>year_cve</th>\n",
       "      <th>description</th>\n",
       "      <th>attack</th>\n",
       "      <th>year_start</th>\n",
       "      <th>year_end</th>\n",
       "      <th>attribution_group</th>\n",
       "      <th>attribution_state</th>\n",
       "      <th>cwe_id</th>\n",
       "      <th>cve_state</th>\n",
       "      <th>cve_publish_date</th>\n",
       "      <th>cve_severity</th>\n",
       "      <th>cve_severity_score</th>\n",
       "      <th>cve_attack_vector</th>\n",
       "      <th>cve_attack_complexity</th>\n",
       "    </tr>\n",
       "  </thead>\n",
       "  <tbody>\n",
       "    <tr>\n",
       "      <th>10</th>\n",
       "      <td>CVE-2018-13379</td>\n",
       "      <td>2018</td>\n",
       "      <td>An Improper Limitation of a Pathname to a Rest...</td>\n",
       "      <td>Iranian APT Exploits on Fortinet Vulnerabilities</td>\n",
       "      <td>2021</td>\n",
       "      <td>2021</td>\n",
       "      <td>&lt;NA&gt;</td>\n",
       "      <td>Iran</td>\n",
       "      <td>&lt;NA&gt;</td>\n",
       "      <td>PUBLISHED</td>\n",
       "      <td>2019-06-04 20:18:08+00:00</td>\n",
       "      <td>critical</td>\n",
       "      <td>9.1</td>\n",
       "      <td>NETWORK</td>\n",
       "      <td>LOW</td>\n",
       "    </tr>\n",
       "    <tr>\n",
       "      <th>844</th>\n",
       "      <td>CVE-2021-31207</td>\n",
       "      <td>2021</td>\n",
       "      <td>Microsoft Exchange Server Security Feature Byp...</td>\n",
       "      <td>Microsoft Exchange ProxyShell Exploits</td>\n",
       "      <td>2021</td>\n",
       "      <td>2021</td>\n",
       "      <td>&lt;NA&gt;</td>\n",
       "      <td>China</td>\n",
       "      <td>&lt;NA&gt;</td>\n",
       "      <td>PUBLISHED</td>\n",
       "      <td>2021-05-11 19:11:41+00:00</td>\n",
       "      <td>medium</td>\n",
       "      <td>6.6</td>\n",
       "      <td>&lt;NA&gt;</td>\n",
       "      <td>&lt;NA&gt;</td>\n",
       "    </tr>\n",
       "    <tr>\n",
       "      <th>856</th>\n",
       "      <td>CVE-2021-34473</td>\n",
       "      <td>2021</td>\n",
       "      <td>Microsoft Exchange Server Remote Code Executio...</td>\n",
       "      <td>Microsoft Exchange ProxyShell Exploits</td>\n",
       "      <td>2021</td>\n",
       "      <td>2021</td>\n",
       "      <td>&lt;NA&gt;</td>\n",
       "      <td>China</td>\n",
       "      <td>&lt;NA&gt;</td>\n",
       "      <td>PUBLISHED</td>\n",
       "      <td>2021-07-14 17:54:03+00:00</td>\n",
       "      <td>critical</td>\n",
       "      <td>9.1</td>\n",
       "      <td>&lt;NA&gt;</td>\n",
       "      <td>&lt;NA&gt;</td>\n",
       "    </tr>\n",
       "    <tr>\n",
       "      <th>857</th>\n",
       "      <td>CVE-2021-34523</td>\n",
       "      <td>2021</td>\n",
       "      <td>Microsoft Exchange Server Elevation of Privile...</td>\n",
       "      <td>Microsoft Exchange ProxyShell Exploits</td>\n",
       "      <td>2021</td>\n",
       "      <td>2021</td>\n",
       "      <td>&lt;NA&gt;</td>\n",
       "      <td>China</td>\n",
       "      <td>&lt;NA&gt;</td>\n",
       "      <td>PUBLISHED</td>\n",
       "      <td>2021-07-14 17:54:38+00:00</td>\n",
       "      <td>critical</td>\n",
       "      <td>9.0</td>\n",
       "      <td>&lt;NA&gt;</td>\n",
       "      <td>&lt;NA&gt;</td>\n",
       "    </tr>\n",
       "  </tbody>\n",
       "</table>\n",
       "</div>"
      ],
      "text/plain": [
       "             cve_id  year_cve  \\\n",
       "10   CVE-2018-13379      2018   \n",
       "844  CVE-2021-31207      2021   \n",
       "856  CVE-2021-34473      2021   \n",
       "857  CVE-2021-34523      2021   \n",
       "\n",
       "                                           description  \\\n",
       "10   An Improper Limitation of a Pathname to a Rest...   \n",
       "844  Microsoft Exchange Server Security Feature Byp...   \n",
       "856  Microsoft Exchange Server Remote Code Executio...   \n",
       "857  Microsoft Exchange Server Elevation of Privile...   \n",
       "\n",
       "                                               attack  year_start  year_end  \\\n",
       "10   Iranian APT Exploits on Fortinet Vulnerabilities        2021      2021   \n",
       "844            Microsoft Exchange ProxyShell Exploits        2021      2021   \n",
       "856            Microsoft Exchange ProxyShell Exploits        2021      2021   \n",
       "857            Microsoft Exchange ProxyShell Exploits        2021      2021   \n",
       "\n",
       "    attribution_group attribution_state cwe_id  cve_state  \\\n",
       "10               <NA>              Iran   <NA>  PUBLISHED   \n",
       "844              <NA>             China   <NA>  PUBLISHED   \n",
       "856              <NA>             China   <NA>  PUBLISHED   \n",
       "857              <NA>             China   <NA>  PUBLISHED   \n",
       "\n",
       "             cve_publish_date cve_severity  cve_severity_score  \\\n",
       "10  2019-06-04 20:18:08+00:00     critical                 9.1   \n",
       "844 2021-05-11 19:11:41+00:00       medium                 6.6   \n",
       "856 2021-07-14 17:54:03+00:00     critical                 9.1   \n",
       "857 2021-07-14 17:54:38+00:00     critical                 9.0   \n",
       "\n",
       "    cve_attack_vector cve_attack_complexity  \n",
       "10            NETWORK                   LOW  \n",
       "844              <NA>                  <NA>  \n",
       "856              <NA>                  <NA>  \n",
       "857              <NA>                  <NA>  "
      ]
     },
     "execution_count": 19,
     "metadata": {},
     "output_type": "execute_result"
    }
   ],
   "source": [
    "df[(df['cve_severity'].notnull()) & (df['attack'].notnull())]"
   ]
  },
  {
   "cell_type": "code",
   "execution_count": 44,
   "metadata": {},
   "outputs": [
    {
     "name": "stdout",
     "output_type": "stream",
     "text": [
      "<class 'pandas.core.frame.DataFrame'>\n",
      "RangeIndex: 1123 entries, 0 to 1122\n",
      "Data columns (total 15 columns):\n",
      " #   Column                 Non-Null Count  Dtype              \n",
      "---  ------                 --------------  -----              \n",
      " 0   cve_id                 1115 non-null   string             \n",
      " 1   year_cve               1115 non-null   Int64              \n",
      " 2   description            1115 non-null   string             \n",
      " 3   attack                 31 non-null     string             \n",
      " 4   year_start             31 non-null     Int64              \n",
      " 5   year_end               31 non-null     Int64              \n",
      " 6   attribution_group      14 non-null     string             \n",
      " 7   attribution_state      26 non-null     string             \n",
      " 8   cwe_id                 107 non-null    string             \n",
      " 9   cve_state              1103 non-null   string             \n",
      " 10  cve_publish_date       1103 non-null   datetime64[ns, UTC]\n",
      " 11  cve_severity           476 non-null    string             \n",
      " 12  cve_severity_score     476 non-null    float64            \n",
      " 13  cve_attack_vector      413 non-null    string             \n",
      " 14  cve_attack_complexity  413 non-null    string             \n",
      "dtypes: Int64(3), datetime64[ns, UTC](1), float64(1), string(10)\n",
      "memory usage: 135.0 KB\n"
     ]
    }
   ],
   "source": [
    "df.info()"
   ]
  },
  {
   "cell_type": "markdown",
   "metadata": {},
   "source": [
    "### Merging New Nation-State Attack Data"
   ]
  },
  {
   "cell_type": "code",
   "execution_count": 25,
   "metadata": {},
   "outputs": [],
   "source": [
    "df = df.merge(\n",
    "    new_nsa,\n",
    "    on=['attack', 'cve_id'],\n",
    "    how='outer',\n",
    "    suffixes=('_main', '_new')\n",
    ")"
   ]
  },
  {
   "cell_type": "code",
   "execution_count": 26,
   "metadata": {},
   "outputs": [],
   "source": [
    "# Combine the columns that weren't merged (because doing so would have prevented the merge from capturing all the data)\n",
    "df['cvss'] = df['cvss_main'].combine_first(df['cvss_new'])\n",
    "df['cvss_status'] = df['cvss_status_main'].combine_first(df['cvss_status_new'])"
   ]
  },
  {
   "cell_type": "code",
   "execution_count": 27,
   "metadata": {},
   "outputs": [
    {
     "name": "stdout",
     "output_type": "stream",
     "text": [
      "All values from 'cvss_main' correctly transferred: True\n",
      "All values from 'cvss_nsa' correctly transferred: True\n",
      "All values from 'cvss_status_main' correctly transferred: True\n",
      "All values from 'cvss_status_nsa' correctly transferred: True\n"
     ]
    }
   ],
   "source": [
    "# Check if the values in 'cvss' match those in 'cvss_main' where 'cvss_main' is not empty\n",
    "cvss_main_match = df.loc[df['cvss_main'].notna(), 'cvss'] == df.loc[df['cvss_main'].notna(), 'cvss_main']\n",
    "\n",
    "# Check if the values in 'cvss' match those in 'cvss_new' where 'cvss_new' is not empty\n",
    "cvss_new_match = df.loc[df['cvss_new'].notna(), 'cvss'] == df.loc[df['cvss_new'].notna(), 'cvss_new']\n",
    "\n",
    "# Check all values from both columns\n",
    "cvss_main_match_all = cvss_main_match.all()\n",
    "cvss_new_match_all = cvss_new_match.all()\n",
    "\n",
    "# Print results\n",
    "print(f\"All values from 'cvss_main' correctly transferred: {cvss_main_match_all}\")\n",
    "print(f\"All values from 'cvss_nsa' correctly transferred: {cvss_new_match_all}\")\n",
    "\n",
    "# Check if the values in 'cvss_status' match those in 'cvss_status_main' where 'cvss_status_main' is not empty\n",
    "cvss_status_main_match = df.loc[df['cvss_status_main'].notna(), 'cvss_status'] == df.loc[df['cvss_status_main'].notna(), 'cvss_status_main']\n",
    "\n",
    "# Check if the values in 'cvss_status' match those in 'cvss_status_new' where 'cvss_status_new' is not empty\n",
    "cvss_status_new_match = df.loc[df['cvss_status_new'].notna(), 'cvss_status'] == df.loc[df['cvss_status_new'].notna(), 'cvss_status_new']\n",
    "\n",
    "# Check all values from both columns\n",
    "cvss_status_main_match_all = cvss_status_main_match.all()\n",
    "cvss_status_new_match_all = cvss_status_new_match.all()\n",
    "\n",
    "# Print results\n",
    "print(f\"All values from 'cvss_status_main' correctly transferred: {cvss_status_main_match_all}\")\n",
    "print(f\"All values from 'cvss_status_nsa' correctly transferred: {cvss_status_new_match_all}\")"
   ]
  },
  {
   "cell_type": "markdown",
   "metadata": {},
   "source": [
    "## Filling in Missing Information\n",
    "The next step here is to fill in key pieces of data that were missing from either of the datasets by using selective merging techniques to effectively \"re-merge\" the datasets on different columns to capture additional data that may have been left behind by how the overall merge had to be constructed. To make this a clearer process, we'll drop all unnecessary columns from the dataset."
   ]
  },
  {
   "cell_type": "code",
   "execution_count": 28,
   "metadata": {},
   "outputs": [],
   "source": [
    "df['cve_publish_date'] = df['cve_publish_date'].combine_first(df['cve_list_date'])"
   ]
  },
  {
   "cell_type": "code",
   "execution_count": 36,
   "metadata": {},
   "outputs": [
    {
     "name": "stdout",
     "output_type": "stream",
     "text": [
      "['cve_id', 'year_cve', 'description', 'attack', 'year_start', 'year_end', 'attribution_group', 'attribution_state', 'cwe_id', 'cve_publish_date', 'cvss_status_main', 'cvss_main', 'cve_attack_vector', 'cve_attack_complexity', 'cve_list_date', 'date_of_first_exploit', 'patch_release_date', 'cvss_new', 'cvss_status_new', 'days_to_patch_release', 'days_to_first_exploit', 'cvss', 'cvss_status']\n"
     ]
    }
   ],
   "source": [
    "print(df.columns.to_list())"
   ]
  },
  {
   "cell_type": "code",
   "execution_count": 29,
   "metadata": {},
   "outputs": [],
   "source": [
    "unnecessary_cols = ['cve_attack_vector', 'cve_attack_complexity', 'cwe_id', 'cvss_main', 'cvss_new', 'cvss_status_main', 'cvss_status_new', 'cve_list_date']\n",
    "\n",
    "df.drop(labels=unnecessary_cols, axis=1, inplace=True)"
   ]
  },
  {
   "cell_type": "code",
   "execution_count": 30,
   "metadata": {},
   "outputs": [],
   "source": [
    "df = df.merge(\n",
    "    cves,\n",
    "    on=['cve_id'],\n",
    "    how='left'\n",
    ")"
   ]
  },
  {
   "cell_type": "code",
   "execution_count": 31,
   "metadata": {},
   "outputs": [],
   "source": [
    "# Combine the descriptions\n",
    "df['description'] = df['description_y'].combine_first(df['description_x'])"
   ]
  },
  {
   "cell_type": "code",
   "execution_count": 32,
   "metadata": {},
   "outputs": [],
   "source": [
    "unnecessary_cols = ['cwe_id', 'cve_state', 'cwe_id', 'date_published', 'severity', 'severity_score', 'attack_vector', 'attack_complexity', 'description_y', 'description_x']\n",
    "\n",
    "df.drop(labels=unnecessary_cols, axis=1, inplace=True)"
   ]
  },
  {
   "cell_type": "code",
   "execution_count": 33,
   "metadata": {},
   "outputs": [],
   "source": [
    "# Add data to new nation state values\n",
    "updates = {\n",
    "    'BlackEnergy Attack on Ukraine': [2015, 2015, 'Sandworm', 'Russia'],\n",
    "    'Dragonfly/Energetic Bear Campaign 3': [2022, 2022, 'Dragonfly (Energetic Bear)', 'Russia'],\n",
    "    'Stuxnet': [2018, 2018, pd.NA, 'US'],\n",
    "    'Triton/Trisis': [2017, 2017, pd.NA, 'Russia'],\n",
    "    'VPNFilter': [2018, 2018, 'APT28 (Fancy Bear)', 'Russia'],\n",
    "    'Volt Typhoon': [pd.NA, pd.NA, pd.NA, 'China']\n",
    "}\n",
    "\n",
    "for attack, values in updates.items():\n",
    "    df.loc[df['attack'] == attack, ['year_start', 'year_end', 'attribution_group', 'attribution_state']] = values"
   ]
  },
  {
   "cell_type": "code",
   "execution_count": 34,
   "metadata": {},
   "outputs": [],
   "source": [
    "# Drop one of the Stuxnet observations whose state attribution was changed from 'Israel' to 'US'\n",
    "df = df.drop(index=41)\n",
    "\n",
    "# Filter and copy dataframe for Stuxnet observations\n",
    "stuxnet_df = df[df['attack'] == 'Stuxnet'].copy()\n",
    "\n",
    "# Update state attribution\n",
    "stuxnet_df['attribution_state'] = 'Israel'\n",
    "\n",
    "# Split the dataframe to add new observations in desired location\n",
    "df_part1 = df.loc[:40]\n",
    "df_part2 = df.loc[41:]\n",
    "\n",
    "# Reappend updated observations to original dataframe\n",
    "df = pd.concat([df_part1, stuxnet_df, df_part2], ignore_index=True)"
   ]
  },
  {
   "cell_type": "code",
   "execution_count": 35,
   "metadata": {},
   "outputs": [],
   "source": [
    "# Recorrect data types for year colums\n",
    "yr_cols = ['year_cve', 'year_start', 'year_end']\n",
    "\n",
    "df[yr_cols] = df[yr_cols].apply(lambda x: pd.to_numeric(x))"
   ]
  },
  {
   "cell_type": "code",
   "execution_count": 36,
   "metadata": {},
   "outputs": [],
   "source": [
    "# Re-extract year from CVE ID\n",
    "df['year_cve'] = df['cve_id'].str.split('-').str[1]"
   ]
  },
  {
   "cell_type": "code",
   "execution_count": 37,
   "metadata": {},
   "outputs": [
    {
     "name": "stdout",
     "output_type": "stream",
     "text": [
      "<class 'pandas.core.frame.DataFrame'>\n",
      "RangeIndex: 1162 entries, 0 to 1161\n",
      "Data columns (total 15 columns):\n",
      " #   Column                 Non-Null Count  Dtype         \n",
      "---  ------                 --------------  -----         \n",
      " 0   cve_id                 1154 non-null   string        \n",
      " 1   year_cve               1154 non-null   object        \n",
      " 2   attack                 70 non-null     string        \n",
      " 3   year_start             59 non-null     Int64         \n",
      " 4   year_end               59 non-null     Int64         \n",
      " 5   attribution_group      29 non-null     string        \n",
      " 6   attribution_state      61 non-null     object        \n",
      " 7   cve_publish_date       1142 non-null   object        \n",
      " 8   date_of_first_exploit  40 non-null     datetime64[ns]\n",
      " 9   patch_release_date     40 non-null     datetime64[ns]\n",
      " 10  days_to_patch_release  40 non-null     float64       \n",
      " 11  days_to_first_exploit  40 non-null     float64       \n",
      " 12  cvss                   516 non-null    float64       \n",
      " 13  cvss_status            516 non-null    object        \n",
      " 14  description            1153 non-null   string        \n",
      "dtypes: Int64(2), datetime64[ns](2), float64(3), object(4), string(4)\n",
      "memory usage: 138.6+ KB\n"
     ]
    }
   ],
   "source": [
    "df.info()"
   ]
  },
  {
   "cell_type": "markdown",
   "metadata": {},
   "source": [
    "### Sorting Records with CVSS Scores First"
   ]
  },
  {
   "cell_type": "code",
   "execution_count": 49,
   "metadata": {},
   "outputs": [
    {
     "name": "stdout",
     "output_type": "stream",
     "text": [
      "<class 'pandas.core.frame.DataFrame'>\n",
      "Index: 516 entries, 0 to 515\n",
      "Data columns (total 15 columns):\n",
      " #   Column                 Non-Null Count  Dtype         \n",
      "---  ------                 --------------  -----         \n",
      " 0   cve_id                 516 non-null    string        \n",
      " 1   year_cve               516 non-null    object        \n",
      " 2   attack                 44 non-null     string        \n",
      " 3   year_start             33 non-null     Int64         \n",
      " 4   year_end               33 non-null     Int64         \n",
      " 5   attribution_group      16 non-null     string        \n",
      " 6   attribution_state      40 non-null     object        \n",
      " 7   cve_publish_date       516 non-null    object        \n",
      " 8   date_of_first_exploit  40 non-null     datetime64[ns]\n",
      " 9   patch_release_date     40 non-null     datetime64[ns]\n",
      " 10  days_to_patch_release  40 non-null     float64       \n",
      " 11  days_to_first_exploit  40 non-null     float64       \n",
      " 12  cvss                   516 non-null    float64       \n",
      " 13  cvss_status            516 non-null    object        \n",
      " 14  description            515 non-null    string        \n",
      "dtypes: Int64(2), datetime64[ns](2), float64(3), object(4), string(4)\n",
      "memory usage: 65.5+ KB\n"
     ]
    }
   ],
   "source": [
    "df[df['cvss'].notnull()].info()"
   ]
  },
  {
   "cell_type": "code",
   "execution_count": 44,
   "metadata": {},
   "outputs": [],
   "source": [
    "df.sort_values(by='cvss', ascending=True, inplace=True)\n",
    "df = df.reset_index(drop=True)"
   ]
  },
  {
   "cell_type": "markdown",
   "metadata": {},
   "source": [
    "## Saving the Dataframe"
   ]
  },
  {
   "cell_type": "code",
   "execution_count": 45,
   "metadata": {},
   "outputs": [],
   "source": [
    "df.to_parquet(path='../data/IoT_CVE_Attacks_V2.parquet', index=None)\n",
    "df.to_csv('../data/IoT_CVE_Attacks_V2_Indexed.csv', index=True)"
   ]
  },
  {
   "cell_type": "raw",
   "metadata": {
    "vscode": {
     "languageId": "raw"
    }
   },
   "source": [
    "df.to_csv('../data/IoT_CVE_Attacks_Indexed.csv', index=True)"
   ]
  },
  {
   "cell_type": "code",
   "execution_count": null,
   "metadata": {},
   "outputs": [],
   "source": []
  }
 ],
 "metadata": {
  "kernelspec": {
   "display_name": "ml-env",
   "language": "python",
   "name": "python3"
  },
  "language_info": {
   "codemirror_mode": {
    "name": "ipython",
    "version": 3
   },
   "file_extension": ".py",
   "mimetype": "text/x-python",
   "name": "python",
   "nbconvert_exporter": "python",
   "pygments_lexer": "ipython3",
   "version": "3.10.13"
  }
 },
 "nbformat": 4,
 "nbformat_minor": 2
}
