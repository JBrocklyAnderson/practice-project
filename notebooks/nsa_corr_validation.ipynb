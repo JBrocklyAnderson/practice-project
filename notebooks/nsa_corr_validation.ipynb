{
 "cells": [
  {
   "cell_type": "markdown",
   "metadata": {},
   "source": [
    "# Correlation Validation (Data From ChatGPT)\n",
    "Validating the effectiveness of a correlation model is crucial to ensure that the model accurately captures the relationship between tested variables and avoids misleading conclusions. A poorly validated correlation models can lead to false assumptions, the misinterpretation of results, ineffective decision-making, incorrect predictions, and the wasted expenditure of time, energy, labor, and resources.\n",
    "\n",
    "On the nation-state attack data `nsa_data_v2` aggregated in the `nsa_data_build` notebook, we will perform histogram and Q-Q plot visualizations, statistical normality testing with a variety of methods, and correlation testing with several models such as Spearman's correlation and Kendall's Tau.\n",
    "\n",
    "The following notebook contains the preliminary analysis of our test data to ensure that the model we chose is the most fitting for our analysis.\n",
    "\n",
    "## Grabbing our Tools"
   ]
  },
  {
   "cell_type": "code",
   "execution_count": 2,
   "metadata": {},
   "outputs": [],
   "source": [
    "import pandas as pd\n",
    "import numpy as np\n",
    "import scipy.stats as stats\n",
    "import matplotlib.pyplot as plt\n",
    "import seaborn as sns"
   ]
  },
  {
   "cell_type": "markdown",
   "metadata": {},
   "source": [
    "## Getting our Test Data"
   ]
  },
  {
   "cell_type": "code",
   "execution_count": 3,
   "metadata": {},
   "outputs": [
    {
     "data": {
      "text/html": [
       "<div>\n",
       "<style scoped>\n",
       "    .dataframe tbody tr th:only-of-type {\n",
       "        vertical-align: middle;\n",
       "    }\n",
       "\n",
       "    .dataframe tbody tr th {\n",
       "        vertical-align: top;\n",
       "    }\n",
       "\n",
       "    .dataframe thead th {\n",
       "        text-align: right;\n",
       "    }\n",
       "</style>\n",
       "<table border=\"1\" class=\"dataframe\">\n",
       "  <thead>\n",
       "    <tr style=\"text-align: right;\">\n",
       "      <th></th>\n",
       "      <th>attack_name</th>\n",
       "      <th>cve_list_date</th>\n",
       "      <th>date_of_first_exploit</th>\n",
       "      <th>patch_release_date</th>\n",
       "      <th>cvss</th>\n",
       "      <th>cvss_status</th>\n",
       "      <th>days_to_patch_release</th>\n",
       "      <th>days_to_first_exploit</th>\n",
       "      <th>year_start</th>\n",
       "      <th>year_end</th>\n",
       "      <th>attribution_group</th>\n",
       "      <th>attribution_state</th>\n",
       "      <th>cve_id</th>\n",
       "      <th>description</th>\n",
       "    </tr>\n",
       "  </thead>\n",
       "  <tbody>\n",
       "    <tr>\n",
       "      <th>0</th>\n",
       "      <td>BlackEnergy Attack on Ukraine</td>\n",
       "      <td>2014-01-31</td>\n",
       "      <td>2015-12-23</td>\n",
       "      <td>2014-07-01</td>\n",
       "      <td>5.0</td>\n",
       "      <td>medium</td>\n",
       "      <td>151</td>\n",
       "      <td>691</td>\n",
       "      <td>2015</td>\n",
       "      <td>2015</td>\n",
       "      <td>Sandworm</td>\n",
       "      <td>Russia</td>\n",
       "      <td>CVE-2014-0630</td>\n",
       "      <td>EMC Documentum TaskSpace (TSP) 6.7SP1 before P...</td>\n",
       "    </tr>\n",
       "    <tr>\n",
       "      <th>1</th>\n",
       "      <td>BlackEnergy Attack on Ukraine</td>\n",
       "      <td>2014-10-07</td>\n",
       "      <td>2015-12-23</td>\n",
       "      <td>2015-01-12</td>\n",
       "      <td>5.0</td>\n",
       "      <td>medium</td>\n",
       "      <td>97</td>\n",
       "      <td>442</td>\n",
       "      <td>2015</td>\n",
       "      <td>2015</td>\n",
       "      <td>Sandworm</td>\n",
       "      <td>Russia</td>\n",
       "      <td>CVE-2014-4166</td>\n",
       "      <td>Cross-site scripting (XSS) vulnerability in th...</td>\n",
       "    </tr>\n",
       "    <tr>\n",
       "      <th>2</th>\n",
       "      <td>BlackEnergy Attack on Ukraine</td>\n",
       "      <td>2014-10-14</td>\n",
       "      <td>2015-12-23</td>\n",
       "      <td>2014-12-10</td>\n",
       "      <td>7.5</td>\n",
       "      <td>high</td>\n",
       "      <td>57</td>\n",
       "      <td>435</td>\n",
       "      <td>2015</td>\n",
       "      <td>2015</td>\n",
       "      <td>Sandworm</td>\n",
       "      <td>Russia</td>\n",
       "      <td>CVE-2014-6485</td>\n",
       "      <td>Unspecified vulnerability in Oracle Java SE 8u...</td>\n",
       "    </tr>\n",
       "    <tr>\n",
       "      <th>3</th>\n",
       "      <td>BlackEnergy Attack on Ukraine</td>\n",
       "      <td>2015-01-27</td>\n",
       "      <td>2015-12-23</td>\n",
       "      <td>2015-01-27</td>\n",
       "      <td>6.8</td>\n",
       "      <td>medium</td>\n",
       "      <td>0</td>\n",
       "      <td>330</td>\n",
       "      <td>2015</td>\n",
       "      <td>2015</td>\n",
       "      <td>Sandworm</td>\n",
       "      <td>Russia</td>\n",
       "      <td>CVE-2015-0057</td>\n",
       "      <td>win32k.sys in the kernel-mode drivers in Micro...</td>\n",
       "    </tr>\n",
       "    <tr>\n",
       "      <th>4</th>\n",
       "      <td>BlackEnergy Attack on Ukraine</td>\n",
       "      <td>2015-04-15</td>\n",
       "      <td>2015-12-23</td>\n",
       "      <td>2015-04-15</td>\n",
       "      <td>7.5</td>\n",
       "      <td>high</td>\n",
       "      <td>0</td>\n",
       "      <td>252</td>\n",
       "      <td>2015</td>\n",
       "      <td>2015</td>\n",
       "      <td>Sandworm</td>\n",
       "      <td>Russia</td>\n",
       "      <td>CVE-2015-1673</td>\n",
       "      <td>The Windows Forms (aka WinForms) libraries in ...</td>\n",
       "    </tr>\n",
       "  </tbody>\n",
       "</table>\n",
       "</div>"
      ],
      "text/plain": [
       "                     attack_name cve_list_date date_of_first_exploit  \\\n",
       "0  BlackEnergy Attack on Ukraine    2014-01-31            2015-12-23   \n",
       "1  BlackEnergy Attack on Ukraine    2014-10-07            2015-12-23   \n",
       "2  BlackEnergy Attack on Ukraine    2014-10-14            2015-12-23   \n",
       "3  BlackEnergy Attack on Ukraine    2015-01-27            2015-12-23   \n",
       "4  BlackEnergy Attack on Ukraine    2015-04-15            2015-12-23   \n",
       "\n",
       "  patch_release_date  cvss cvss_status  days_to_patch_release  \\\n",
       "0         2014-07-01   5.0      medium                    151   \n",
       "1         2015-01-12   5.0      medium                     97   \n",
       "2         2014-12-10   7.5        high                     57   \n",
       "3         2015-01-27   6.8      medium                      0   \n",
       "4         2015-04-15   7.5        high                      0   \n",
       "\n",
       "   days_to_first_exploit  year_start  year_end attribution_group  \\\n",
       "0                    691        2015      2015          Sandworm   \n",
       "1                    442        2015      2015          Sandworm   \n",
       "2                    435        2015      2015          Sandworm   \n",
       "3                    330        2015      2015          Sandworm   \n",
       "4                    252        2015      2015          Sandworm   \n",
       "\n",
       "  attribution_state         cve_id  \\\n",
       "0            Russia  CVE-2014-0630   \n",
       "1            Russia  CVE-2014-4166   \n",
       "2            Russia  CVE-2014-6485   \n",
       "3            Russia  CVE-2015-0057   \n",
       "4            Russia  CVE-2015-1673   \n",
       "\n",
       "                                         description  \n",
       "0  EMC Documentum TaskSpace (TSP) 6.7SP1 before P...  \n",
       "1  Cross-site scripting (XSS) vulnerability in th...  \n",
       "2  Unspecified vulnerability in Oracle Java SE 8u...  \n",
       "3  win32k.sys in the kernel-mode drivers in Micro...  \n",
       "4  The Windows Forms (aka WinForms) libraries in ...  "
      ]
     },
     "execution_count": 3,
     "metadata": {},
     "output_type": "execute_result"
    }
   ],
   "source": [
    "df = pd.read_parquet('../data/nsa_data_v2.parquet')\n",
    "df.head()"
   ]
  },
  {
   "cell_type": "code",
   "execution_count": 5,
   "metadata": {},
   "outputs": [
    {
     "name": "stdout",
     "output_type": "stream",
     "text": [
      "<class 'pandas.core.frame.DataFrame'>\n",
      "RangeIndex: 87 entries, 0 to 86\n",
      "Data columns (total 14 columns):\n",
      " #   Column                 Non-Null Count  Dtype         \n",
      "---  ------                 --------------  -----         \n",
      " 0   attack_name            87 non-null     category      \n",
      " 1   cve_list_date          67 non-null     datetime64[ns]\n",
      " 2   date_of_first_exploit  67 non-null     datetime64[ns]\n",
      " 3   patch_release_date     67 non-null     datetime64[ns]\n",
      " 4   cvss                   67 non-null     float64       \n",
      " 5   cvss_status            67 non-null     category      \n",
      " 6   days_to_patch_release  67 non-null     Int64         \n",
      " 7   days_to_first_exploit  67 non-null     Int64         \n",
      " 8   year_start             80 non-null     Int64         \n",
      " 9   year_end               80 non-null     Int64         \n",
      " 10  attribution_group      48 non-null     category      \n",
      " 11  attribution_state      79 non-null     category      \n",
      " 12  cve_id                 83 non-null     string        \n",
      " 13  description            82 non-null     string        \n",
      "dtypes: Int64(4), category(4), datetime64[ns](3), float64(1), string(2)\n",
      "memory usage: 9.1 KB\n"
     ]
    }
   ],
   "source": [
    "df.info()"
   ]
  },
  {
   "cell_type": "markdown",
   "metadata": {},
   "source": [
    "## Filter Out Empty Values\n",
    "Doing the validation won't be possible with empty values in the variables we want to correlate, so I'll filter out the nulls for our columns of interest (`cve_list_date`, `date_of_first_exploit`, `patch_release_date`, `cvss`, `cvss_status`, `days_to_patch_release`, and `days_to_first_exploit`)."
   ]
  },
  {
   "cell_type": "code",
   "execution_count": 6,
   "metadata": {},
   "outputs": [],
   "source": [
    "df = df[df[[\n",
    "    'cve_list_date',\n",
    "    'date_of_first_exploit',\n",
    "    'patch_release_date',\n",
    "    'cvss', 'cvss_status'\n",
    "]].notna().all(axis=1)]"
   ]
  },
  {
   "cell_type": "code",
   "execution_count": 7,
   "metadata": {},
   "outputs": [
    {
     "data": {
      "text/html": [
       "<div>\n",
       "<style scoped>\n",
       "    .dataframe tbody tr th:only-of-type {\n",
       "        vertical-align: middle;\n",
       "    }\n",
       "\n",
       "    .dataframe tbody tr th {\n",
       "        vertical-align: top;\n",
       "    }\n",
       "\n",
       "    .dataframe thead th {\n",
       "        text-align: right;\n",
       "    }\n",
       "</style>\n",
       "<table border=\"1\" class=\"dataframe\">\n",
       "  <thead>\n",
       "    <tr style=\"text-align: right;\">\n",
       "      <th></th>\n",
       "      <th>attack_name</th>\n",
       "      <th>cve_list_date</th>\n",
       "      <th>date_of_first_exploit</th>\n",
       "      <th>patch_release_date</th>\n",
       "      <th>cvss</th>\n",
       "      <th>cvss_status</th>\n",
       "      <th>days_to_patch_release</th>\n",
       "      <th>days_to_first_exploit</th>\n",
       "      <th>year_start</th>\n",
       "      <th>year_end</th>\n",
       "      <th>attribution_group</th>\n",
       "      <th>attribution_state</th>\n",
       "      <th>cve_id</th>\n",
       "      <th>description</th>\n",
       "    </tr>\n",
       "  </thead>\n",
       "  <tbody>\n",
       "    <tr>\n",
       "      <th>0</th>\n",
       "      <td>BlackEnergy Attack on Ukraine</td>\n",
       "      <td>2014-01-31</td>\n",
       "      <td>2015-12-23</td>\n",
       "      <td>2014-07-01</td>\n",
       "      <td>5.0</td>\n",
       "      <td>medium</td>\n",
       "      <td>151</td>\n",
       "      <td>691</td>\n",
       "      <td>2015</td>\n",
       "      <td>2015</td>\n",
       "      <td>Sandworm</td>\n",
       "      <td>Russia</td>\n",
       "      <td>CVE-2014-0630</td>\n",
       "      <td>EMC Documentum TaskSpace (TSP) 6.7SP1 before P...</td>\n",
       "    </tr>\n",
       "    <tr>\n",
       "      <th>1</th>\n",
       "      <td>BlackEnergy Attack on Ukraine</td>\n",
       "      <td>2014-10-07</td>\n",
       "      <td>2015-12-23</td>\n",
       "      <td>2015-01-12</td>\n",
       "      <td>5.0</td>\n",
       "      <td>medium</td>\n",
       "      <td>97</td>\n",
       "      <td>442</td>\n",
       "      <td>2015</td>\n",
       "      <td>2015</td>\n",
       "      <td>Sandworm</td>\n",
       "      <td>Russia</td>\n",
       "      <td>CVE-2014-4166</td>\n",
       "      <td>Cross-site scripting (XSS) vulnerability in th...</td>\n",
       "    </tr>\n",
       "    <tr>\n",
       "      <th>2</th>\n",
       "      <td>BlackEnergy Attack on Ukraine</td>\n",
       "      <td>2014-10-14</td>\n",
       "      <td>2015-12-23</td>\n",
       "      <td>2014-12-10</td>\n",
       "      <td>7.5</td>\n",
       "      <td>high</td>\n",
       "      <td>57</td>\n",
       "      <td>435</td>\n",
       "      <td>2015</td>\n",
       "      <td>2015</td>\n",
       "      <td>Sandworm</td>\n",
       "      <td>Russia</td>\n",
       "      <td>CVE-2014-6485</td>\n",
       "      <td>Unspecified vulnerability in Oracle Java SE 8u...</td>\n",
       "    </tr>\n",
       "  </tbody>\n",
       "</table>\n",
       "</div>"
      ],
      "text/plain": [
       "                     attack_name cve_list_date date_of_first_exploit  \\\n",
       "0  BlackEnergy Attack on Ukraine    2014-01-31            2015-12-23   \n",
       "1  BlackEnergy Attack on Ukraine    2014-10-07            2015-12-23   \n",
       "2  BlackEnergy Attack on Ukraine    2014-10-14            2015-12-23   \n",
       "\n",
       "  patch_release_date  cvss cvss_status  days_to_patch_release  \\\n",
       "0         2014-07-01   5.0      medium                    151   \n",
       "1         2015-01-12   5.0      medium                     97   \n",
       "2         2014-12-10   7.5        high                     57   \n",
       "\n",
       "   days_to_first_exploit  year_start  year_end attribution_group  \\\n",
       "0                    691        2015      2015          Sandworm   \n",
       "1                    442        2015      2015          Sandworm   \n",
       "2                    435        2015      2015          Sandworm   \n",
       "\n",
       "  attribution_state         cve_id  \\\n",
       "0            Russia  CVE-2014-0630   \n",
       "1            Russia  CVE-2014-4166   \n",
       "2            Russia  CVE-2014-6485   \n",
       "\n",
       "                                         description  \n",
       "0  EMC Documentum TaskSpace (TSP) 6.7SP1 before P...  \n",
       "1  Cross-site scripting (XSS) vulnerability in th...  \n",
       "2  Unspecified vulnerability in Oracle Java SE 8u...  "
      ]
     },
     "execution_count": 7,
     "metadata": {},
     "output_type": "execute_result"
    }
   ],
   "source": [
    "df.head(3)"
   ]
  },
  {
   "cell_type": "code",
   "execution_count": 8,
   "metadata": {},
   "outputs": [
    {
     "name": "stdout",
     "output_type": "stream",
     "text": [
      "<class 'pandas.core.frame.DataFrame'>\n",
      "Index: 67 entries, 0 to 85\n",
      "Data columns (total 14 columns):\n",
      " #   Column                 Non-Null Count  Dtype         \n",
      "---  ------                 --------------  -----         \n",
      " 0   attack_name            67 non-null     category      \n",
      " 1   cve_list_date          67 non-null     datetime64[ns]\n",
      " 2   date_of_first_exploit  67 non-null     datetime64[ns]\n",
      " 3   patch_release_date     67 non-null     datetime64[ns]\n",
      " 4   cvss                   67 non-null     float64       \n",
      " 5   cvss_status            67 non-null     category      \n",
      " 6   days_to_patch_release  67 non-null     Int64         \n",
      " 7   days_to_first_exploit  67 non-null     Int64         \n",
      " 8   year_start             60 non-null     Int64         \n",
      " 9   year_end               60 non-null     Int64         \n",
      " 10  attribution_group      40 non-null     category      \n",
      " 11  attribution_state      63 non-null     category      \n",
      " 12  cve_id                 67 non-null     string        \n",
      " 13  description            66 non-null     string        \n",
      "dtypes: Int64(4), category(4), datetime64[ns](3), float64(1), string(2)\n",
      "memory usage: 7.8 KB\n"
     ]
    }
   ],
   "source": [
    "df.info()"
   ]
  },
  {
   "cell_type": "code",
   "execution_count": 9,
   "metadata": {},
   "outputs": [
    {
     "data": {
      "text/html": [
       "<div>\n",
       "<style scoped>\n",
       "    .dataframe tbody tr th:only-of-type {\n",
       "        vertical-align: middle;\n",
       "    }\n",
       "\n",
       "    .dataframe tbody tr th {\n",
       "        vertical-align: top;\n",
       "    }\n",
       "\n",
       "    .dataframe thead th {\n",
       "        text-align: right;\n",
       "    }\n",
       "</style>\n",
       "<table border=\"1\" class=\"dataframe\">\n",
       "  <thead>\n",
       "    <tr style=\"text-align: right;\">\n",
       "      <th></th>\n",
       "      <th>cve_list_date</th>\n",
       "      <th>date_of_first_exploit</th>\n",
       "      <th>patch_release_date</th>\n",
       "      <th>cvss</th>\n",
       "      <th>days_to_patch_release</th>\n",
       "      <th>days_to_first_exploit</th>\n",
       "      <th>year_start</th>\n",
       "      <th>year_end</th>\n",
       "    </tr>\n",
       "  </thead>\n",
       "  <tbody>\n",
       "    <tr>\n",
       "      <th>count</th>\n",
       "      <td>67</td>\n",
       "      <td>67</td>\n",
       "      <td>67</td>\n",
       "      <td>67.000000</td>\n",
       "      <td>67.0</td>\n",
       "      <td>67.0</td>\n",
       "      <td>60.0</td>\n",
       "      <td>60.0</td>\n",
       "    </tr>\n",
       "    <tr>\n",
       "      <th>mean</th>\n",
       "      <td>2017-08-08 23:38:30.447761152</td>\n",
       "      <td>2018-04-19 16:07:09.850746368</td>\n",
       "      <td>2017-12-24 11:06:16.119403008</td>\n",
       "      <td>8.085075</td>\n",
       "      <td>137.477612</td>\n",
       "      <td>253.686567</td>\n",
       "      <td>2017.85</td>\n",
       "      <td>2017.85</td>\n",
       "    </tr>\n",
       "    <tr>\n",
       "      <th>min</th>\n",
       "      <td>2014-01-31 00:00:00</td>\n",
       "      <td>2014-10-01 00:00:00</td>\n",
       "      <td>2014-07-01 00:00:00</td>\n",
       "      <td>5.000000</td>\n",
       "      <td>0.0</td>\n",
       "      <td>-11.0</td>\n",
       "      <td>2015.0</td>\n",
       "      <td>2015.0</td>\n",
       "    </tr>\n",
       "    <tr>\n",
       "      <th>25%</th>\n",
       "      <td>2016-02-19 12:00:00</td>\n",
       "      <td>2016-05-22 12:00:00</td>\n",
       "      <td>2016-08-16 12:00:00</td>\n",
       "      <td>7.500000</td>\n",
       "      <td>0.0</td>\n",
       "      <td>113.0</td>\n",
       "      <td>2017.75</td>\n",
       "      <td>2017.75</td>\n",
       "    </tr>\n",
       "    <tr>\n",
       "      <th>50%</th>\n",
       "      <td>2017-10-13 00:00:00</td>\n",
       "      <td>2018-05-24 00:00:00</td>\n",
       "      <td>2018-06-27 00:00:00</td>\n",
       "      <td>7.800000</td>\n",
       "      <td>147.0</td>\n",
       "      <td>219.0</td>\n",
       "      <td>2018.0</td>\n",
       "      <td>2018.0</td>\n",
       "    </tr>\n",
       "    <tr>\n",
       "      <th>75%</th>\n",
       "      <td>2017-10-17 00:00:00</td>\n",
       "      <td>2018-05-24 00:00:00</td>\n",
       "      <td>2018-06-27 00:00:00</td>\n",
       "      <td>9.550000</td>\n",
       "      <td>253.0</td>\n",
       "      <td>340.0</td>\n",
       "      <td>2018.0</td>\n",
       "      <td>2018.0</td>\n",
       "    </tr>\n",
       "    <tr>\n",
       "      <th>max</th>\n",
       "      <td>2022-05-10 00:00:00</td>\n",
       "      <td>2023-04-25 00:00:00</td>\n",
       "      <td>2022-06-06 00:00:00</td>\n",
       "      <td>9.800000</td>\n",
       "      <td>358.0</td>\n",
       "      <td>691.0</td>\n",
       "      <td>2022.0</td>\n",
       "      <td>2022.0</td>\n",
       "    </tr>\n",
       "    <tr>\n",
       "      <th>std</th>\n",
       "      <td>NaN</td>\n",
       "      <td>NaN</td>\n",
       "      <td>NaN</td>\n",
       "      <td>1.416168</td>\n",
       "      <td>125.050094</td>\n",
       "      <td>171.529237</td>\n",
       "      <td>1.571192</td>\n",
       "      <td>1.571192</td>\n",
       "    </tr>\n",
       "  </tbody>\n",
       "</table>\n",
       "</div>"
      ],
      "text/plain": [
       "                       cve_list_date          date_of_first_exploit  \\\n",
       "count                             67                             67   \n",
       "mean   2017-08-08 23:38:30.447761152  2018-04-19 16:07:09.850746368   \n",
       "min              2014-01-31 00:00:00            2014-10-01 00:00:00   \n",
       "25%              2016-02-19 12:00:00            2016-05-22 12:00:00   \n",
       "50%              2017-10-13 00:00:00            2018-05-24 00:00:00   \n",
       "75%              2017-10-17 00:00:00            2018-05-24 00:00:00   \n",
       "max              2022-05-10 00:00:00            2023-04-25 00:00:00   \n",
       "std                              NaN                            NaN   \n",
       "\n",
       "                  patch_release_date       cvss  days_to_patch_release  \\\n",
       "count                             67  67.000000                   67.0   \n",
       "mean   2017-12-24 11:06:16.119403008   8.085075             137.477612   \n",
       "min              2014-07-01 00:00:00   5.000000                    0.0   \n",
       "25%              2016-08-16 12:00:00   7.500000                    0.0   \n",
       "50%              2018-06-27 00:00:00   7.800000                  147.0   \n",
       "75%              2018-06-27 00:00:00   9.550000                  253.0   \n",
       "max              2022-06-06 00:00:00   9.800000                  358.0   \n",
       "std                              NaN   1.416168             125.050094   \n",
       "\n",
       "       days_to_first_exploit  year_start  year_end  \n",
       "count                   67.0        60.0      60.0  \n",
       "mean              253.686567     2017.85   2017.85  \n",
       "min                    -11.0      2015.0    2015.0  \n",
       "25%                    113.0     2017.75   2017.75  \n",
       "50%                    219.0      2018.0    2018.0  \n",
       "75%                    340.0      2018.0    2018.0  \n",
       "max                    691.0      2022.0    2022.0  \n",
       "std               171.529237    1.571192  1.571192  "
      ]
     },
     "execution_count": 9,
     "metadata": {},
     "output_type": "execute_result"
    }
   ],
   "source": [
    "df.describe()"
   ]
  },
  {
   "cell_type": "markdown",
   "metadata": {},
   "source": [
    "## Verifying Distributive Normalcy\n",
    "### Histogram Plots\n",
    "From the looks of the histogram plots, the CVSS scores seem normal (because of the bell curve) but the days to patch and days to exploit don't seem normal; rather, they seem heavily skewed to the right and even bimodal, respectively. We can't rely on appearances alone though, so in the next section, we'll use several statistical tests to verify the data's shape mathematically. The histogram plots are superimposed with a kernel density estimation (KDE) that approximates the shape of the distribution. Taken together, we can see that the test data, though theoretically continuous, has larger gaps where certain potential values are not represented. This makes interpreting the results of the normality testing that follows less accurate since they all expect continuous data. This issue may sufficiently fall away when testing our actual dataset given its larger sample size. Fortunately for now, non-parametric tests like Spearman's correlation and Kendall's Tau can handle discrete variables, but we'll still go through normality testing to verify the discreteness of our current test data."
   ]
  },
  {
   "cell_type": "code",
   "execution_count": 10,
   "metadata": {},
   "outputs": [],
   "source": [
    "# Variables to test\n",
    "cvss = df['cvss']\n",
    "dtpr = df['days_to_patch_release']\n",
    "dtfe = df['days_to_first_exploit']"
   ]
  },
  {
   "cell_type": "code",
   "execution_count": 11,
   "metadata": {},
   "outputs": [
    {
     "data": {
      "image/png": "[encoded data removed]",
      "text/plain": [
       "<Figure size 300x300 with 1 Axes>"
      ]
     },
     "metadata": {},
     "output_type": "display_data"
    },
    {
     "data": {
      "image/png": "[encoded data removed]",
      "text/plain": [
       "<Figure size 500x500 with 1 Axes>"
      ]
     },
     "metadata": {},
     "output_type": "display_data"
    },
    {
     "data": {
      "image/png": "[encoded data removed]",
      "text/plain": [
       "<Figure size 500x500 with 1 Axes>"
      ]
     },
     "metadata": {},
     "output_type": "display_data"
    }
   ],
   "source": [
    "# Visualize normality visually for CVSS\n",
    "plt.figure(figsize=(3, 3))\n",
    "sns.histplot(cvss, kde=True, bins=21)\n",
    "plt.title('Histogram of CVSS Scores')\n",
    "min_x = cvss.min()\n",
    "max_x = cvss.max()\n",
    "plt.xlim(min_x, max_x)\n",
    "plt.xticks(np.arange(min_x, max_x, 2))\n",
    "max_y = cvss.value_counts().max() + 3\n",
    "plt.ylim(0, max_y)\n",
    "plt.yticks(np.arange(0, max_y, 5))\n",
    "plt.grid(True)\n",
    "plt.show()\n",
    "\n",
    "# Visualize normality visually for CVSS\n",
    "plt.figure(figsize=(5, 5))\n",
    "sns.histplot(dtpr, kde=True, bins=21)\n",
    "plt.title('Histogram of Days to Patch Release')\n",
    "plt.xlabel('Days until a patch was released after CVE was published')\n",
    "min_x = dtpr.min()\n",
    "max_x = dtpr.max()\n",
    "plt.xlim(min_x, max_x)\n",
    "plt.xticks(np.arange(min_x, max_x, 100))\n",
    "max_y = dtpr.value_counts().max() + 3\n",
    "plt.ylim(0, max_y)\n",
    "plt.yticks(np.arange(0, max_y, 5))\n",
    "plt.grid(True)\n",
    "plt.show()\n",
    "\n",
    "# Visualize normality visually for CVSS\n",
    "plt.figure(figsize=(5, 5))\n",
    "sns.histplot(dtfe, kde=True, bins=21)\n",
    "plt.title('Histogram of Days to First Exploit')\n",
    "plt.xlabel('Days until a CVE was exploited after CVE was published')\n",
    "min_x = dtfe.min()\n",
    "max_x = dtfe.max()\n",
    "plt.xlim(min_x, max_x)\n",
    "plt.xticks(np.arange(min_x, max_x, 100))\n",
    "max_y = dtfe.value_counts().max() + 3\n",
    "plt.ylim(0, max_y)\n",
    "plt.yticks(np.arange(0, max_y, 5))\n",
    "plt.grid(True)\n",
    "plt.show()"
   ]
  },
  {
   "cell_type": "markdown",
   "metadata": {},
   "source": [
    "### Q-Q Plots\n",
    "Q-Q plots graph the relationship between a variable's empirical distribution against a theoretical distribution (like normality, etc.). They are similar in this was to the Kolmogorov-Smirnov test and they can thus be used to visually gauge the shape of our data. The theoretical distribution of our data will be a $45\\degree$ line and our data will be normally distributed if its quantiles fall along this line."
   ]
  },
  {
   "cell_type": "code",
   "execution_count": 12,
   "metadata": {},
   "outputs": [
    {
     "data": {
      "image/png": "[encoded data removed]",
      "text/plain": [
       "<Figure size 300x300 with 1 Axes>"
      ]
     },
     "metadata": {},
     "output_type": "display_data"
    },
    {
     "data": {
      "image/png": "[encoded data removed]",
      "text/plain": [
       "<Figure size 300x300 with 1 Axes>"
      ]
     },
     "metadata": {},
     "output_type": "display_data"
    },
    {
     "data": {
      "image/png": "[encoded data removed]",
      "text/plain": [
       "<Figure size 300x300 with 1 Axes>"
      ]
     },
     "metadata": {},
     "output_type": "display_data"
    }
   ],
   "source": [
    "# CVSS Q-Q plot\n",
    "plt.figure(figsize=(3, 3))\n",
    "stats.probplot(cvss, dist='norm', plot=plt)\n",
    "plt.title('Q-Q Plot for CVSS')\n",
    "plt.show()\n",
    "\n",
    "# Days to Patch Release Q-Q plot\n",
    "plt.figure(figsize=(3, 3))\n",
    "stats.probplot(dtpr, dist='norm', plot=plt)\n",
    "plt.title('Q-Q Plot for Days to Patch Release')\n",
    "plt.show()\n",
    "\n",
    "# CVSS Q-Q plot\n",
    "plt.figure(figsize=(3, 3))\n",
    "stats.probplot(dtfe, dist='norm', plot=plt)\n",
    "plt.title('Q-Q Plot for Days to First Exploit')\n",
    "plt.show()"
   ]
  },
  {
   "cell_type": "markdown",
   "metadata": {},
   "source": [
    "There are regions of normality in all three of our variables, but there are also indications of discreteness (plateauing) and outliers that are not well-modeled by a normal distribution. This gives us further indication that the data are not normally distributed, but obviously we can't rely on appearances alone."
   ]
  },
  {
   "cell_type": "markdown",
   "metadata": {},
   "source": [
    "### Statistical Tests\n",
    "We'll make use of three different statistical tests for normality: the **Anderson-Darling**, the **Kolmogorov-Smirnov**, and the **Shapiro-Wilk** tests. All three of these tests assume *continuous*, univariate data with relatively smaller sample sizes. Very large sample sizes may be significantly impacted even by negligible deviations from normality, so the context of what we're testing is crucial to make the final decision.\n",
    "\n",
    "<span style='color:#ffcc00;text-shadow:0 0 3px #ffcc00;'>! Bootstrap resampling the dataset for tests of normality will not provide any additional information because such resampling will produce exactly the same shape for every resample.</span>"
   ]
  },
  {
   "cell_type": "markdown",
   "metadata": {},
   "source": [
    "#### Shapiro-Wilk\n",
    "The Shapiro-Wilk test tests the null hypothesis that a sample $x_1, ..., x_n$ came from a normally distributed population of *continuous* data. The closer the test statistic `W` is to `1`, the closer the data is to a normal distribution, but if the `p` value provided by the test falls below the chosen alpha level (e.g `0.05`), we must reject the null and conclude that the data is not sufficiently normal enough to do correlation testing with Pearson's rank coefficient. If the sample size is sufficiently large, this test may detect other negligent departures from the null hypothesis, meaning further investigation in the form of a Q-Q plot may be advisable to test the effect size of the original test. We may be able to avoid this if multiple normality tests are producing similar results.\n",
    "\n",
    "The results of our Shapiro-Wilk test can be interpreted as follows: the `cvss` scores are nearly normal, yet this is not a statistically significant result, so we must reject the null. The `days_to_patch_release` are more abnormal and even less statistically significant. The `days_to_first_exploit` are the closest to normal, yet again we must reject the null on account of statistical insignificance."
   ]
  },
  {
   "cell_type": "code",
   "execution_count": 14,
   "metadata": {},
   "outputs": [
    {
     "name": "stdout",
     "output_type": "stream",
     "text": [
      "Shapiro-Wilk Test for CVSS: stat = 0.88013, p-value = 1e-05\n",
      "Shapiro-Wilk Test for Days to Patch Release: stat = 0.83094, p-value = 0.0\n",
      "Shapiro-Wilk Test for Days to First Patch: stat = 0.93871, p-value = 0.00253\n"
     ]
    }
   ],
   "source": [
    "# Shapiro-Wilk\n",
    "cvss_stat, cvss_p_value = stats.shapiro(cvss)\n",
    "cvss_stat, cvss_p_value = round(cvss_stat, 5), round(cvss_p_value, 5)\n",
    "\n",
    "dtpr_stat, dtpr_p_value = stats.shapiro(dtpr)\n",
    "dtpr_stat, dtpr_p_value = round(dtpr_stat, 5), round(dtpr_p_value, 5)\n",
    "\n",
    "dtfe_stat, dtfe_p_value = stats.shapiro(dtfe)\n",
    "dtfe_stat, dtfe_p_value = round(dtfe_stat, 5), round(dtfe_p_value, 5)\n",
    "\n",
    "print(f'Shapiro-Wilk Test for CVSS: stat = {cvss_stat}, p-value = {cvss_p_value}')\n",
    "print(f'Shapiro-Wilk Test for Days to Patch Release: stat = {dtpr_stat}, p-value = {dtpr_p_value}')\n",
    "print(f'Shapiro-Wilk Test for Days to First Patch: stat = {dtfe_stat}, p-value = {dtfe_p_value}')"
   ]
  },
  {
   "cell_type": "markdown",
   "metadata": {},
   "source": [
    "#### Anderson-Darling\n",
    "The Anderson-Darling test is also used to measure the whether *continuous* data comes from a specified distribution (in this case, a normal one). The larger the test statistic (`A`), the further away from normality our data will be. Instead of a `p` value, this `A` statistic is returned with a set of critical values at various significance levels. If the `A` statistic is larger than the critical value for a given significance level, we then reject the null hypothesis that the data are normally distributed. The test is more sensitive to deviations in the tails of skewed data, which might provide some insights in our `Days_To_Patch_Release` variable.\n",
    "\n",
    "This test produced test statistics that were greater than our given significance of 5% for all three of our variables, indicating that we must reject the null hypothesis that the data in these columns are normally distributed."
   ]
  },
  {
   "cell_type": "code",
   "execution_count": 15,
   "metadata": {},
   "outputs": [
    {
     "name": "stdout",
     "output_type": "stream",
     "text": [
      "Anderson-Darling Test for CVSS: stat = 2.59950\n",
      "Critical values (5% / alpha level 0.05): 0.747\n",
      "Because the test statistic is greater than the critical value at our desired alpha level, we must reject the null hypothesis.\n",
      "\n",
      "Anderson-Darling Test for CVSS: stat = 4.41955\n",
      "Critical values (5% / alpha level 0.05): 0.747\n",
      "Because the test statistic is greater than the critical value at our desired alpha level, we must reject the null hypothesis.\n",
      "\n",
      "Anderson-Darling Test for Days to First Exploit: stat = 1.25958\n",
      "Critical values (5% / alpha level 0.05): 0.747\n",
      "Because the test statistic is greater than the critical value at our desired alpha level, we must reject the null hypothesis.\n",
      "\n"
     ]
    }
   ],
   "source": [
    "# Anderson-Darling\n",
    "cvss_stat = stats.anderson(cvss, dist='norm')\n",
    "dtpr_stat = stats.anderson(dtpr, dist='norm')\n",
    "dtfe_stat = stats.anderson(dtfe, dist='norm')\n",
    "\n",
    "print(f'Anderson-Darling Test for CVSS: stat = {cvss_stat.statistic:.5f}')\n",
    "print(f'Critical values (5% / alpha level 0.05): {cvss_stat.critical_values[2]}')\n",
    "if cvss_stat.statistic > cvss_stat.critical_values[2]:\n",
    "    print('Because the test statistic is greater than the critical value at our desired alpha level, we must reject the null hypothesis.\\n')\n",
    "else:\n",
    "    print('The test statistic is less than the critical value at our desired alpha level, therefore we fail to reject the null hypothesis.\\n')\n",
    "\n",
    "print(f'Anderson-Darling Test for CVSS: stat = {dtpr_stat.statistic:.5f}')\n",
    "print(f'Critical values (5% / alpha level 0.05): {dtpr_stat.critical_values[2]}')\n",
    "if dtpr_stat.statistic > cvss_stat.critical_values[2]:\n",
    "    print('Because the test statistic is greater than the critical value at our desired alpha level, we must reject the null hypothesis.\\n')\n",
    "else:\n",
    "    print('The test statistic is less than the critical value at our desired alpha level, therefore we fail to reject the null hypothesis.\\n')\n",
    "\n",
    "print(f'Anderson-Darling Test for Days to First Exploit: stat = {dtfe_stat.statistic:.5f}')\n",
    "print(f'Critical values (5% / alpha level 0.05): {dtfe_stat.critical_values[2]}')\n",
    "if dtfe_stat.statistic > cvss_stat.critical_values[2]:\n",
    "    print('Because the test statistic is greater than the critical value at our desired alpha level, we must reject the null hypothesis.\\n')\n",
    "else:\n",
    "    print('The test statistic is less than the critical value at our desired alpha level, therefore we fail to reject the null hypothesis\\n')"
   ]
  },
  {
   "cell_type": "markdown",
   "metadata": {},
   "source": [
    "#### Kolmogorov-Smirnov\n",
    "The Kolmogorov-Smirnov test compares the empirical distribution of the data to the theoretical distribution (often a normal distribution, but can be any *continuous* distribution). It provides a measure of the largest difference between the two distributions, given by a `D` statistic, and a `p` value that will indicate whether the null hypothesis will be rejected.\n",
    "\n",
    "The way we can interpret the results of this test is fairly simple: the closer our test stat gets to `1`, the more different from our theoretical distribution the actual distribution is shown to be. In this case, all three variables are statistically significantly different from normality, with our `CVSS` scores being basically *as different as possible*, though this could be the result of inflated deviations due to our test data's discreteness. In other words, this may change on our actual data, but for now they hold true like the nuclear strong force."
   ]
  },
  {
   "cell_type": "code",
   "execution_count": 16,
   "metadata": {},
   "outputs": [
    {
     "name": "stdout",
     "output_type": "stream",
     "text": [
      "Kolmogorov-Smirnov Test for CVSS: stat = 1.0, p-value = 0.0\n",
      "Kolmogorov-Smirnov Test for Days to Patch Release: stat = 0.68657, p-value = 0.0\n",
      "Kolmogorov-Smirnov Test for Days to First Exploit: stat = 0.9403, p-value = 0.0\n"
     ]
    }
   ],
   "source": [
    "# Kolmogorov-Smirnov\n",
    "cvss_stat, cvss_p_value = stats.kstest(cvss, 'norm')\n",
    "cvss_stat, cvss_p_value = round(cvss_stat, 5), round(cvss_p_value, 12)\n",
    "\n",
    "dtpr_stat, dtpr_p_value = stats.kstest(dtpr, 'norm')\n",
    "dtpr_stat, dtpr_p_value = round(dtpr_stat, 5), round(dtpr_p_value, 12)\n",
    "\n",
    "dtfe_stat, dtfe_p_value = stats.kstest(dtfe, 'norm')\n",
    "dtfe_stat, dtfe_p_value = round(dtfe_stat, 5), round(dtfe_p_value, 12)\n",
    "\n",
    "print(f'Kolmogorov-Smirnov Test for CVSS: stat = {cvss_stat}, p-value = {cvss_p_value}')\n",
    "print(f'Kolmogorov-Smirnov Test for Days to Patch Release: stat = {dtpr_stat}, p-value = {dtpr_p_value}')\n",
    "print(f'Kolmogorov-Smirnov Test for Days to First Exploit: stat = {dtfe_stat}, p-value = {dtfe_p_value}')"
   ]
  },
  {
   "cell_type": "markdown",
   "metadata": {},
   "source": [
    "## Correlation Testing\n",
    "\n",
    "All three normality tests show that we must reject the null hypothesis. None of the variables are normally distributed, meaning parametric correlation testing (such as Pearson's rank coefficient) will produce misleadling results. Instead, we'll conduct a series of non-parametric tests whose data can deviate from normality and present itself discretely. We are left with Spearman's rank correlation and Kendall's Tau. Which of these correlation methods to use depends on the number of duplicates that occur in the data as well as the sample size."
   ]
  },
  {
   "cell_type": "code",
   "execution_count": 17,
   "metadata": {},
   "outputs": [
    {
     "name": "stdout",
     "output_type": "stream",
     "text": [
      "Total number of values: 67\n",
      "Number of unique CVSS values: 12\n",
      "Number of unique Time to Patch values: 12\n",
      "Number of unique Time to Exploit values: 19\n",
      "There are 55 tied values in \"CVSS\"\n",
      "There are 55 tied values in \"Days_To_Patch_Release\"\n",
      "There are 48 tied values in \"Days_To_First_Exploit\"\n"
     ]
    }
   ],
   "source": [
    "num_total_values = len(cvss)\n",
    "\n",
    "# Determine number of ties in data\n",
    "num_unique_cvss_values = cvss.nunique()\n",
    "num_unique_dtpr_values = dtpr.nunique()\n",
    "num_unique_dtfe_values = dtfe.nunique()\n",
    "\n",
    "print(f'Total number of values: {num_total_values}')\n",
    "print(f'Number of unique CVSS values: {num_unique_cvss_values}')\n",
    "print(f'Number of unique Time to Patch values: {num_unique_dtpr_values}')\n",
    "print(f'Number of unique Time to Exploit values: {num_unique_dtfe_values}')\n",
    "\n",
    "\n",
    "if num_unique_cvss_values < num_total_values:\n",
    "    print(f'There are {num_total_values - num_unique_cvss_values} tied values in \"CVSS\"')\n",
    "if num_unique_dtpr_values < num_total_values:\n",
    "    print(f'There are {num_total_values - num_unique_dtpr_values} tied values in \"Days_To_Patch_Release\"')\n",
    "if num_unique_dtfe_values < num_total_values:\n",
    "    print(f'There are {num_total_values - num_unique_dtfe_values} tied values in \"Days_To_First_Exploit\"')"
   ]
  },
  {
   "cell_type": "markdown",
   "metadata": {},
   "source": [
    "Because of the prevalence of duplicate values in our columns of interest, we'll most likely want to use Kendall's Tau to calculate the correlation between our variables, but I'm going to run tests using Spearman's rank correlation as well to inform a more definitive choice. We also have to think about the sample size of the test versus our final data. Spearman's correlation could be better suited for larger datasets, especially if our larger dataset has less duplicated data. If we really wanted to, we could resample our test data with bootstrapping and then calculate the standard deviation of the correlation coefficients produced by both methods to guage which is more reliable."
   ]
  },
  {
   "cell_type": "code",
   "execution_count": 18,
   "metadata": {},
   "outputs": [
    {
     "name": "stdout",
     "output_type": "stream",
     "text": [
      "Spearman's correlation between CVSS and Days to Patch Release: 0.5757632834725255, p-value: 3.443981821969181e-07\n",
      "Kendall's Tau correlation between CVSS and Days to Patch Release: 0.3697368607629339, p-value: 0.00013554911409191007\n",
      "\n",
      "Spearman's correlation between CVSS and Days to First Exploit: -0.3682766275443037, p-value: 0.002167311496876549\n",
      "Kendall's Tau correlation between CVSS and Days to First Exploit: -0.3035917269680395, p-value: 0.0012179131804597836\n"
     ]
    }
   ],
   "source": [
    "# Spearman's Correlation: Test the relationship between CVSS scores and the time to patch\n",
    "spearman_corr, spearman_p = stats.spearmanr(cvss, dtpr)\n",
    "\n",
    "# Kendall's Tau: Test the relationship between CVSS scores and the time to patch\n",
    "kendall_corr, kendall_p = stats.kendalltau(cvss, dtpr)\n",
    "\n",
    "print(f\"Spearman's correlation between CVSS and Days to Patch Release: {spearman_corr}, p-value: {spearman_p}\")\n",
    "print(f\"Kendall's Tau correlation between CVSS and Days to Patch Release: {kendall_corr}, p-value: {kendall_p}\\n\")\n",
    "\n",
    "# Spearman's Correlation: Test the relationship between CVSS scores and the time to exploit\n",
    "spearman_corr, spearman_p = stats.spearmanr(cvss, dtfe)\n",
    "\n",
    "# Kendall's Tau: Test the relationship between CVSS scores and the time to exploit\n",
    "kendall_corr, kendall_p = stats.kendalltau(cvss, dtfe)\n",
    "\n",
    "print(f\"Spearman's correlation between CVSS and Days to First Exploit: {spearman_corr}, p-value: {spearman_p}\")\n",
    "print(f\"Kendall's Tau correlation between CVSS and Days to First Exploit: {kendall_corr}, p-value: {kendall_p}\")"
   ]
  },
  {
   "cell_type": "markdown",
   "metadata": {},
   "source": [
    "Both correlation models show a slight positive relationship between `cvss` and `days_to_patch_release`, but the `p` value indicates that we cannot reject the null hypothesis. We can't be sure that as the criticality of `CVSS` increases, so too does the time it takes for a patch to be delivered. On the other hand, both correlation models do demonstrate a statistically significant negative relationship between `cvss` scores and `days_to_first_exploit`, suggesting that as the criticality goes up, the amount of time it takes for a CVE to be exploited goes down. The next task will be to do a bootstrap resample to calculate the standard deviation of the coefficients across $10,000$ samples in an effort to measure each method's reliability."
   ]
  },
  {
   "cell_type": "code",
   "execution_count": 19,
   "metadata": {},
   "outputs": [
    {
     "name": "stdout",
     "output_type": "stream",
     "text": [
      "Spearman's correlation between CVSS and Days to Patch Release\n",
      "MEAN: 0.5683584872030241\n",
      "STANDARD DEVIATION: 0.0694517353480414\n",
      "% OF SIGNIFICANT SAMPLES: 100.0%\n",
      "\n",
      "Kendall's correlation between CVSS and Days to Patch Release\n",
      "MEAN: 0.3701487894615312\n",
      "STANDARD DEVIATION: 0.059415522006034796\n",
      "% OF SIGNIFICANT SAMPLES: 100.0%\n",
      "\n",
      "Spearman's correlation between CVSS and Days to First Exploit\n",
      "MEAN: -0.36558453021795745\n",
      "STANDARD DEVIATION: 0.11932653684720328\n",
      "% OF SIGNIFICANT SAMPLES: 85.0%\n",
      "\n",
      "Kendall's correlation between CVSS and Days to First Exploit\n",
      "MEAN: -0.3033353040282914\n",
      "STANDARD DEVIATION: 0.0912399612620393\n",
      "% OF SIGNIFICANT SAMPLES: 90.0%\n",
      "\n"
     ]
    }
   ],
   "source": [
    "# Number of bootstrap iterations to perform\n",
    "iterations = 10000\n",
    "\n",
    "# Storage units for both correlation models' coefficients across iterations\n",
    "spearman_corrs_cvss_dtpr = []\n",
    "kendall_corrs_cvss_dtpr = []\n",
    "spearman_corrs_cvss_dtfe = []\n",
    "kendall_corrs_cvss_dtfe = []\n",
    "\n",
    "# Storage units for the number of times our correlations were statistically significant across resamplings\n",
    "spearman_ss_cvss_dtpr = 0\n",
    "kendall_ss_cvss_dtpr = 0\n",
    "spearman_ss_cvss_dtfe = 0\n",
    "kendall_ss_cvss_dtfe = 0\n",
    "\n",
    "# If we didn't already know (which we do), we'd drop any empty values here and make sure that each variable of interest contain the same number of observations\n",
    "\n",
    "# Perform bootstrapping\n",
    "for _ in range(iterations):\n",
    "    sample_index = np.random.choice(len(cvss), size=len(cvss), replace=True) # Grab as many observations as are in the original sample and create a new sampling with the same amount of observations\n",
    "\n",
    "    # Grab the values in each column for the specified index\n",
    "    cvss_sample = cvss.iloc[sample_index]\n",
    "    dtpr_sample = dtpr.iloc[sample_index]\n",
    "    dtfe_sample = dtfe.iloc[sample_index]\n",
    "\n",
    "    # Calculate Spearman and Kendall correlations and p-values\n",
    "    spearman_corr_cvss_dtpr, spearman_p_cvss_dtpr = stats.spearmanr(cvss_sample, dtpr_sample)\n",
    "    kendall_corr_cvss_dtpr, kendall_p_cvss_dtpr = stats.kendalltau(cvss_sample, dtpr_sample)\n",
    "    spearman_corr_cvss_dtfe, spearman_p_cvss_dtfe = stats.spearmanr(cvss_sample, dtfe_sample)\n",
    "    kendall_corr_cvss_dtfe, kendall_p_cvss_dtfe = stats.kendalltau(cvss_sample, dtfe_sample)\n",
    "\n",
    "    # Append correlation coefficients to storage units\n",
    "    spearman_corrs_cvss_dtpr.append(spearman_corr_cvss_dtpr)\n",
    "    kendall_corrs_cvss_dtpr.append(kendall_corr_cvss_dtpr)\n",
    "    spearman_corrs_cvss_dtfe.append(spearman_corr_cvss_dtfe)\n",
    "    kendall_corrs_cvss_dtfe.append(kendall_corr_cvss_dtfe)\n",
    "\n",
    "    # Count the frequency of p values that show statistical significance\n",
    "    if spearman_p_cvss_dtpr < 0.05:\n",
    "        spearman_ss_cvss_dtpr += 1\n",
    "    if kendall_p_cvss_dtpr < 0.05:\n",
    "        kendall_ss_cvss_dtpr += 1\n",
    "    if spearman_p_cvss_dtfe < 0.05:\n",
    "        spearman_ss_cvss_dtfe += 1\n",
    "    if kendall_p_cvss_dtfe < 0.05:\n",
    "        kendall_ss_cvss_dtfe += 1\n",
    "\n",
    "# Calculate mean and standard deviation of correlation coefficients\n",
    "mean_spearman_corrs_cvss_dtpr = np.mean(spearman_corrs_cvss_dtpr)\n",
    "mean_kendall_corrs_cvss_dtpr = np.mean(kendall_corrs_cvss_dtpr)\n",
    "mean_spearman_corrs_cvss_dtfe = np.mean(spearman_corrs_cvss_dtfe)\n",
    "mean_kendall_corrs_cvss_dtfe = np.mean(kendall_corrs_cvss_dtfe)\n",
    "\n",
    "std_spearman_corrs_cvss_dtpr = np.std(spearman_corrs_cvss_dtpr)\n",
    "std_kendall_corrs_cvss_dtpr = np.std(kendall_corrs_cvss_dtpr)\n",
    "std_spearman_corrs_cvss_dtfe = np.std(spearman_corrs_cvss_dtfe)\n",
    "std_kendall_corrs_cvss_dtfe = np.std(kendall_corrs_cvss_dtfe)\n",
    "\n",
    "print(f\"Spearman's correlation between CVSS and Days to Patch Release\\nMEAN: {mean_spearman_corrs_cvss_dtpr}\\nSTANDARD DEVIATION: {std_spearman_corrs_cvss_dtpr}\\n% OF SIGNIFICANT SAMPLES: {round(spearman_ss_cvss_dtpr / iterations, 2) * 100}%\\n\")\n",
    "print(f\"Kendall's correlation between CVSS and Days to Patch Release\\nMEAN: {mean_kendall_corrs_cvss_dtpr}\\nSTANDARD DEVIATION: {std_kendall_corrs_cvss_dtpr}\\n% OF SIGNIFICANT SAMPLES: {round(kendall_ss_cvss_dtpr / iterations, 2) * 100}%\\n\")\n",
    "print(f\"Spearman's correlation between CVSS and Days to First Exploit\\nMEAN: {mean_spearman_corrs_cvss_dtfe}\\nSTANDARD DEVIATION: {std_spearman_corrs_cvss_dtfe}\\n% OF SIGNIFICANT SAMPLES: {round(spearman_ss_cvss_dtfe / iterations, 2) * 100}%\\n\")\n",
    "print(f\"Kendall's correlation between CVSS and Days to First Exploit\\nMEAN: {mean_kendall_corrs_cvss_dtfe}\\nSTANDARD DEVIATION: {std_kendall_corrs_cvss_dtfe}\\n% OF SIGNIFICANT SAMPLES: {round(kendall_ss_cvss_dtfe / iterations, 2) * 100}%\\n\")"
   ]
  },
  {
   "cell_type": "markdown",
   "metadata": {},
   "source": [
    "Similarly to the single test, a series of $10,000$ tests produces consistent results. Their is a slightly positive correlation between `cvss` scores and `days_to_patch_release`, but this correlation is not statistically significant. In addition, There is a statistically significant negative relationship between `cvss` scores and `days_to_first_exploit`. Moreover, the lower standard deviation of Kendall's Tau produced in both relationships suggests that this method is more reliably gauging the correlation between our variables of interest."
   ]
  }
 ],
 "metadata": {
  "kernelspec": {
   "display_name": "ml-env",
   "language": "python",
   "name": "python3"
  },
  "language_info": {
   "codemirror_mode": {
    "name": "ipython",
    "version": 3
   },
   "file_extension": ".py",
   "mimetype": "text/x-python",
   "name": "python",
   "nbconvert_exporter": "python",
   "pygments_lexer": "ipython3",
   "version": "3.10.13"
  }
 },
 "nbformat": 4,
 "nbformat_minor": 2
}
