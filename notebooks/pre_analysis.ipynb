{
 "cells": [
  {
   "cell_type": "markdown",
   "metadata": {},
   "source": [
    "# Preliminary Analysis\n",
    "This notebook is dedicated to answering questions applied to various filtrations of the focused dataset."
   ]
  },
  {
   "cell_type": "code",
   "execution_count": 223,
   "metadata": {},
   "outputs": [],
   "source": [
    "import os\n",
    "import sys\n",
    "import pandas as pd\n",
    "import numpy as np\n",
    "import scipy.stats as stats\n",
    "import matplotlib.pyplot as plot\n",
    "import seaborn as sbn\n",
    "from pprint import pprint\n",
    "from typing import Dict, Tuple\n",
    "\n",
    "# Import utility functions\n",
    "src_path = os.path.abspath(os.path.join('..', 'src'))\n",
    "if src_path not in sys.path:\n",
    "    sys.path.append(src_path)\n",
    "\n",
    "from utils import *\n",
    "from classes import Plotter\n",
    "\n",
    "df = pd.read_parquet(path='../data/processed/composite/dataset_focused.parquet')"
   ]
  },
  {
   "cell_type": "markdown",
   "metadata": {},
   "source": [
    "## Means & Deviations"
   ]
  },
  {
   "cell_type": "code",
   "execution_count": 224,
   "metadata": {},
   "outputs": [
    {
     "name": "stdout",
     "output_type": "stream",
     "text": [
      "{'avg_time_to_exploit': 230.40419554223638,\n",
      " 'cvss_mean': 7.36043731778426,\n",
      " 'cvss_std': 1.7935989475278031,\n",
      " 'cvss_geq_7_mean': 8.435699373695197,\n",
      " 'cvss_geq_7_std': 1.0071936314216556,\n",
      " 'cvss_geq_7_%_of_total': 61.573776512716925,\n",
      " 'epss_0_mean': 0.07234982674982679,\n",
      " 'epss_30_mean': 0.09939219924337969,\n",
      " 'epss_60_mean': 0.10414406187624757,\n",
      " 'epss_0_geq_50_%': 1.4782848223303646,\n",
      " 'epss_60_geq_50_%': 2.8004774584519327,\n",
      " 'epss_30_geq_50_%': 3.030024791111927}\n"
     ]
    }
   ],
   "source": [
    "# df = df[df['days_to_poc_exploit'] < 0] # Before CVE publication\n",
    "# df = df[df['days_to_poc_exploit'] <= 90] # Sooner than 90 days\n",
    "# df = df[df['days_to_poc_exploit'] >= 0] # After CVE publication\n",
    "# df = df[(df['days_to_poc_exploit'] >= 0) & (df['days_to_poc_exploit'] <= 90)] # Within 90 days\n",
    "# df = df[(df['days_to_poc_exploit'] < -3000) & (df['days_to_poc_exploit'] >= -4457)] # Within 90 days\n",
    "# df = df[(df['days_to_poc_exploit'] < -2000) & (df['days_to_poc_exploit'] >= -3000)] # Within 90 days\n",
    "# df = df[(df['days_to_poc_exploit'] < -1000) & (df['days_to_poc_exploit'] >= -2000)] # Within 90 days\n",
    "# df = df[(df['days_to_poc_exploit'] < 0) & (df['days_to_poc_exploit'] >= -1000)] # Within 90 days\n",
    "# df = df[(df['days_to_poc_exploit'] < 0) & (df['days_to_poc_exploit'] >= -500)] # Within 90 days\n",
    "# df = df[(df['days_to_poc_exploit'] < 0) & (df['days_to_poc_exploit'] >= -250)] # Within 90 days\n",
    "\n",
    "# # Compute Q1, Q3, and IQR\n",
    "# Q1 = df['days_to_poc_exploit'].quantile(0.25)\n",
    "# Q3 = df['days_to_poc_exploit'].quantile(0.75)\n",
    "# IQR = Q3 - Q1\n",
    "\n",
    "# # Define bounds for non-extreme values\n",
    "# lower_bound = Q1 - 1.5 * IQR\n",
    "# upper_bound = Q3 + 1.5 * IQR\n",
    "\n",
    "# # Filter the DataFrame to exclude extreme outliers\n",
    "# df = df[(df['days_to_poc_exploit'] >= lower_bound) & (df['days_to_poc_exploit'] <= upper_bound)]\n",
    "\n",
    "main_df_results = {\n",
    "    'avg_time_to_exploit': df['days_to_poc_exploit'].mean(),\n",
    "    'cvss_mean': df['cvss'].mean(),\n",
    "    'cvss_std': df['cvss'].std(),\n",
    "    'cvss_geq_7_mean': df[df['cvss'] >= 7.0]['cvss'].mean(),\n",
    "    'cvss_geq_7_std': df[df['cvss'] >= 7.0]['cvss'].std(),\n",
    "    'cvss_geq_7_%_of_total': ((len(df[df['cvss'] >= 7.0]) / len(df)) * 100) if len(df) > 0 else 'No CVEs',\n",
    "    'epss_0_mean': df['epss_0'].mean(),\n",
    "    'epss_30_mean': df['epss_30'].mean(),\n",
    "    'epss_60_mean': df['epss_60'].mean(),\n",
    "    'epss_0_geq_50_%': ((len(df[df['epss_0'] >= 0.5]) / len(df)) * 100) if len(df) > 0 else 'No CVEs',\n",
    "    'epss_60_geq_50_%': ((len(df[df['epss_30'] >= 0.5]) / len(df)) * 100) if len(df) > 0 else 'No CVEs',\n",
    "    'epss_30_geq_50_%': ((len(df[df['epss_60'] >= 0.5]) / len(df)) * 100) if len(df) > 0 else 'No CVEs'\n",
    "}\n",
    "\n",
    "pprint(main_df_results, sort_dicts=False)"
   ]
  },
  {
   "cell_type": "markdown",
   "metadata": {},
   "source": [
    "## Correlations"
   ]
  },
  {
   "cell_type": "code",
   "execution_count": 194,
   "metadata": {},
   "outputs": [
    {
     "name": "stdout",
     "output_type": "stream",
     "text": [
      "Spearman's correlation between CVSS and EPSS: \u001b[32;1m0.19\u001b[0m | p-value: \u001b[32;1m0.00\u001b[0m\n",
      "Kendall's Tau correlation between CVSS and EPSS: \u001b[32;1m0.13\u001b[0m | p-value: \u001b[32;1m0.00\u001b[0m\n",
      "\n",
      "Spearman's correlation between CVSS and first exploit code publication date: \u001b[32;1m0.07\u001b[0m | p-value: \u001b[32;1m0.06\u001b[0m\n",
      "Kendall's Tau correlation between CVSS and first exploit code publication date: \u001b[32;1m0.05\u001b[0m | p-value: \u001b[32;1m0.05\u001b[0m\n",
      "\n",
      "Spearman's correlation between EPSS and first exploit code publication date: \u001b[32;1m0.17\u001b[0m | p-value: \u001b[32;1m0.00\u001b[0m\n",
      "Kendall's Tau correlation between EPSS and first exploit code publication date: \u001b[32;1m0.12\u001b[0m | p-value: \u001b[32;1m0.00\u001b[0m\n",
      "\n",
      "Spearman's correlation between CVSS and exploit count: \u001b[32;1m0.27\u001b[0m | p-value: \u001b[32;1m0.00\u001b[0m\n",
      "Kendall's Tau correlation between CVSS and exploit count: \u001b[32;1m0.22\u001b[0m | p-value: \u001b[32;1m0.00\u001b[0m\n",
      "\n",
      "Spearman's correlation between EPSS and exploit count: \u001b[32;1m0.28\u001b[0m | p-value: \u001b[32;1m0.00\u001b[0m\n",
      "Kendall's Tau correlation between EPSS and exploit count: \u001b[32;1m0.23\u001b[0m | p-value: \u001b[32;1m0.00\u001b[0m\n",
      "\n"
     ]
    }
   ],
   "source": [
    "# Validify dataset variables\n",
    "df = df[['cvss', 'epss_30', 'days_to_poc_exploit', 'exploit_count']].dropna().copy()\n",
    "\n",
    "# Grab variables to reduce code duplication\n",
    "cvss = df['cvss']\n",
    "epss = df['epss_30']\n",
    "days_to_exploit = df['days_to_poc_exploit']\n",
    "exploit_count = df['exploit_count']\n",
    "\n",
    "non_parametric_corr(cvss, epss, 'CVSS', 'EPSS')\n",
    "non_parametric_corr(cvss, days_to_exploit, 'CVSS', 'first exploit code publication date')\n",
    "non_parametric_corr(epss, days_to_exploit, 'EPSS', 'first exploit code publication date')\n",
    "non_parametric_corr(cvss, exploit_count, 'CVSS', 'exploit count')\n",
    "non_parametric_corr(epss, exploit_count, 'EPSS', 'exploit count')"
   ]
  }
 ],
 "metadata": {
  "kernelspec": {
   "display_name": "ml-env",
   "language": "python",
   "name": "python3"
  },
  "language_info": {
   "codemirror_mode": {
    "name": "ipython",
    "version": 3
   },
   "file_extension": ".py",
   "mimetype": "text/x-python",
   "name": "python",
   "nbconvert_exporter": "python",
   "pygments_lexer": "ipython3",
   "version": "3.10.13"
  }
 },
 "nbformat": 4,
 "nbformat_minor": 2
}
