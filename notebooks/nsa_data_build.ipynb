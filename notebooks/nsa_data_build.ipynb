{
 "cells": [
  {
   "cell_type": "markdown",
   "metadata": {},
   "source": [
    "# Building the Nation-State Attack Dataset\n",
    "This notebook is dedicated to aggregating all of the nation-state data (NSA) sent via email and merging it with the secondary nation-state data that was tested for normality and validated for correlation in `nsa_corr_validation`.\n",
    "\n",
    "The first set of nation-state data is built from a dictionary of key-value pairs with the name of the attack, it's group and state attribution, the year it started, the year it ended, and the ID and description of the CVE exploited. The second is imported as an Excel file that has already been cleaned."
   ]
  },
  {
   "cell_type": "code",
   "execution_count": 1,
   "metadata": {},
   "outputs": [],
   "source": [
    "# Import libraries\n",
    "import pandas as pd\n",
    "import numpy as np\n",
    "import re # For regex support"
   ]
  },
  {
   "cell_type": "markdown",
   "metadata": {},
   "source": [
    "## Aggregated NSA Data"
   ]
  },
  {
   "cell_type": "code",
   "execution_count": 2,
   "metadata": {},
   "outputs": [
    {
     "data": {
      "text/html": [
       "<div>\n",
       "<style scoped>\n",
       "    .dataframe tbody tr th:only-of-type {\n",
       "        vertical-align: middle;\n",
       "    }\n",
       "\n",
       "    .dataframe tbody tr th {\n",
       "        vertical-align: top;\n",
       "    }\n",
       "\n",
       "    .dataframe thead th {\n",
       "        text-align: right;\n",
       "    }\n",
       "</style>\n",
       "<table border=\"1\" class=\"dataframe\">\n",
       "  <thead>\n",
       "    <tr style=\"text-align: right;\">\n",
       "      <th></th>\n",
       "      <th>attack_name</th>\n",
       "      <th>year_start</th>\n",
       "      <th>year_end</th>\n",
       "      <th>attribution_group</th>\n",
       "      <th>attribution_state</th>\n",
       "      <th>cve_id</th>\n",
       "      <th>description</th>\n",
       "    </tr>\n",
       "  </thead>\n",
       "  <tbody>\n",
       "    <tr>\n",
       "      <th>0</th>\n",
       "      <td>Mirai Botnet</td>\n",
       "      <td>2016</td>\n",
       "      <td>2016</td>\n",
       "      <td>&lt;NA&gt;</td>\n",
       "      <td>[&lt;NA&gt;]</td>\n",
       "      <td>[&lt;NA&gt;]</td>\n",
       "      <td>[&lt;NA&gt;]</td>\n",
       "    </tr>\n",
       "    <tr>\n",
       "      <th>1</th>\n",
       "      <td>VPNFilter</td>\n",
       "      <td>2018</td>\n",
       "      <td>2018</td>\n",
       "      <td>APT28 (Fancy Bear)</td>\n",
       "      <td>[Russia, Russia, Russia, Russia, Russia]</td>\n",
       "      <td>[CVE-2018-14847, CVE-2017-12074, CVE-2018-1056...</td>\n",
       "      <td>[MikroTik RouterOS through 6.42 allows unauthe...</td>\n",
       "    </tr>\n",
       "    <tr>\n",
       "      <th>2</th>\n",
       "      <td>Triton/Trisis</td>\n",
       "      <td>2017</td>\n",
       "      <td>2017</td>\n",
       "      <td>&lt;NA&gt;</td>\n",
       "      <td>[Russia, Russia]</td>\n",
       "      <td>[CVE-2017-7905, CVE-2017-7921]</td>\n",
       "      <td>[A Weak Cryptography for Passwords issue was d...</td>\n",
       "    </tr>\n",
       "  </tbody>\n",
       "</table>\n",
       "</div>"
      ],
      "text/plain": [
       "     attack_name  year_start  year_end   attribution_group  \\\n",
       "0   Mirai Botnet        2016      2016                <NA>   \n",
       "1      VPNFilter        2018      2018  APT28 (Fancy Bear)   \n",
       "2  Triton/Trisis        2017      2017                <NA>   \n",
       "\n",
       "                          attribution_state  \\\n",
       "0                                    [<NA>]   \n",
       "1  [Russia, Russia, Russia, Russia, Russia]   \n",
       "2                          [Russia, Russia]   \n",
       "\n",
       "                                              cve_id  \\\n",
       "0                                             [<NA>]   \n",
       "1  [CVE-2018-14847, CVE-2017-12074, CVE-2018-1056...   \n",
       "2                     [CVE-2017-7905, CVE-2017-7921]   \n",
       "\n",
       "                                         description  \n",
       "0                                             [<NA>]  \n",
       "1  [MikroTik RouterOS through 6.42 allows unauthe...  \n",
       "2  [A Weak Cryptography for Passwords issue was d...  "
      ]
     },
     "execution_count": 2,
     "metadata": {},
     "output_type": "execute_result"
    }
   ],
   "source": [
    "# Create nation-state attack dataframe\n",
    "nsa_dict = {\n",
    "    'attack_name': [\n",
    "        'Mirai Botnet',\n",
    "        'VPNFilter',\n",
    "        'Triton/Trisis',\n",
    "        'Iranian Cyberattacks on Water Systems',\n",
    "        'Iranian APT Exploits on Fortinet Vulnerabilities',\n",
    "        'Operation Shadowhammer',\n",
    "        'Ripple20 Vulnerabilities',\n",
    "        'Dragonfly/Energetic Bear Campaign 1',\n",
    "        'Dragonfly/Energetic Bear Campaign 2',\n",
    "        'Stuxnet',\n",
    "        'Heartbleed Exploits',\n",
    "        'BlackEnergy Attack on Ukraine',\n",
    "        'Microsoft Exchange ProxyShell Exploits',\n",
    "        'F5 BIG-IP Exploits',\n",
    "        'Pulse Secure VPN Exploits',\n",
    "        'Equifax Data Breach',\n",
    "        'SolarWinds Orion Supply Chain Attack',\n",
    "        'Not Petya Ransomware Attack',\n",
    "        'WannaCry Ransomware Attack'\n",
    "    ],\n",
    "    'year_start': [\n",
    "        2016,\n",
    "        2018,\n",
    "        2017,\n",
    "        2020,\n",
    "        2021,\n",
    "        2018,\n",
    "        2020,\n",
    "        2013,\n",
    "        2017,\n",
    "        2018,\n",
    "        2014,\n",
    "        2015,\n",
    "        2021,\n",
    "        2021,\n",
    "        2019,\n",
    "        2017,\n",
    "        2020,\n",
    "        2017,\n",
    "        2017\n",
    "    ],\n",
    "    'year_end': [\n",
    "        2016,\n",
    "        2018,\n",
    "        2017,\n",
    "        2020,\n",
    "        2021,\n",
    "        2019,\n",
    "        2020,\n",
    "        2014,\n",
    "        2017,\n",
    "        2018,\n",
    "        2014,\n",
    "        2015,\n",
    "        2021,\n",
    "        2021,\n",
    "        2021,\n",
    "        2017,\n",
    "        2020,\n",
    "        2017,\n",
    "        2017\n",
    "    ],\n",
    "    'attribution_group': [\n",
    "        pd.NA,\n",
    "        'APT28 (Fancy Bear)',\n",
    "        pd.NA,\n",
    "        pd.NA,\n",
    "        pd.NA,\n",
    "        'APT41',\n",
    "        pd.NA,\n",
    "        'Dragonfly (Energetic Bear)',\n",
    "        'Dragonfly (Energetic Bear)',\n",
    "        pd.NA,\n",
    "        pd.NA,\n",
    "        'Sandworm',\n",
    "        pd.NA,\n",
    "        pd.NA,\n",
    "        'APT5',\n",
    "        'APT10',\n",
    "        'APT29 (Cozy Bear)',\n",
    "        'Sandworm',\n",
    "        'Lazarus'\n",
    "    ],\n",
    "    'attribution_state': [\n",
    "        [pd.NA],\n",
    "        ['Russia', 'Russia', 'Russia', 'Russia', 'Russia'],\n",
    "        ['Russia', 'Russia'],\n",
    "        ['Iran'],\n",
    "        ['Iran'],\n",
    "        ['China'],\n",
    "        [pd.NA, pd.NA, pd.NA, pd.NA],\n",
    "        ['Russia'],\n",
    "        ['Russia'],\n",
    "        ['US', 'Israel'],\n",
    "        ['China'],\n",
    "        ['Russia'],\n",
    "        ['China', 'China', 'China'],\n",
    "        ['Russia', 'China'],\n",
    "        ['China'],\n",
    "        ['China'],\n",
    "        ['Russia'],\n",
    "        ['Russia'],\n",
    "        ['DPRK']\n",
    "    ],\n",
    "    'cve_id': [\n",
    "        [pd.NA],\n",
    "        [\n",
    "            'CVE-2018-14847',\n",
    "            'CVE-2017-12074',\n",
    "            'CVE-2018-10561',\n",
    "            'CVE-2018-10562',\n",
    "            'CVE-2017-8418',\n",
    "        ],\n",
    "        [\n",
    "            'CVE-2017-7905',\n",
    "            'CVE-2017-7921'\n",
    "        ],\n",
    "        [pd.NA],\n",
    "        ['CVE-2018-13379'],\n",
    "        ['CVE-2019-19781'],\n",
    "        [\n",
    "            'CVE-2020-11896',\n",
    "            'CVE-2020-11898',\n",
    "            'CVE-2020-11899',\n",
    "            'CVE-2020-11901'\n",
    "        ],\n",
    "        [pd.NA],\n",
    "        [pd.NA],\n",
    "        [pd.NA, pd.NA],\n",
    "        ['CVE-2014-0160'],\n",
    "        [pd.NA],\n",
    "        [\n",
    "            'CVE-2021-34473',\n",
    "            'CVE-2021-34523',\n",
    "            'CVE-2021-31207'\n",
    "        ],\n",
    "        [\n",
    "            'CVE-2020-5902',\n",
    "            'CVE-2020-5902'\n",
    "        ],\n",
    "        ['CVE-2019-11510'],\n",
    "        ['CVE-2017-5638'],\n",
    "        [pd.NA],\n",
    "        ['CVE-2017-0144'],\n",
    "        ['CVE-2017-0144']\n",
    "    ],\n",
    "    'description': [\n",
    "        [pd.NA],\n",
    "        [\n",
    "            'MikroTik RouterOS through 6.42 allows unauthenticated remote attackers to read arbitrary files and remote authenticated attackers to write arbitrary files due to a directory traversal vulnerability in the WinBox interface.',\n",
    "            'Directory traversal vulnerability in the SYNO.DNSServer.Zone.MasterZoneConf in Synology DNS Server before 2.2.1-3042 allows remote authenticated attackers to write arbitrary files via the domain_name parameter.',\n",
    "            'An issue was discovered on Dasan GPON home routers. It is possible to bypass authentication simply by appending \"?images\" to any URL of the device that requires authentication, as demonstrated by the /menu.html?images/ or /GponForm/diag_FORM?images/ URI. One can then manage the device.',\n",
    "            \"An issue was discovered on Dasan GPON home routers. Command Injection can occur via the dest_host parameter in a diag_action=ping request to a GponForm/diag_Form URI. Because the router saves ping results in /tmp and transmits them to the user when the user revisits /diag.html, it's quite simple to execute commands and retrieve their output.\",\n",
    "            'RuboCop 0.48.1 and earlier does not use /tmp in safe way, allowing local users to exploit this to tamper with cache files belonging to other users.'\n",
    "        ],\n",
    "        [\n",
    "            'A Weak Cryptography for Passwords issue was discovered in General Electric (GE) Multilin SR 750 Feeder Protection Relay, firmware versions prior to Version 7.47; SR 760 Feeder Protection Relay, firmware versions prior to Version 7.47; SR 469 Motor Protection Relay, firmware versions prior to Version 5.23; SR 489 Generator Protection Relay, firmware versions prior to Version 4.06; SR 745 Transformer Protection Relay, firmware versions prior to Version 5.23; SR 369 Motor Protection Relay, all firmware versions; Multilin Universal Relay, firmware Version 6.0 and prior versions; and Multilin URplus (D90, C90, B95), all versions. Ciphertext versions of user passwords were created with a non-random initialization vector leaving them susceptible to dictionary attacks. Ciphertext of user passwords can be obtained from the front LCD panel of affected products and through issued Modbus commands.',\n",
    "            'An Improper Authentication issue was discovered in Hikvision DS-2CD2xx2F-I Series V5.2.0 build 140721 to V5.4.0 build 160530, DS-2CD2xx0F-I Series V5.2.0 build 140721 to V5.4.0 Build 160401, DS-2CD2xx2FWD Series V5.3.1 build 150410 to V5.4.4 Build 161125, DS-2CD4x2xFWD Series V5.2.0 build 140721 to V5.4.0 Build 160414, DS-2CD4xx5 Series V5.2.0 build 140721 to V5.4.0 Build 160421, DS-2DFx Series V5.2.0 build 140805 to V5.4.5 Build 160928, and DS-2CD63xx Series V5.0.9 build 140305 to V5.3.5 Build 160106 devices. The improper authentication vulnerability occurs when an application does not adequately or correctly authenticate users. This may allow a malicious user to escalate his or her privileges on the system and gain access to sensitive information.'\n",
    "        ],\n",
    "        [pd.NA],\n",
    "        ['An Improper Limitation of a Pathname to a Restricted Directory (\"Path Traversal\") in Fortinet FortiOS 6.0.0 to 6.0.4, 5.6.3 to 5.6.7 and 5.4.6 to 5.4.12 and FortiProxy 2.0.0, 1.2.0 to 1.2.8, 1.1.0 to 1.1.6, 1.0.0 to 1.0.7 under SSL VPN web portal allows an unauthenticated attacker to download system files via special crafted HTTP resource requests.'],\n",
    "        ['An issue was discovered in Citrix Application Delivery Controller (ADC) and Gateway 10.5, 11.1, 12.0, 12.1, and 13.0. They allow Directory Traversal.'],\n",
    "        [\n",
    "            'The Treck TCP/IP stack before 6.0.1.66 allows Remote Code Execution, related to IPv4 tunneling.',\n",
    "            'The Treck TCP/IP stack before 6.0.1.66 improperly handles an IPv4/ICMPv4 Length Parameter Inconsistency, which might allow remote attackers to trigger an information leak.',\n",
    "            'The Treck TCP/IP stack before 6.0.1.66 has an IPv6 Out-of-bounds Read.',\n",
    "            'The Treck TCP/IP stack before 6.0.1.66 allows Remote Code execution via a single invalid DNS response.'\n",
    "        ],\n",
    "        [pd.NA],\n",
    "        [pd.NA],\n",
    "        [pd.NA, pd.NA],\n",
    "        ['The (1) TLS and (2) DTLS implementations in OpenSSL 1.0.1 before 1.0.1g do not properly handle Heartbeat Extension packets, which allows remote attackers to obtain sensitive information from process memory via crafted packets that trigger a buffer over-read, as demonstrated by reading private keys, related to d1_both.c and t1_lib.c, aka the Heartbleed bug.'],\n",
    "        [pd.NA],\n",
    "        [\n",
    "            'Microsoft Exchange Server Remote Code Execution Vulnerability',\n",
    "            'Microsoft Exchange Server Elevation of Privilege Vulnerability',\n",
    "            'Microsoft Exchange Server Security Feature Bypass Vulnerability'\n",
    "        ],\n",
    "        [\n",
    "            'In BIG-IP versions 15.0.0-15.1.0.3, 14.1.0-14.1.2.5, 13.1.0-13.1.3.3, 12.1.0-12.1.5.1, and 11.6.1-11.6.5.1, the Traffic Management User Interface (TMUI), also referred to as the Configuration utility, has a Remote Code Execution (RCE) vulnerability in undisclosed pages.',\n",
    "            'In BIG-IP versions 15.0.0-15.1.0.3, 14.1.0-14.1.2.5, 13.1.0-13.1.3.3, 12.1.0-12.1.5.1, and 11.6.1-11.6.5.1, the Traffic Management User Interface (TMUI), also referred to as the Configuration utility, has a Remote Code Execution (RCE) vulnerability in undisclosed pages.'\n",
    "        ],\n",
    "        ['In Pulse Secure Pulse Connect Secure (PCS) 8.2 before 8.2R12.1, 8.3 before 8.3R7.1, and 9.0 before 9.0R3.4, an unauthenticated remote attacker can send a specially crafted URI to perform an arbitrary file reading vulnerability.'],\n",
    "        ['The Jakarta Multipart parser in Apache Struts 2 2.3.x before 2.3.32 and 2.5.x before 2.5.10.1 has incorrect exception handling and error-message generation during file-upload attempts, which allows remote attackers to execute arbitrary commands via a crafted Content-Type, Content-Disposition, or Content-Length HTTP header, as exploited in the wild in March 2017 with a Content-Type header containing a #cmd= string.'],\n",
    "        [pd.NA],\n",
    "        ['The SMBv1 server in Microsoft Windows Vista SP2; Windows Server 2008 SP2 and R2 SP1; Windows 7 SP1; Windows 8.1; Windows Server 2012 Gold and R2; Windows RT 8.1; and Windows 10 Gold, 1511, and 1607; and Windows Server 2016 allows remote attackers to execute arbitrary code via crafted packets, aka \"Windows SMB Remote Code Execution Vulnerability.\" This vulnerability is different from those described in CVE-2017-0143, CVE-2017-0145, CVE-2017-0146, and CVE-2017-0148.'],\n",
    "        ['The SMBv1 server in Microsoft Windows Vista SP2; Windows Server 2008 SP2 and R2 SP1; Windows 7 SP1; Windows 8.1; Windows Server 2012 Gold and R2; Windows RT 8.1; and Windows 10 Gold, 1511, and 1607; and Windows Server 2016 allows remote attackers to execute arbitrary code via crafted packets, aka \"Windows SMB Remote Code Execution Vulnerability.\" This vulnerability is different from those described in CVE-2017-0143, CVE-2017-0145, CVE-2017-0146, and CVE-2017-0148.']\n",
    "    ],\n",
    "}\n",
    "\n",
    "nsa = pd.DataFrame(nsa_dict)\n",
    "nsa.head(3)"
   ]
  },
  {
   "cell_type": "markdown",
   "metadata": {},
   "source": [
    "## Exploding the Data\n",
    "With the attack data aggregated and processed into a (dirty) dataset, we have to look at the relationships between lists in list-containing columns. Since there is a one-to-one relationship between `cve_id` and their `description`, we'll explode these columns simultaneously. Only then will we explode the lists in the `attribution_state` column, since we don't want to create false relationships that suggest that, within the context of a single attack, Nation $A$ used CVE $A$ while Nation $B$ used CVE $B$, when in fact we don't know. Ultimately, we have to represent the situation as both nations having used both CVEs. I created the dictionary object knowing how Pandas needs our observation's lists aligned, so we can avoid we what had to do for the CVE and CWE lists in terms of normalizing their content lengths."
   ]
  },
  {
   "cell_type": "code",
   "execution_count": 3,
   "metadata": {},
   "outputs": [],
   "source": [
    "# Explode the nation-state attack data\n",
    "nsa = nsa.explode(['cve_id', 'description'])\n",
    "nsa = nsa.explode('attribution_state')"
   ]
  },
  {
   "cell_type": "markdown",
   "metadata": {},
   "source": [
    "## Deleting Duplicates"
   ]
  },
  {
   "cell_type": "code",
   "execution_count": 4,
   "metadata": {},
   "outputs": [
    {
     "name": "stdout",
     "output_type": "stream",
     "text": [
      "There were 44 duplicates.\n",
      "There are now 0 duplicates.\n"
     ]
    }
   ],
   "source": [
    "print(f'There were {nsa.duplicated().sum()} duplicates.')\n",
    "\n",
    "# Remove duplicates\n",
    "nsa = nsa.drop_duplicates()\n",
    "print(f'There are now {nsa.duplicated().sum()} duplicates.')"
   ]
  },
  {
   "cell_type": "markdown",
   "metadata": {},
   "source": [
    "## Convert Objects To Text Data"
   ]
  },
  {
   "cell_type": "code",
   "execution_count": 5,
   "metadata": {},
   "outputs": [],
   "source": [
    "obj_cols = nsa.select_dtypes(include=['object']).columns\n",
    "nsa[obj_cols] = nsa[obj_cols].astype('string')"
   ]
  },
  {
   "cell_type": "markdown",
   "metadata": {},
   "source": [
    "## Remove Extra Whitespace"
   ]
  },
  {
   "cell_type": "code",
   "execution_count": 6,
   "metadata": {},
   "outputs": [],
   "source": [
    "nsa[obj_cols] = nsa[obj_cols].apply(lambda x: x.str.strip())"
   ]
  },
  {
   "cell_type": "markdown",
   "metadata": {},
   "source": [
    "## Import Second NSA Data\n",
    "This dataset contains several cleaning steps. The columns have to be renamed to allow merges with other data to happen seamlessly, some of the columns are no longer needed, some data should be converted to `string` for easier processing, and some of the values need to be fixed for consistency's sake."
   ]
  },
  {
   "cell_type": "code",
   "execution_count": 7,
   "metadata": {},
   "outputs": [
    {
     "data": {
      "text/html": [
       "<div>\n",
       "<style scoped>\n",
       "    .dataframe tbody tr th:only-of-type {\n",
       "        vertical-align: middle;\n",
       "    }\n",
       "\n",
       "    .dataframe tbody tr th {\n",
       "        vertical-align: top;\n",
       "    }\n",
       "\n",
       "    .dataframe thead th {\n",
       "        text-align: right;\n",
       "    }\n",
       "</style>\n",
       "<table border=\"1\" class=\"dataframe\">\n",
       "  <thead>\n",
       "    <tr style=\"text-align: right;\">\n",
       "      <th></th>\n",
       "      <th>Attack_Name</th>\n",
       "      <th>IoT</th>\n",
       "      <th>CVE_ID</th>\n",
       "      <th>CVE_List_Date</th>\n",
       "      <th>Date_Of_First_Exploit</th>\n",
       "      <th>Patch_Release_Date</th>\n",
       "      <th>Patch/Device_Manufacturer</th>\n",
       "      <th>Affected_Devices</th>\n",
       "      <th>CVSS</th>\n",
       "      <th>CVSS_Status</th>\n",
       "      <th>Days_To_Patch_Release</th>\n",
       "      <th>Days_To_First_Exploit</th>\n",
       "    </tr>\n",
       "  </thead>\n",
       "  <tbody>\n",
       "    <tr>\n",
       "      <th>0</th>\n",
       "      <td>VPN Filter malware</td>\n",
       "      <td>True</td>\n",
       "      <td>CVE-2017-6742</td>\n",
       "      <td>2017-10-17</td>\n",
       "      <td>2018-05-24</td>\n",
       "      <td>2018-06-27</td>\n",
       "      <td>CISCO</td>\n",
       "      <td>CISCO routers</td>\n",
       "      <td>9.8</td>\n",
       "      <td>critical</td>\n",
       "      <td>253</td>\n",
       "      <td>219</td>\n",
       "    </tr>\n",
       "    <tr>\n",
       "      <th>1</th>\n",
       "      <td>VPN Filter malware</td>\n",
       "      <td>True</td>\n",
       "      <td>CVE-2017-6750</td>\n",
       "      <td>2017-10-17</td>\n",
       "      <td>2018-05-24</td>\n",
       "      <td>2018-06-27</td>\n",
       "      <td>CISCO</td>\n",
       "      <td>CISCO routers, network devices</td>\n",
       "      <td>9.8</td>\n",
       "      <td>critical</td>\n",
       "      <td>253</td>\n",
       "      <td>219</td>\n",
       "    </tr>\n",
       "    <tr>\n",
       "      <th>2</th>\n",
       "      <td>VPN Filter malware</td>\n",
       "      <td>True</td>\n",
       "      <td>CVE-2017-6751</td>\n",
       "      <td>2017-10-17</td>\n",
       "      <td>2018-05-24</td>\n",
       "      <td>2018-06-27</td>\n",
       "      <td>CISCO</td>\n",
       "      <td>CISCO routers</td>\n",
       "      <td>9.8</td>\n",
       "      <td>critical</td>\n",
       "      <td>253</td>\n",
       "      <td>219</td>\n",
       "    </tr>\n",
       "  </tbody>\n",
       "</table>\n",
       "</div>"
      ],
      "text/plain": [
       "          Attack_Name   IoT         CVE_ID CVE_List_Date  \\\n",
       "0  VPN Filter malware  True  CVE-2017-6742    2017-10-17   \n",
       "1  VPN Filter malware  True  CVE-2017-6750    2017-10-17   \n",
       "2  VPN Filter malware  True  CVE-2017-6751    2017-10-17   \n",
       "\n",
       "  Date_Of_First_Exploit Patch_Release_Date Patch/Device_Manufacturer  \\\n",
       "0            2018-05-24         2018-06-27                     CISCO   \n",
       "1            2018-05-24         2018-06-27                     CISCO   \n",
       "2            2018-05-24         2018-06-27                     CISCO   \n",
       "\n",
       "                   Affected_Devices  CVSS CVSS_Status  Days_To_Patch_Release  \\\n",
       "0                     CISCO routers   9.8    critical                    253   \n",
       "1  CISCO routers, network devices     9.8    critical                    253   \n",
       "2                     CISCO routers   9.8    critical                    253   \n",
       "\n",
       "   Days_To_First_Exploit  \n",
       "0                    219  \n",
       "1                    219  \n",
       "2                    219  "
      ]
     },
     "execution_count": 7,
     "metadata": {},
     "output_type": "execute_result"
    }
   ],
   "source": [
    "new_nsa = pd.read_parquet(path='../data/new_nsa_data_v1.parquet')\n",
    "new_nsa.head(3)"
   ]
  },
  {
   "cell_type": "markdown",
   "metadata": {},
   "source": [
    "## Lowercasing the Columns"
   ]
  },
  {
   "cell_type": "code",
   "execution_count": 8,
   "metadata": {},
   "outputs": [],
   "source": [
    "new_nsa.columns = new_nsa.columns.str.lower()"
   ]
  },
  {
   "cell_type": "markdown",
   "metadata": {},
   "source": [
    "## Removing Unnecessary Columns"
   ]
  },
  {
   "cell_type": "code",
   "execution_count": 9,
   "metadata": {},
   "outputs": [],
   "source": [
    "unnecessary_cols = ['iot', 'patch/device_manufacturer', 'affected_devices']\n",
    "new_nsa = new_nsa.drop(columns=unnecessary_cols)"
   ]
  },
  {
   "cell_type": "markdown",
   "metadata": {},
   "source": [
    "## Converting Object to Text Data"
   ]
  },
  {
   "cell_type": "code",
   "execution_count": 10,
   "metadata": {},
   "outputs": [],
   "source": [
    "obj_cols = new_nsa.select_dtypes(include=['object']).columns\n",
    "new_nsa[obj_cols] = new_nsa[obj_cols].astype('string')"
   ]
  },
  {
   "cell_type": "markdown",
   "metadata": {},
   "source": [
    "## Fixing Attack Names\n",
    "Some of the attack names need to be conformed to the way they appear in the first NSA dataframe. We can take the years that exist in the old values to populate some new attributes that will fit in with the larger NSA dataset."
   ]
  },
  {
   "cell_type": "code",
   "execution_count": 11,
   "metadata": {},
   "outputs": [],
   "source": [
    "# Rename attacks to accord with larger dataset\n",
    "new_names = {\n",
    "    'VPN Filter malware': 'VPNFilter',\n",
    "    'Dragonfly (2022)': 'Dragonfly/Energetic Bear Campaign 3',\n",
    "    'BlackEnergy (2015)': 'BlackEnergy Attack on Ukraine',\n",
    "    'stuxnet': 'Stuxnet',\n",
    "    'Mirai Botnet Variants': 'Mirai Botnet',\n",
    "    'Triton/Trisis (2017 and ongoing)': 'Triton/Trisis'\n",
    "}\n",
    "\n",
    "new_nsa['attack_name'] = new_nsa['attack_name'].replace(new_names)\n",
    "\n",
    "# Add data to new nation state values\n",
    "updates = {\n",
    "    'BlackEnergy Attack on Ukraine': [2015, 2015, 'Sandworm', 'Russia'],\n",
    "    'Dragonfly/Energetic Bear Campaign 3': [2022, 2022, 'Dragonfly (Energetic Bear)', 'Russia'],\n",
    "    'Stuxnet': [2018, 2018, pd.NA, 'US'],\n",
    "    'Triton/Trisis': [2017, 2017, pd.NA, 'Russia'],\n",
    "    'VPNFilter': [2018, 2018, 'APT28 (Fancy Bear)', 'Russia'],\n",
    "    'Volt Typhoon': [pd.NA, pd.NA, pd.NA, 'China']\n",
    "}\n",
    "\n",
    "for attack, values in updates.items():\n",
    "    new_nsa.loc[new_nsa['attack_name'] == attack, ['year_start', 'year_end', 'attribution_group', 'attribution_state']] = values\n",
    "\n",
    "# Reconvert to string data the new values that were incorrectly parsed\n",
    "obj_cols = new_nsa.select_dtypes(include=['object']).columns\n",
    "new_nsa[obj_cols] = new_nsa[obj_cols].astype('string')"
   ]
  },
  {
   "cell_type": "code",
   "execution_count": 12,
   "metadata": {},
   "outputs": [
    {
     "data": {
      "text/html": [
       "<div>\n",
       "<style scoped>\n",
       "    .dataframe tbody tr th:only-of-type {\n",
       "        vertical-align: middle;\n",
       "    }\n",
       "\n",
       "    .dataframe tbody tr th {\n",
       "        vertical-align: top;\n",
       "    }\n",
       "\n",
       "    .dataframe thead th {\n",
       "        text-align: right;\n",
       "    }\n",
       "</style>\n",
       "<table border=\"1\" class=\"dataframe\">\n",
       "  <thead>\n",
       "    <tr style=\"text-align: right;\">\n",
       "      <th></th>\n",
       "      <th>attack_name</th>\n",
       "      <th>cve_id</th>\n",
       "      <th>cve_list_date</th>\n",
       "      <th>date_of_first_exploit</th>\n",
       "      <th>patch_release_date</th>\n",
       "      <th>cvss</th>\n",
       "      <th>cvss_status</th>\n",
       "      <th>days_to_patch_release</th>\n",
       "      <th>days_to_first_exploit</th>\n",
       "      <th>year_start</th>\n",
       "      <th>year_end</th>\n",
       "      <th>attribution_group</th>\n",
       "      <th>attribution_state</th>\n",
       "    </tr>\n",
       "  </thead>\n",
       "  <tbody>\n",
       "    <tr>\n",
       "      <th>0</th>\n",
       "      <td>VPNFilter</td>\n",
       "      <td>CVE-2017-6742</td>\n",
       "      <td>2017-10-17</td>\n",
       "      <td>2018-05-24</td>\n",
       "      <td>2018-06-27</td>\n",
       "      <td>9.8</td>\n",
       "      <td>critical</td>\n",
       "      <td>253</td>\n",
       "      <td>219</td>\n",
       "      <td>2018.0</td>\n",
       "      <td>2018.0</td>\n",
       "      <td>APT28 (Fancy Bear)</td>\n",
       "      <td>Russia</td>\n",
       "    </tr>\n",
       "    <tr>\n",
       "      <th>1</th>\n",
       "      <td>VPNFilter</td>\n",
       "      <td>CVE-2017-6750</td>\n",
       "      <td>2017-10-17</td>\n",
       "      <td>2018-05-24</td>\n",
       "      <td>2018-06-27</td>\n",
       "      <td>9.8</td>\n",
       "      <td>critical</td>\n",
       "      <td>253</td>\n",
       "      <td>219</td>\n",
       "      <td>2018.0</td>\n",
       "      <td>2018.0</td>\n",
       "      <td>APT28 (Fancy Bear)</td>\n",
       "      <td>Russia</td>\n",
       "    </tr>\n",
       "    <tr>\n",
       "      <th>2</th>\n",
       "      <td>VPNFilter</td>\n",
       "      <td>CVE-2017-6751</td>\n",
       "      <td>2017-10-17</td>\n",
       "      <td>2018-05-24</td>\n",
       "      <td>2018-06-27</td>\n",
       "      <td>9.8</td>\n",
       "      <td>critical</td>\n",
       "      <td>253</td>\n",
       "      <td>219</td>\n",
       "      <td>2018.0</td>\n",
       "      <td>2018.0</td>\n",
       "      <td>APT28 (Fancy Bear)</td>\n",
       "      <td>Russia</td>\n",
       "    </tr>\n",
       "  </tbody>\n",
       "</table>\n",
       "</div>"
      ],
      "text/plain": [
       "  attack_name         cve_id cve_list_date date_of_first_exploit  \\\n",
       "0   VPNFilter  CVE-2017-6742    2017-10-17            2018-05-24   \n",
       "1   VPNFilter  CVE-2017-6750    2017-10-17            2018-05-24   \n",
       "2   VPNFilter  CVE-2017-6751    2017-10-17            2018-05-24   \n",
       "\n",
       "  patch_release_date  cvss cvss_status  days_to_patch_release  \\\n",
       "0         2018-06-27   9.8    critical                    253   \n",
       "1         2018-06-27   9.8    critical                    253   \n",
       "2         2018-06-27   9.8    critical                    253   \n",
       "\n",
       "   days_to_first_exploit  year_start  year_end   attribution_group  \\\n",
       "0                    219      2018.0    2018.0  APT28 (Fancy Bear)   \n",
       "1                    219      2018.0    2018.0  APT28 (Fancy Bear)   \n",
       "2                    219      2018.0    2018.0  APT28 (Fancy Bear)   \n",
       "\n",
       "  attribution_state  \n",
       "0            Russia  \n",
       "1            Russia  \n",
       "2            Russia  "
      ]
     },
     "execution_count": 12,
     "metadata": {},
     "output_type": "execute_result"
    }
   ],
   "source": [
    "new_nsa.head(3)"
   ]
  },
  {
   "cell_type": "markdown",
   "metadata": {},
   "source": [
    "## Merging Both Dataframes\n",
    "An outward merge between these two dataframes makes the most sense, since all of the data from both sets will be kept. This emergent dataset will be used to populate our master copy—however sparsely—with information about nation-state attacks. We don't want to narrow this down.\n",
    "\n",
    "Once we've merged the two, I'll perform another round of checks to make sure everything is clean, update certain values to ensure consistency, and extract certain "
   ]
  },
  {
   "cell_type": "code",
   "execution_count": 12,
   "metadata": {},
   "outputs": [],
   "source": [
    "nsa = nsa.merge(\n",
    "    new_nsa,\n",
    "    on='attack_name',\n",
    "    how='outer'\n",
    ")"
   ]
  },
  {
   "cell_type": "code",
   "execution_count": 13,
   "metadata": {},
   "outputs": [
    {
     "name": "stdout",
     "output_type": "stream",
     "text": [
      "<class 'pandas.core.frame.DataFrame'>\n",
      "RangeIndex: 87 entries, 0 to 86\n",
      "Data columns (total 19 columns):\n",
      " #   Column                 Non-Null Count  Dtype         \n",
      "---  ------                 --------------  -----         \n",
      " 0   attack_name            87 non-null     string        \n",
      " 1   year_start_x           75 non-null     float64       \n",
      " 2   year_end_x             75 non-null     float64       \n",
      " 3   attribution_group_x    43 non-null     string        \n",
      " 4   attribution_state_x    67 non-null     string        \n",
      " 5   cve_id_x               52 non-null     string        \n",
      " 6   description            52 non-null     string        \n",
      " 7   cve_id_y               67 non-null     string        \n",
      " 8   cve_list_date          67 non-null     datetime64[ns]\n",
      " 9   date_of_first_exploit  67 non-null     datetime64[ns]\n",
      " 10  patch_release_date     67 non-null     datetime64[ns]\n",
      " 11  cvss                   67 non-null     float64       \n",
      " 12  cvss_status            67 non-null     category      \n",
      " 13  days_to_patch_release  67 non-null     float64       \n",
      " 14  days_to_first_exploit  67 non-null     float64       \n",
      " 15  year_start_y           56 non-null     float64       \n",
      " 16  year_end_y             56 non-null     float64       \n",
      " 17  attribution_group_y    40 non-null     string        \n",
      " 18  attribution_state_y    63 non-null     string        \n",
      "dtypes: category(1), datetime64[ns](3), float64(7), string(8)\n",
      "memory usage: 12.7 KB\n"
     ]
    }
   ],
   "source": [
    "nsa.info()"
   ]
  },
  {
   "cell_type": "markdown",
   "metadata": {},
   "source": [
    "## Combine Data\n",
    "Because we merged on the attack names alone (which we needed to do to keep the rest of the data), the other columns that existed in both dataframes were duplicated in the merged dataset. The easiest fix is to simply combine the duplicates back into one column and drop the duplicates."
   ]
  },
  {
   "cell_type": "code",
   "execution_count": 14,
   "metadata": {},
   "outputs": [],
   "source": [
    "# Combining \"year_start\"\n",
    "nsa['year_start'] = nsa['year_start_x'].combine_first(nsa['year_start_y'])\n",
    "\n",
    "# Combining \"year_end\"\n",
    "nsa['year_end'] = nsa['year_end_x'].combine_first(nsa['year_end_y'])\n",
    "\n",
    "# Combining \"attribution_group\"\n",
    "nsa['attribution_group'] = nsa['attribution_group_x'].combine_first(nsa['attribution_group_y'])\n",
    "\n",
    "# Combining \"attribution_state\"\n",
    "nsa['attribution_state'] = nsa['attribution_state_x'].combine_first(nsa['attribution_state_y'])\n",
    "\n",
    "# Combining \"cve_id\"\n",
    "nsa['cve_id'] = nsa['cve_id_x'].combine_first(nsa['cve_id_y'])"
   ]
  },
  {
   "cell_type": "markdown",
   "metadata": {},
   "source": [
    "## Populate the Description Column\n",
    "Because descriptions of the CVEs were only present for one of the datasets' CVE IDs, we'll pull in the cleaned up CVE data `cve_list_v3` and merge them leftwardly into the NSA data. We'll then need to drop a host of as yet unwanted columns. "
   ]
  },
  {
   "cell_type": "code",
   "execution_count": 15,
   "metadata": {},
   "outputs": [],
   "source": [
    "# Import CVE data\n",
    "cves = pd.read_parquet(path='../data/CVE_Project/cvelistV5/cve_list_v3.parquet')\n",
    "\n",
    "# Merge with just the descriptions\n",
    "nsa = nsa.merge(\n",
    "    cves[['cve_id', 'description']],\n",
    "    on=['cve_id'],\n",
    "    how='left'\n",
    ")\n",
    "\n",
    "# Combine the descriptions\n",
    "nsa['description'] = nsa['description_x'].combine_first(nsa['description_y'])"
   ]
  },
  {
   "cell_type": "markdown",
   "metadata": {},
   "source": [
    "## Drop Unnecessary Columns"
   ]
  },
  {
   "cell_type": "code",
   "execution_count": 16,
   "metadata": {},
   "outputs": [
    {
     "name": "stdout",
     "output_type": "stream",
     "text": [
      "<class 'pandas.core.frame.DataFrame'>\n",
      "RangeIndex: 87 entries, 0 to 86\n",
      "Data columns (total 14 columns):\n",
      " #   Column                 Non-Null Count  Dtype         \n",
      "---  ------                 --------------  -----         \n",
      " 0   attack_name            87 non-null     string        \n",
      " 1   cve_list_date          67 non-null     datetime64[ns]\n",
      " 2   date_of_first_exploit  67 non-null     datetime64[ns]\n",
      " 3   patch_release_date     67 non-null     datetime64[ns]\n",
      " 4   cvss                   67 non-null     float64       \n",
      " 5   cvss_status            67 non-null     category      \n",
      " 6   days_to_patch_release  67 non-null     float64       \n",
      " 7   days_to_first_exploit  67 non-null     float64       \n",
      " 8   year_start             80 non-null     float64       \n",
      " 9   year_end               80 non-null     float64       \n",
      " 10  attribution_group      48 non-null     string        \n",
      " 11  attribution_state      79 non-null     string        \n",
      " 12  cve_id                 83 non-null     string        \n",
      " 13  description            82 non-null     string        \n",
      "dtypes: category(1), datetime64[ns](3), float64(5), string(5)\n",
      "memory usage: 9.3 KB\n"
     ]
    }
   ],
   "source": [
    "unnecessary_cols = [\n",
    "    'year_start_x',\n",
    "    'year_start_y',\n",
    "    'year_end_x',\n",
    "    'year_end_y',\n",
    "    'attribution_group_x',\n",
    "    'attribution_group_y',\n",
    "    'attribution_state_x',\n",
    "    'attribution_state_y',\n",
    "    'cve_id_x',\n",
    "    'cve_id_y',\n",
    "    'description_x',\n",
    "    'description_y'\n",
    "]\n",
    "\n",
    "nsa = nsa.drop(columns=unnecessary_cols)\n",
    "nsa.info()"
   ]
  },
  {
   "cell_type": "markdown",
   "metadata": {},
   "source": [
    "<span style='color:#ffcc00;text-shadow:0 0 3px #ffcc00;'>This is the only description not found for its respective CVE ID, and its because such an ID doesn't exist in MITRE's data.</span>"
   ]
  },
  {
   "cell_type": "code",
   "execution_count": 21,
   "metadata": {},
   "outputs": [
    {
     "data": {
      "text/html": [
       "<div>\n",
       "<style scoped>\n",
       "    .dataframe tbody tr th:only-of-type {\n",
       "        vertical-align: middle;\n",
       "    }\n",
       "\n",
       "    .dataframe tbody tr th {\n",
       "        vertical-align: top;\n",
       "    }\n",
       "\n",
       "    .dataframe thead th {\n",
       "        text-align: right;\n",
       "    }\n",
       "</style>\n",
       "<table border=\"1\" class=\"dataframe\">\n",
       "  <thead>\n",
       "    <tr style=\"text-align: right;\">\n",
       "      <th></th>\n",
       "      <th>attack_name</th>\n",
       "      <th>cve_list_date</th>\n",
       "      <th>date_of_first_exploit</th>\n",
       "      <th>patch_release_date</th>\n",
       "      <th>cvss</th>\n",
       "      <th>cvss_status</th>\n",
       "      <th>days_to_patch_release</th>\n",
       "      <th>days_to_first_exploit</th>\n",
       "      <th>year_start</th>\n",
       "      <th>year_end</th>\n",
       "      <th>attribution_group</th>\n",
       "      <th>attribution_state</th>\n",
       "      <th>cve_id</th>\n",
       "      <th>description</th>\n",
       "    </tr>\n",
       "  </thead>\n",
       "  <tbody>\n",
       "    <tr>\n",
       "      <th>80</th>\n",
       "      <td>Volt Typhoon</td>\n",
       "      <td>2022-05-10</td>\n",
       "      <td>2023-04-25</td>\n",
       "      <td>2022-06-06</td>\n",
       "      <td>6.5</td>\n",
       "      <td>medium</td>\n",
       "      <td>27.0</td>\n",
       "      <td>350.0</td>\n",
       "      <td>NaN</td>\n",
       "      <td>NaN</td>\n",
       "      <td>&lt;NA&gt;</td>\n",
       "      <td>China</td>\n",
       "      <td>CVE-2022-26658</td>\n",
       "      <td>&lt;NA&gt;</td>\n",
       "    </tr>\n",
       "  </tbody>\n",
       "</table>\n",
       "</div>"
      ],
      "text/plain": [
       "     attack_name cve_list_date date_of_first_exploit patch_release_date  cvss  \\\n",
       "80  Volt Typhoon    2022-05-10            2023-04-25         2022-06-06   6.5   \n",
       "\n",
       "   cvss_status  days_to_patch_release  days_to_first_exploit  year_start  \\\n",
       "80      medium                   27.0                  350.0         NaN   \n",
       "\n",
       "    year_end attribution_group attribution_state          cve_id description  \n",
       "80       NaN              <NA>             China  CVE-2022-26658        <NA>  "
      ]
     },
     "execution_count": 21,
     "metadata": {},
     "output_type": "execute_result"
    }
   ],
   "source": [
    "nsa[(nsa['cve_id'].notnull()) & nsa['description'].isnull()].head()"
   ]
  },
  {
   "cell_type": "markdown",
   "metadata": {},
   "source": [
    "## Series of Rapid Checks"
   ]
  },
  {
   "cell_type": "code",
   "execution_count": 17,
   "metadata": {},
   "outputs": [],
   "source": [
    "# Update data types\n",
    "floats = nsa.select_dtypes(include=['float']).columns\n",
    "wanted_floats = [col for col in floats if col != 'cvss']\n",
    "nsa[wanted_floats] = nsa[wanted_floats].astype('Int64')\n",
    "\n",
    "# Convert datetime to UTC time\n",
    "dates = nsa.select_dtypes(include=['datetime64[ns]']).columns\n",
    "nsa[dates] = nsa[dates].apply(pd.to_datetime, utc=True)\n",
    "\n",
    "# Convert into categorical data types\n",
    "cat_cols = [\n",
    "    'attack_name',\n",
    "    'attribution_group',\n",
    "    'attribution_state'\n",
    "]\n",
    "for col in cat_cols:\n",
    "    nsa[col] = nsa[col].astype('category')\n",
    "\n",
    "# Remove whitespace\n",
    "str_cols = nsa.select_dtypes(include=['string']).columns\n",
    "nsa[str_cols] = nsa[str_cols].apply(lambda x: x.str.strip())"
   ]
  },
  {
   "cell_type": "code",
   "execution_count": 18,
   "metadata": {},
   "outputs": [
    {
     "name": "stdout",
     "output_type": "stream",
     "text": [
      "<class 'pandas.core.frame.DataFrame'>\n",
      "RangeIndex: 87 entries, 0 to 86\n",
      "Data columns (total 14 columns):\n",
      " #   Column                 Non-Null Count  Dtype              \n",
      "---  ------                 --------------  -----              \n",
      " 0   attack_name            87 non-null     category           \n",
      " 1   cve_list_date          67 non-null     datetime64[ns, UTC]\n",
      " 2   date_of_first_exploit  67 non-null     datetime64[ns, UTC]\n",
      " 3   patch_release_date     67 non-null     datetime64[ns, UTC]\n",
      " 4   cvss                   67 non-null     float64            \n",
      " 5   cvss_status            67 non-null     category           \n",
      " 6   days_to_patch_release  67 non-null     Int64              \n",
      " 7   days_to_first_exploit  67 non-null     Int64              \n",
      " 8   year_start             80 non-null     Int64              \n",
      " 9   year_end               80 non-null     Int64              \n",
      " 10  attribution_group      48 non-null     category           \n",
      " 11  attribution_state      79 non-null     category           \n",
      " 12  cve_id                 83 non-null     string             \n",
      " 13  description            82 non-null     string             \n",
      "dtypes: Int64(4), category(4), datetime64[ns, UTC](3), float64(1), string(2)\n",
      "memory usage: 9.1 KB\n"
     ]
    }
   ],
   "source": [
    "nsa.info()"
   ]
  },
  {
   "cell_type": "markdown",
   "metadata": {},
   "source": [
    "## Saving the Data"
   ]
  },
  {
   "cell_type": "code",
   "execution_count": 19,
   "metadata": {},
   "outputs": [],
   "source": [
    "nsa.to_parquet(path='../data/nsa_data_v2.parquet')"
   ]
  }
 ],
 "metadata": {
  "kernelspec": {
   "display_name": "ml-env",
   "language": "python",
   "name": "python3"
  },
  "language_info": {
   "codemirror_mode": {
    "name": "ipython",
    "version": 3
   },
   "file_extension": ".py",
   "mimetype": "text/x-python",
   "name": "python",
   "nbconvert_exporter": "python",
   "pygments_lexer": "ipython3",
   "version": "3.10.13"
  }
 },
 "nbformat": 4,
 "nbformat_minor": 2
}
